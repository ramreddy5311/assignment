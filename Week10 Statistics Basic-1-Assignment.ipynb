{
 "cells": [
  {
   "cell_type": "code",
   "execution_count": 1,
   "id": "569893e3-bc1a-4cb7-9e73-9240814e1ddb",
   "metadata": {},
   "outputs": [],
   "source": [
    "# Q1. What is Statistics?"
   ]
  },
  {
   "cell_type": "code",
   "execution_count": 2,
   "id": "66683fbd-44db-4cbf-a78c-201d193c54e7",
   "metadata": {},
   "outputs": [],
   "source": [
    "# Answer:\n",
    "\n",
    "# Statistics is a branch of mathematics that involves collecting, organizing, analyzing, interpreting, and presenting numerical data.\n",
    "# It encompasses a range of techniques and methodologies for making sense of data and extracting meaningful insights from it.\n",
    "# Statistics is used in various fields such as science, business, economics, social sciences, engineering, and more to aid in decision-making, hypothesis testing, forecasting, and understanding patterns and relationships within data. It involves both descriptive statistics, which summarize and describe data, and inferential statistics, which draw conclusions and make predictions based on sample data about larger populations."
   ]
  },
  {
   "cell_type": "code",
   "execution_count": 3,
   "id": "6d903b13-4778-42a4-b9a1-53ce46fcc2c5",
   "metadata": {},
   "outputs": [],
   "source": [
    "# Q2. Define the different types of statistics and give an example of when each type might be used."
   ]
  },
  {
   "cell_type": "code",
   "execution_count": 4,
   "id": "d112ae5b-3617-4b1c-b8c0-f57fe3b3aa10",
   "metadata": {},
   "outputs": [],
   "source": [
    "# Answer:\n",
    "    \n",
    "# Descriptive Statistics: \n",
    "\n",
    "#Descriptive statistics involve summarizing and describing the main features of a dataset.\n",
    "# This includes measures such as mean, median, mode, range, variance, and standard deviation.\n",
    "# Descriptive statistics are used to provide a concise summary of the data and to understand its characteristics without making inferences beyond the dataset itself.\n",
    "\n",
    "# Example: a researcher might use descriptive statistics to summarize the exam scores of students in a class, providing information about the average score, variability, and distribution of scores."
   ]
  },
  {
   "cell_type": "code",
   "execution_count": 5,
   "id": "1c0f63c8-2ad8-4a67-8ef1-76aa29541cd8",
   "metadata": {},
   "outputs": [],
   "source": [
    "# Inferential Statistics:\n",
    "\n",
    "# Inferential statistics involve making inferences and predictions about a population based on sample data.\n",
    "# This includes techniques such as hypothesis testing, confidence intervals, and regression analysis. \n",
    "# Inferential statistics are used when we want to draw conclusions about a larger population based on a sample from that population. \n",
    "\n",
    "# Example: a pharmaceutical company might use inferential statistics to test the effectiveness of a new drug by comparing outcomes in a sample of patients who received the drug with those who received a placebo."
   ]
  },
  {
   "cell_type": "code",
   "execution_count": 6,
   "id": "66d4eb77-d1bb-4627-9b85-0852826d2a7c",
   "metadata": {},
   "outputs": [],
   "source": [
    "# Q3. What are the different types of data and how do they differ from each other? Provide an example of\n",
    "# each type of data."
   ]
  },
  {
   "cell_type": "code",
   "execution_count": 7,
   "id": "bab39572-337d-40ef-beaf-8302433ed35e",
   "metadata": {},
   "outputs": [],
   "source": [
    "# Answer :\n",
    "\n",
    "# Qualitative and quantitative data are two broad categories of data.\n",
    "\n",
    "# 1)Qualitative data consists of descriptive or categorical information.\n",
    "# 2)Quantitative data consists of numerical measurements.\n",
    "\n",
    "# Qualitative and Quantiative are further classified into below categories :\n",
    "\n",
    "# Qualitative Data :\n",
    "# Nominal Data\n",
    "# Ordinal Data\n",
    "\n",
    "# Quantiative Data :\n",
    "# Discrete Data\n",
    "# Continuous Data\n",
    "\n",
    "# Type of Data\t                              Definition\t                                                                Examples\n",
    "# Qualitative/Nominal\t             Descriptive or categorical information that cannot be ranked or ordered\t              gender, car manufacturer, Cuisine\n",
    "# Qualitative/Ordinal              Descriptive or categorical information that can be ranked or ordered,                    socioeconomic status\n",
    "#                                  but the intervals between categories are not necessarily equal\tEducation level,          Clothing Sizes(S,M,L,XL)\n",
    "# Quantitative/Discrete\t         Numerical values that can only take on specific values, typically integers               Number of children in a family,number of cars in a household\n",
    "# Quantitative/Continuous          Numerical values that can take on any value within a range\t                              length, Temperature, Humidity, Time"
   ]
  },
  {
   "cell_type": "code",
   "execution_count": 8,
   "id": "df3793c6-afbc-4a2d-9c3f-03d5c237df3e",
   "metadata": {},
   "outputs": [],
   "source": [
    "# Q4. Categorise the following datasets with respect to quantitative and qualitative data types:\n",
    "# (i) Grading in exam: A+, A, B+, B, C+, C, D, E\n",
    "# (ii) Colour of mangoes: yellow, green, orange, red\n",
    "# (iii) Height data of a class: [178.9, 179, 179.5, 176, 177.2, 178.3, 175.8,...]\n",
    "# (iv) Number of mangoes exported by a farm: [500, 600, 478, 672, ...]"
   ]
  },
  {
   "cell_type": "code",
   "execution_count": 9,
   "id": "4f7dd373-2775-4a49-8530-c0608fbef8e4",
   "metadata": {},
   "outputs": [],
   "source": [
    "# Answer :\n",
    "\n",
    "\n",
    "# 1. Grading in exam: A+, A, B+, B, C+, C, D, E :\n",
    "# Grading in Exam is a Qualitative Ordinal Variable with A+ variable being highest rank and E being lowest\n",
    "\n",
    "# 2. Colour of mangoes: yellow, green, orange, red :\n",
    "# Colour of Mangoes is a Qualitative Nominal Variable because colour cannot have a ranking\n",
    "\n",
    "# 3. Height data of a class: [178.9, 179, 179.5, 176, 177.2, 178.3, 175.8,...] :\n",
    "# Height Data of a class is a Quantitative Continuous Variable because this is numeric measurement and is not restricted to be an integer\n",
    "\n",
    "# 4. Number of mangoes exported by a farm: [500, 600, 478, 672, …] :\n",
    "# Number of mangoes exported is a Quantitative Discrete Variable because this is numeric measurement and will always be an integer"
   ]
  },
  {
   "cell_type": "code",
   "execution_count": 10,
   "id": "2d299cf9-3f02-4493-9df5-5d2556c30f63",
   "metadata": {},
   "outputs": [],
   "source": [
    "# Q5. Explain the concept of levels of measurement and give an example of a variable for each level."
   ]
  },
  {
   "cell_type": "code",
   "execution_count": 11,
   "id": "383fa54b-e4fd-4a1a-b6bc-9e6f51e54ccc",
   "metadata": {},
   "outputs": [],
   "source": [
    "# Answer:\n",
    "    \n",
    "\n",
    "# Levels of measurement, also known as scales of measurement, refer to the different ways in which variables can be categorized and measured. \n",
    "# There are four primary levels of measurement: nominal, ordinal, interval, and ratio. \n",
    "# Each level has distinct characteristics and implications for data analysis.\n",
    "\n",
    "# Nominal Level of Measurement:\n",
    "#At the nominal level, data are categorized into distinct, non-ordered categories or groups. Nominal data only provide labels or names for different groups without implying any order or ranking. Examples of nominal variables include:\n",
    "\n",
    "# Gender (e.g., male, female)\n",
    "# Ethnicity (e.g., Caucasian, African American, Hispanic)\n",
    "# Marital status (e.g., single, married, divorced)\n",
    "# Types of fruits (e.g., apple, banana, orange)\n",
    "\n",
    "# Ordinal Level of Measurement:\n",
    "#The ordinal level of measurement involves variables that can be categorized into ordered or ranked categories. Unlike nominal data, ordinal data have a natural order, but the intervals between the categories may not be equal. Examples of ordinal variables include:\n",
    "\n",
    "# Educational attainment (e.g., high school diploma, bachelor's degree, master's degree)\n",
    "# Socioeconomic status (e.g., low, middle, high income)\n",
    "# Likert scale responses (e.g., strongly disagree, disagree, neutral, agree, strongly agree)\n",
    "\n",
    "# Interval Level of Measurement: \n",
    "#Interval data have equal intervals between values, but there is no true zero point. This means that while it's possible to measure the differences between values, ratios and absolute differences are not meaningful. Examples of interval variables include:\n",
    "\n",
    "# Temperature measured in Celsius or Fahrenheit (e.g., 20°C, 30°C, 40°F)\n",
    "# Dates (e.g., January 1, 2022; February 15, 2023; March 10, 2024)\n",
    "# IQ scores (e.g., 100, 110, 120)\n",
    "\n",
    "# Ratio Level of Measurement:\n",
    "#Ratio data have equal intervals between values and a true zero point. This means that not only can you measure the differences between values, but you can also form meaningful ratios. Examples of ratio variables include:\n",
    "\n",
    "# Height (e.g., 150 cm, 170 cm, 180 cm)\n",
    "# Weight (e.g., 50 kg, 70 kg, 90 kg)\n",
    "# Income (e.g., $30,000, $50,000, $70,000)"
   ]
  },
  {
   "cell_type": "code",
   "execution_count": 12,
   "id": "ff6837a7-a8c6-4855-a6d1-e91572d7d051",
   "metadata": {},
   "outputs": [],
   "source": [
    "# Q6. Why is it important to understand the level of measurement when analyzing data? Provide an\n",
    "# example to illustrate your answer.A"
   ]
  },
  {
   "cell_type": "code",
   "execution_count": 13,
   "id": "f23f1d7d-d1e5-4527-b885-e818b9006cdc",
   "metadata": {},
   "outputs": [],
   "source": [
    "# Answer:\n",
    "# Understanding the level of measurement of a variable is important because it determines the types of statistical analyses that can be performed and the appropriate interpretation of the results.\n",
    "# In other words, the level of measurement helps researchers to identify the appropriate statistical procedures and tests to use when analyzing data.\n",
    "# Using the wrong statistical procedure for a given level of measurement can result in misleading or inaccurate conclusions.\n",
    "\n",
    "# For example, let's consider a study that examines the relationship between income and job satisfaction among employees in a company.\n",
    "# The income variable is a ratio-level variable because it has a true zero point (no income) and equal intervals between values. In contrast, job satisfaction is an ordinal-level variable because it has a specific order or rank, but unequal or non-meaningful differences between categories.\n",
    "# If the researcher were to use a correlation analysis to examine the relationship between these two variables, the result would be incorrect because correlation is only appropriate for ratio-level variables. Instead, a more appropriate statistical test for analyzing the relationship between a ratio-level and ordinal-level variable would be a chi-squared test or a t-test.\n",
    "\n",
    "# In summary, understanding the level of measurement of variables is crucial for selecting appropriate statistical methods and interpreting results accurately in data analysis."
   ]
  },
  {
   "cell_type": "code",
   "execution_count": 14,
   "id": "c38ab480-bb7a-4b24-9e77-0f3182386d40",
   "metadata": {},
   "outputs": [],
   "source": [
    "# Q7. How nominal data type is different from ordinal data type."
   ]
  },
  {
   "cell_type": "code",
   "execution_count": 15,
   "id": "27711ce6-deef-4dcb-87c1-3cd5ec2248d1",
   "metadata": {},
   "outputs": [],
   "source": [
    "# Answer :\n",
    "# Nominal and ordinal data are both types of categorical data, but they differ in the level of measurement and the type of information they provide.\n",
    "# Nominal data is the lowest level of measurement and refers to data that is categorized without any numerical or quantitative value. \n",
    "# In other words, nominal data consists of categories that are mutually exclusive and do not have any inherent order or ranking.\n",
    "\n",
    "# Examples of nominal data include gender (male/female), hair color (blonde/brunette/red), and marital status (single/married/divorced).\n",
    "# Ordinal data, on the other hand, is the second level of measurement and refers to data that has an inherent order or ranking, but the differences between categories may not be equal or meaningful. Examples of ordinal data include educational level (elementary school, high school, college), level of agreement (strongly disagree, disagree, neutral, agree, strongly agree), and rating scales (poor, fair, good, excellent)."
   ]
  },
  {
   "cell_type": "code",
   "execution_count": 16,
   "id": "4af93f15-5476-4ef9-b87f-e0ea2aa99002",
   "metadata": {},
   "outputs": [],
   "source": [
    "# Q8. Which type of plot can be used to display data in terms of range?"
   ]
  },
  {
   "cell_type": "code",
   "execution_count": 17,
   "id": "2497ab54-1385-4917-9a91-ceba32c06337",
   "metadata": {},
   "outputs": [],
   "source": [
    "# Answer:\n",
    "    \n",
    "\n",
    "# A type of plot that can be used to display data in terms of range is a box plot or box-and-whisker plot.\n",
    "\n",
    "# A box plot provides a graphical summary of the distribution of a dataset, including the minimum, maximum, median, and quartiles. \n",
    "# The \"box\" represents the interquartile range (IQR), which encompasses the middle 50% of the data, while the \"whiskers\" extend to the minimum and maximum values, or they may extend to a certain multiple of the IQR beyond the quartiles.\n",
    "# This allows you to see the spread of the data and identify any outliers.\n",
    "\n",
    "# Box plots are particularly useful for comparing the ranges of multiple datasets or for visualizing the spread of data within a single dataset. \n",
    "# They are especially helpful when dealing with skewed distributions or datasets with outliers, as they provide a robust summary of the data's range without being overly sensitive to extreme values.\n"
   ]
  },
  {
   "cell_type": "code",
   "execution_count": 18,
   "id": "1fcab278-3fda-41ea-9cd2-6bc386c62de0",
   "metadata": {},
   "outputs": [],
   "source": [
    "# Q9. Describe the difference between descriptive and inferential statistics. Give an example of each\n",
    "# type of statistics and explain how they are used."
   ]
  },
  {
   "cell_type": "code",
   "execution_count": 19,
   "id": "98e2e4f9-3bfe-416f-9181-6813341f2021",
   "metadata": {},
   "outputs": [],
   "source": [
    "# Answer:\n",
    "    \n",
    "\n",
    "# Descriptive and inferential statistics are two branches of statistics that serve distinct purposes:\n",
    "\n",
    "# Descriptive Statistics:\n",
    "\n",
    "# Descriptive statistics involve methods for summarizing and describing the main features of a dataset. These statistics provide a clear and concise summary of the data, allowing researchers to understand its characteristics without making inferences beyond the dataset itself.\n",
    "# Descriptive statistics are used to organize, present, and describe data sets. They include measures such as mean, median, mode, range, variance, and standard deviation.\n",
    "# Example: Suppose a researcher collects data on the heights of students in a classroom. Descriptive statistics would be used to calculate measures such as the mean height, median height, and range of heights in the dataset.\n",
    "# These statistics provide a summary of the students' heights without making any predictions or inferences about the broader population.\n",
    "\n",
    "# Inferential Statistics:\n",
    "\n",
    "# Inferential statistics involve methods for making inferences and predictions about a population based on sample data. These statistics allow researchers to draw conclusions about a larger population based on observations and analyses of a sample from that population.\n",
    "# Inferential statistics are used to test hypotheses, make predictions, and generalize findings from a sample to a population. They include techniques such as hypothesis testing, confidence intervals, and regression analysis.\n",
    "# Example: Continuing with the example of student heights, suppose the researcher wants to determine whether the average height of students in the classroom is representative of the average height of students in the entire school.\n",
    "# Inferential statistics would be used to analyze the sample data from the classroom and make inferences about the population of all students in the school.\n",
    "\n",
    "# In summary, descriptive statistics are used to summarize and describe data, providing insights into its main features, while inferential statistics are used to make predictions and draw conclusions about a population based on sample data. Both types of statistics play important roles in the analysis and interpretation of data in research and decision-making processes."
   ]
  },
  {
   "cell_type": "code",
   "execution_count": 20,
   "id": "df842151-c6c3-4ab3-8af7-569d6f08c25c",
   "metadata": {},
   "outputs": [],
   "source": [
    "# Q10. What are some common measures of central tendency and variability used in statistics? Explain\n",
    "# how each measure can be used to describe a dataset."
   ]
  },
  {
   "cell_type": "code",
   "execution_count": null,
   "id": "a24303e1-cad9-433e-895b-6ffb9e53c434",
   "metadata": {},
   "outputs": [],
   "source": [
    "# Answer:\n",
    "    \n",
    "\n",
    "# Common measures of central tendency and variability are used to summarize and describe the characteristics of a dataset. Here are some of the most common measures:\n",
    "\n",
    "# Measures of Central Tendency:\n",
    "\n",
    "# a. Mean: The mean, or average, is calculated by summing all the values in a dataset and dividing by the total number of values. It represents the center of the distribution.\n",
    "\n",
    "# b. Median: The median is the middle value in a dataset when the values are arranged in ascending or descending order. It divides the dataset into two equal halves.\n",
    "\n",
    "# c. Mode: The mode is the value that appears most frequently in a dataset. It represents the most common value or values.\n",
    "\n",
    "# Measures of central tendency provide insights into the typical or central value of the dataset and can be used to summarize its overall trend or concentration.\n",
    "\n",
    "# Measures of Variability:\n",
    "\n",
    "# a. Range: The range is the difference between the maximum and minimum values in a dataset. It provides a simple measure of the spread of the data.\n",
    "\n",
    "# b. Variance: Variance measures the average squared deviation of each data point from the mean. It quantifies the dispersion of data points around the mean.\n",
    "\n",
    "# c. Standard Deviation: The standard deviation is the square root of the variance. It provides a measure of the average distance of data points from the mean. A larger standard deviation indicates greater variability in the dataset.\n",
    "\n",
    "# Measures of variability help to quantify the spread or dispersion of the data around the central tendency. They provide information about the extent to which individual data points deviate from the central value."
   ]
  }
 ],
 "metadata": {
  "kernelspec": {
   "display_name": "Python 3 (ipykernel)",
   "language": "python",
   "name": "python3"
  },
  "language_info": {
   "codemirror_mode": {
    "name": "ipython",
    "version": 3
   },
   "file_extension": ".py",
   "mimetype": "text/x-python",
   "name": "python",
   "nbconvert_exporter": "python",
   "pygments_lexer": "ipython3",
   "version": "3.10.8"
  }
 },
 "nbformat": 4,
 "nbformat_minor": 5
}
