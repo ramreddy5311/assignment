{
 "cells": [
  {
   "cell_type": "code",
   "execution_count": 1,
   "id": "4c61c111-9fcf-4738-bb82-97db7d1e7e9f",
   "metadata": {},
   "outputs": [],
   "source": [
    "# Q1. What are the three measures of central tendency?"
   ]
  },
  {
   "cell_type": "code",
   "execution_count": 2,
   "id": "bb4060cf-94df-4078-af78-f89f48122c8f",
   "metadata": {},
   "outputs": [],
   "source": [
    "# Answer :\n",
    "\n",
    "# The three measures of central tendency are:\n",
    "# Mean: The mean is the sum of all values in a dataset divided by the total number of values. It represents the average value of a dataset.\n",
    "\n",
    "# Median: The median is the middle value of a dataset when the values are arranged in ascending order. If there are an even number of values, the median is the average of the two middle values.\n",
    "\n",
    "# Mode: The mode is the value that occurs most frequently in a dataset. If there are multiple values with the same highest frequency, the dataset is said to have multiple modes."
   ]
  },
  {
   "cell_type": "code",
   "execution_count": 3,
   "id": "e364c16c-c4d1-43b0-8dae-b31f81af5d9e",
   "metadata": {},
   "outputs": [],
   "source": [
    "# Q2. What is the difference between the mean, median, and mode? How are they used to measure the\n",
    "# central tendency of a dataset?"
   ]
  },
  {
   "cell_type": "code",
   "execution_count": 4,
   "id": "06a6b446-98c7-452f-9db3-f73d71ec46a1",
   "metadata": {},
   "outputs": [],
   "source": [
    "# Answer:\n",
    "\n",
    "# Below is Comparison between mean, median, mode along with their use :\n",
    "    \n",
    "# Measure of                          Calculation                                                            Sensitivity to                   Usefulness                                                               How they are used to\n",
    "# Central Tendency\t                                 \t                                                                                  Extreme Values\t              \t                                       measure central tendency\n",
    "                                                                                                                                                   \n",
    "# Mean\t                 Sum of all values / Total number of values                                \t         Sensitive\t                   When the data is normally distributed or symmetrical  \t                It represents the arithmetic average of the dataset\n",
    "# Median                   Middle value when data is ordered from lowest to highest or highest to lowest\t     Robust              \t       When the data has extreme values or is skewed     \t                    It represents the value that splits the dataset in half\n",
    "# Mode\t                 Value that occurs most frequently in a dataset\t                                     Insensitive\t               When we want to know which value occurs most frequently in the data    \tIt represents the most common value in the dataset"
   ]
  },
  {
   "cell_type": "code",
   "execution_count": 5,
   "id": "d79c1c14-5b7f-4055-a569-e6990179bd06",
   "metadata": {},
   "outputs": [],
   "source": [
    "# Q3. Measure the three measures of central tendency for the given height data:\n",
    "# [178,177,176,177,178.2,178,175,179,180,175,178.9,176.2,177,172.5,178,176.5]"
   ]
  },
  {
   "cell_type": "code",
   "execution_count": 6,
   "id": "8295ecb6-04ca-4360-8d1f-6610a45229b5",
   "metadata": {},
   "outputs": [],
   "source": [
    "heights = [178,177,176,177,178.2,178,175,179,180,175,178.9,176.2,177,172.5,178,176.5]"
   ]
  },
  {
   "cell_type": "code",
   "execution_count": 7,
   "id": "6079d74e-3393-48a9-ada6-f8b26a2a5d7b",
   "metadata": {},
   "outputs": [],
   "source": [
    "import numpy as np"
   ]
  },
  {
   "cell_type": "code",
   "execution_count": 8,
   "id": "f0190df9-f5a5-467f-ae5d-097ffe980826",
   "metadata": {},
   "outputs": [
    {
     "data": {
      "text/plain": [
       "177.01875"
      ]
     },
     "execution_count": 8,
     "metadata": {},
     "output_type": "execute_result"
    }
   ],
   "source": [
    "np.mean(heights)"
   ]
  },
  {
   "cell_type": "code",
   "execution_count": 10,
   "id": "a39220d6-d084-4576-b681-c412465c8375",
   "metadata": {},
   "outputs": [
    {
     "data": {
      "text/plain": [
       "177.0"
      ]
     },
     "execution_count": 10,
     "metadata": {},
     "output_type": "execute_result"
    }
   ],
   "source": [
    "np.median(heights)"
   ]
  },
  {
   "cell_type": "code",
   "execution_count": 15,
   "id": "7591b1c2-e35c-49ea-b7fb-c415aabcbf78",
   "metadata": {},
   "outputs": [
    {
     "name": "stdout",
     "output_type": "stream",
     "text": [
      "Mode for given height data is ModeResult(mode=177.0, count=3)\n"
     ]
    }
   ],
   "source": [
    "from scipy.stats import mode\n",
    "heights_mode = mode(heights,keepdims=False)\n",
    "print(f'Mode for given height data is {heights_mode}')"
   ]
  },
  {
   "cell_type": "code",
   "execution_count": 16,
   "id": "d172bc11-cbb9-4dee-b795-943db5143676",
   "metadata": {},
   "outputs": [],
   "source": [
    "# Q4. Find the standard deviation for the given data:\n",
    "# [178,177,176,177,178.2,178,175,179,180,175,178.9,176.2,177,172.5,178,176.5]"
   ]
  },
  {
   "cell_type": "code",
   "execution_count": 17,
   "id": "016eda71-8c81-4437-88aa-cbfed0b4cabd",
   "metadata": {},
   "outputs": [
    {
     "name": "stdout",
     "output_type": "stream",
     "text": [
      "Standard Deviation for give data is 1.7886\n"
     ]
    }
   ],
   "source": [
    "import numpy as np\n",
    "data = [178,177,176,177,178.2,178,175,179,180,175,178.9,176.2,177,172.5,178,176.5]\n",
    "data_std = np.std(data)\n",
    "print(f'Standard Deviation for give data is {round(data_std,4)}')"
   ]
  },
  {
   "cell_type": "code",
   "execution_count": 18,
   "id": "99241f4a-3228-4bcd-8c17-dcc26c220193",
   "metadata": {},
   "outputs": [],
   "source": [
    "# Q5. How are measures of dispersion such as range, variance, and standard deviation used to describe\n",
    "# the spread of a dataset? Provide an example."
   ]
  },
  {
   "cell_type": "code",
   "execution_count": 19,
   "id": "ac20e1b7-7cd1-4998-a083-d40d2d074114",
   "metadata": {},
   "outputs": [],
   "source": [
    "# Answer:\n",
    "\n",
    "# Measures of dispersion, such as range, variance, and standard deviation, are used to describe how spread out the data in a dataset is. Here's how each measure is used:\n",
    "# Range: The range is the difference between the maximum and minimum values in a dataset. It gives an idea of how much the values in the dataset vary from one another. A wider range indicates a more spread-out dataset, while a smaller range indicates a more tightly clustered dataset. For example, consider the following set of data: 10, 20, 30, 40, 50. The range is 50 - 10 = 40, which means the data spans a range of 40 units.\n",
    "# data = [10,20,30,40,50]\n",
    "# range = max(data)-min(data)\n",
    "#       = 50 - 10\n",
    "#       = 40\n",
    "        \n",
    "# Variance: Variance is a measure of how much the values in a dataset deviate from the mean. It is calculated by taking the sum of the squared differences between each value and the mean, divided by the total number of values. A higher variance indicates that the data is more spread out, while a lower variance indicates that the data is more tightly clustered around the mean. For example, consider the following set of data: 10, 20, 30, 40, 50. The mean is 30. The variance is calculated as follows:\n",
    "# variance = [(10 - 30)^2 + (20 - 30)^2 + (30 - 30)^2 + (40 - 30)^2 + (50 - 30)^2] / 5\n",
    "#          = 200 / 5\n",
    "#          = 40\n",
    "        \n",
    "# Standard deviation: The standard deviation is the square root of the variance and is expressed in the same units as the data. It is a more intuitive measure of dispersion because it is in the same units as the data. A higher standard deviation indicates that the data is more spread out, while a lower standard deviation indicates that the data is more tightly clustered around the mean. For example, using the same set of data as above, the standard deviation is calculated as follows:\n",
    "# standard deviation = sqrt(variance)\n",
    "#                    = sqrt(40)\n",
    "#                    = 6.32 (approx.)"
   ]
  },
  {
   "cell_type": "code",
   "execution_count": 20,
   "id": "2cb8a192-a7f4-4003-9402-ec9e9b3d7ec2",
   "metadata": {},
   "outputs": [],
   "source": [
    "# Q6. What is a Venn diagram?"
   ]
  },
  {
   "cell_type": "code",
   "execution_count": 21,
   "id": "910e132e-e146-4c39-8d64-38477cb052c8",
   "metadata": {},
   "outputs": [],
   "source": [
    "# Answer:\n",
    "    \n",
    "# A Venn diagram is a graphical representation used to illustrate the relationships between sets or groups of objects. It consists of overlapping circles or other shapes, each representing a set, and the overlap between them represents the intersection of those sets.\n",
    "\n",
    "# Key features of a Venn diagram:\n",
    "\n",
    "# Sets: Each circle or shape in a Venn diagram represents a set. The elements belonging to a particular set are represented within the boundaries of that shape.\n",
    "\n",
    "# Overlap: When two or more circles overlap, the intersecting region represents the elements that are common to those sets. This area is called the intersection of the sets.\n",
    "\n",
    "# Non-overlapping regions: The regions outside the overlapping areas represent elements that belong exclusively to one set but not to the other(s).\n",
    "\n",
    "# Venn diagrams are commonly used in various fields, including mathematics, statistics, logic, computer science, and more, to visually depict relationships between different sets, compare similarities and differences, and understand logical relationships between categories or groups of data. They provide a clear and intuitive way to represent complex relationships and make it easier to understand and analyze data\n",
    "    "
   ]
  },
  {
   "cell_type": "code",
   "execution_count": 22,
   "id": "889b7a5e-36e2-4b7f-910c-011385949f6a",
   "metadata": {},
   "outputs": [],
   "source": [
    "# Q7. For the two given sets A = (2,3,4,5,6,7) & B = (0,2,6,8,10). Find:\n",
    "# (i) A B\n",
    "# (ii) A ⋃ B"
   ]
  },
  {
   "cell_type": "code",
   "execution_count": 23,
   "id": "940616e8-b6e6-4d62-8ff0-3ee9c1e171f3",
   "metadata": {},
   "outputs": [],
   "source": [
    "A = {2,3,4,5,6,7}\n",
    "B = {0,2,6,8,10}"
   ]
  },
  {
   "cell_type": "code",
   "execution_count": 24,
   "id": "21643281-176a-4574-a475-081bef7a3916",
   "metadata": {},
   "outputs": [
    {
     "data": {
      "text/plain": [
       "{0, 2, 3, 4, 5, 6, 7, 8, 10}"
      ]
     },
     "execution_count": 24,
     "metadata": {},
     "output_type": "execute_result"
    }
   ],
   "source": [
    "A.union(B)"
   ]
  },
  {
   "cell_type": "code",
   "execution_count": 25,
   "id": "b2039854-411d-47dd-910c-d20856acf238",
   "metadata": {},
   "outputs": [
    {
     "data": {
      "text/plain": [
       "{2, 6}"
      ]
     },
     "execution_count": 25,
     "metadata": {},
     "output_type": "execute_result"
    }
   ],
   "source": [
    "A.intersection(B)"
   ]
  },
  {
   "cell_type": "code",
   "execution_count": 26,
   "id": "c9eb44e8-dceb-4584-82c0-7e184f324c5d",
   "metadata": {},
   "outputs": [],
   "source": [
    "# Q8. What do you understand about skewness in data?"
   ]
  },
  {
   "cell_type": "code",
   "execution_count": 27,
   "id": "a26cd95f-d7f6-45a7-bcd6-37a7d09cce27",
   "metadata": {},
   "outputs": [],
   "source": [
    "# Answer:\n",
    "    \n",
    "# Skewness in data refers to the asymmetry or lack of symmetry in the distribution of values. It indicates the degree and direction of deviation from a symmetrical distribution.\n",
    "\n",
    "# There are three main types of skewness:\n",
    "\n",
    "# Positive skewness (right skew): In a positively skewed distribution, the tail on the right-hand side is longer or fatter than the left-hand side. This means that there are more extreme values on the right side of the distribution, pulling the mean towards the higher end of the scale.\n",
    "\n",
    "# Negative skewness (left skew): In a negatively skewed distribution, the tail on the left-hand side is longer or fatter than the right-hand side. This indicates that there are more extreme values on the left side of the distribution, pulling the mean towards the lower end of the scale.\n",
    "\n",
    "# Zero skewness: A distribution is considered to be symmetric if it has zero skewness. In a symmetric distribution, the mean, median, and mode are all equal, and the data is evenly distributed around the mean."
   ]
  },
  {
   "cell_type": "code",
   "execution_count": 28,
   "id": "dd3c9aa3-a091-458d-9180-aebf6b47f51e",
   "metadata": {},
   "outputs": [],
   "source": [
    "# Q9. If a data is right skewed then what will be the position of median with respect to mean?"
   ]
  },
  {
   "cell_type": "code",
   "execution_count": 29,
   "id": "aa61c58d-6908-4f29-a146-6cea149170d8",
   "metadata": {},
   "outputs": [],
   "source": [
    "# Answer:\n",
    "    \n",
    "# In a right-skewed distribution, the tail on the right-hand side is longer or fatter than the left-hand side. This means that there are more extreme values on the right side of the distribution, pulling the mean towards the higher end of the scale.\n",
    "\n",
    "# In such a scenario:\n",
    "\n",
    "# The mean will be greater than the median.\n",
    "# The median will be closer to the left (lower) end of the distribution due to the influence of the longer tail on the right side, which pulls the mean towards higher values."
   ]
  },
  {
   "cell_type": "code",
   "execution_count": 30,
   "id": "f13398b3-c194-4078-af75-4cd658e25617",
   "metadata": {},
   "outputs": [],
   "source": [
    "# Q10. Explain the difference between covariance and correlation. How are these measures used in\n",
    "# statistical analysis?"
   ]
  },
  {
   "cell_type": "code",
   "execution_count": 31,
   "id": "a597f929-4628-4fbb-bcaa-9f2a8764861f",
   "metadata": {},
   "outputs": [],
   "source": [
    "# Answer:\n",
    "    \n",
    "# 1. Covariance : Covariance measures the extent to which two variables vary together. Specifically, it measures the degree to which two variables deviate from their means in similar ways. Mathematically, the covariance between two variables X and Y is calculated as follows:\n",
    "# cov(X,Y) = E[(X - E[X])(Y - E[Y])]\n",
    "# The value of the covariance can range from negative infinity to positive infinity. A positive covariance indicates that the two variables tend to move in the same direction, while a negative covariance indicates that the two variables tend to move in opposite directions. A covariance of zero indicates that the two variables are uncorrelated.\n",
    "\n",
    "# 2. Correlation : Correlation, on the other hand, is a standardized measure of the linear relationship between two variables. Correlation takes on values between -1 and 1, where a correlation of 1 indicates a perfect positive relationship, a correlation of -1 indicates a perfect negative relationship, and a correlation of 0 indicates no linear relationship.\n",
    "# The correlation coefficient between two variables X and Y is calculated as follows:\n",
    "# corr(X,Y) = cov(X,Y) / (SD[X]*SD[Y])\n",
    "# Correlation is a more commonly used measure than covariance, because it is standardized and easier to interpret. Correlation can also be used to compare the strength of the relationship between different pairs of variables on a common scale."
   ]
  },
  {
   "cell_type": "code",
   "execution_count": 32,
   "id": "5b8b0bd9-74da-4728-a788-6513c2fbd988",
   "metadata": {},
   "outputs": [],
   "source": [
    "# Q11. What is the formula for calculating the sample mean? Provide an example calculation for a\n",
    "# dataset."
   ]
  },
  {
   "cell_type": "code",
   "execution_count": 33,
   "id": "3a233456-ad80-4296-94ef-35375ec4a0c7",
   "metadata": {},
   "outputs": [],
   "source": [
    "# Answer :\n",
    "    \n",
    "# The formula for calculating the sample mean is:\n",
    "# x̄ = (x₁ + x₂ + ... + xn) / n\n",
    "# where x₁, x₂, ..., xn are the values in the dataset, and n is the number of values in the sample.\n",
    "# Consider below 5 Values were sampled from a larger dataset\n",
    "# Sample: 4, 6, 2, 9, 5\n",
    "\n",
    "# x̄ = (4 + 6 + 2 + 9 + 5) / 5\n",
    "# x̄ = 26 / 5\n",
    "# x̄ = 5.2"
   ]
  },
  {
   "cell_type": "code",
   "execution_count": 34,
   "id": "0238d4e0-6941-410b-b9e5-359e6b447736",
   "metadata": {},
   "outputs": [],
   "source": [
    "# Q12. For a normal distribution data what is the relationship between its measure of central tendency?"
   ]
  },
  {
   "cell_type": "code",
   "execution_count": 35,
   "id": "71682e40-85e9-4e02-8f89-9ade25929702",
   "metadata": {},
   "outputs": [],
   "source": [
    "# Answer:\n",
    "    \n",
    "# For a normal distribution, which is symmetric and bell-shaped, the relationship between its measures of central tendency (mean, median, and mode) is as follows:\n",
    "\n",
    "# Mean: In a normal distribution, the mean, median, and mode are all equal. They are located at the center of the distribution, which is also the highest point of the symmetric bell-shaped curve.\n",
    "\n",
    "# Median: As mentioned above, the median of a normal distribution is equal to its mean. This is because the distribution is symmetric, and the median represents the middle value, which is the same as the mean in a symmetric distribution.\n",
    "\n",
    "# Mode: In a normal distribution, the mode is also equal to the mean and median. Since the distribution is symmetric, the highest point of the curve (the mode) coincides with the center, where the mean and median are located.\n",
    "\n",
    "# In summary, for a normal distribution:\n",
    "\n",
    "# Mean = Median = Mode\n",
    "# This relationship holds true for any normal distribution, regardless of its mean and standard deviation."
   ]
  },
  {
   "cell_type": "code",
   "execution_count": 36,
   "id": "d556d7f3-2841-4a59-8706-b510e047443d",
   "metadata": {},
   "outputs": [],
   "source": [
    "# Q13. How is covariance different from correlation?"
   ]
  },
  {
   "cell_type": "code",
   "execution_count": 37,
   "id": "f3f20055-bca3-4a04-8c4f-00d4e173ff5f",
   "metadata": {},
   "outputs": [],
   "source": [
    "# Answer :\n",
    "    \n",
    "# Difference in Covariance and Correlation is as follows :\n",
    "    \n",
    "# Measure                                               Definition                                                                                           \n",
    "# Covariance                            \tMeasures the extent to which two variables vary together\t                                                    \n",
    "# Correlation\t                            Measures the strength of the linear relationship between two variables on a standardized scale\n",
    "\n",
    "# The main difference between covariance and correlation is that covariance is an unstandardized measure that reflects the direction and magnitude of the relationship between two variables, while correlation is a standardized measure that reflects only the strength and direction of the linear relationship between two variables.\n",
    "    \n"
   ]
  },
  {
   "cell_type": "code",
   "execution_count": 38,
   "id": "6ff32acc-9635-4554-a3c4-937022af5850",
   "metadata": {},
   "outputs": [],
   "source": [
    "# Answer:\n",
    "\n",
    "# Outliers can significantly affect both measures of central tendency (mean, median, mode) and measures of dispersion (range, variance, standard deviation, interquartile range). Their impact varies depending on the specific measure and the nature of the outlier.\n",
    "\n",
    "# Measures of Central Tendency:\n",
    "\n",
    "# Mean: Outliers can heavily influence the mean because it takes into account the value of each data point. A single extreme value can pull the mean towards it, skewing the result.\n",
    "# Median: Outliers have minimal impact on the median because it only considers the middle value(s) of the dataset. The median is robust against extreme values.\n",
    "# Mode: Outliers typically don't affect the mode since it represents the most frequently occurring value, which may not be influenced by a single extreme value.\n",
    "# Measures of Dispersion:\n",
    "\n",
    "# Range: Outliers can significantly affect the range, especially if they are far from the bulk of the data. The range is simply the difference between the maximum and minimum values, so outliers can expand the range.\n",
    "# Variance and Standard Deviation: Outliers can inflate the variance and standard deviation because they introduce large deviations from the mean. Squaring these deviations in the calculation amplifies their impact, making these measures sensitive to outliers.\n",
    "# Interquartile Range (IQR): Outliers have minimal impact on the IQR because it is based on the quartiles, which are resistant to extreme values."
   ]
  },
  {
   "cell_type": "code",
   "execution_count": 39,
   "id": "5b924f9e-9002-4e99-a136-fadabebba27a",
   "metadata": {},
   "outputs": [],
   "source": [
    "heights = [178,177,176,177,178.2,178,175,179,180,175,178.9,176.2,177,172.5,178,176.5]"
   ]
  },
  {
   "cell_type": "code",
   "execution_count": 40,
   "id": "23fe4a24-8559-4187-8687-fcb6f4677d8b",
   "metadata": {},
   "outputs": [],
   "source": [
    "## Creating a function to calculate and return mean , median and mode for given list\n",
    "import numpy as np\n",
    "from scipy.stats import mode\n",
    "def central_tendency(l:list):\n",
    "    avg = np.mean(l)\n",
    "    mdn = np.median(l)\n",
    "    md = mode(l,keepdims=False)\n",
    "    return avg , mdn, md"
   ]
  },
  {
   "cell_type": "code",
   "execution_count": 41,
   "id": "b3d81d11-ae0b-4554-b438-63f45cf64906",
   "metadata": {},
   "outputs": [
    {
     "name": "stdout",
     "output_type": "stream",
     "text": [
      "Mean of heights WITHOUT outlier is   : 177.01875\n",
      "Median of heights WITHOUT outlier is : 177.0\n",
      "Mode of heights WITHOUT outlier is   : ModeResult(mode=177.0, count=3)\n"
     ]
    }
   ],
   "source": [
    "# Central Tendency\n",
    "avg1, mdn1, md1 = central_tendency(heights)\n",
    "print(f'Mean of heights WITHOUT outlier is   : {avg1}')\n",
    "print(f'Median of heights WITHOUT outlier is : {mdn1}')\n",
    "print(f'Mode of heights WITHOUT outlier is   : {md1}') "
   ]
  },
  {
   "cell_type": "code",
   "execution_count": 42,
   "id": "07ccf979-a744-44c2-b5d9-f16f660d57b0",
   "metadata": {},
   "outputs": [
    {
     "name": "stdout",
     "output_type": "stream",
     "text": [
      "Standard Deviation of heights WITHOUT outlier is : 1.7885814036548633\n"
     ]
    }
   ],
   "source": [
    "# Dispersion\n",
    "std1 = np.std(heights)\n",
    "print(f'Standard Deviation of heights WITHOUT outlier is : {std1}')"
   ]
  },
  {
   "cell_type": "code",
   "execution_count": 43,
   "id": "06564ec9-b14f-472e-831b-50ae44f100d5",
   "metadata": {},
   "outputs": [
    {
     "name": "stdout",
     "output_type": "stream",
     "text": [
      "[178, 177, 176, 177, 178.2, 178, 175, 179, 180, 175, 178.9, 176.2, 177, 172.5, 178, 176.5, 1000.0]\n"
     ]
    }
   ],
   "source": [
    "# Adding a outlier to heights Data , added a 1000.0 as a height value as an outlier\n",
    "\n",
    "import copy\n",
    "heights_2 = copy.deepcopy(heights)\n",
    "heights_2 = heights_2 + [1000.0]\n",
    "print(heights_2)"
   ]
  },
  {
   "cell_type": "code",
   "execution_count": 44,
   "id": "f18f3a2d-a264-4eaf-b825-a8a07a4a97fb",
   "metadata": {},
   "outputs": [
    {
     "name": "stdout",
     "output_type": "stream",
     "text": [
      "Mean of heights WITH outlier is   : 225.4294117647059\n",
      "Median of heights WITH outlier is : 177.0\n",
      "Mode of heights WITH outlier is   : ModeResult(mode=177.0, count=3)\n"
     ]
    }
   ],
   "source": [
    "avg2, mdn2, md2 = central_tendency(heights_2)\n",
    "print(f'Mean of heights WITH outlier is   : {avg2}')\n",
    "print(f'Median of heights WITH outlier is : {mdn2}')\n",
    "print(f'Mode of heights WITH outlier is   : {md2}') "
   ]
  },
  {
   "cell_type": "code",
   "execution_count": 45,
   "id": "68333c6d-4a62-4c93-8e12-9f523c0a6e4e",
   "metadata": {},
   "outputs": [
    {
     "name": "stdout",
     "output_type": "stream",
     "text": [
      "Standard Deviation of heights WITHOUT outlier is : 193.65042113441513\n"
     ]
    }
   ],
   "source": [
    "std2 = np.std(heights_2)\n",
    "print(f'Standard Deviation of heights WITHOUT outlier is : {std2}')"
   ]
  },
  {
   "cell_type": "code",
   "execution_count": 46,
   "id": "8ba3af8b-7658-420c-b8f1-7592e6850219",
   "metadata": {},
   "outputs": [],
   "source": [
    "# Comparison of Results with and without outliers\n",
    "\n",
    "comparison_dict = {\n",
    "    'Statistic':['Mean','Median','Mode','Standard Deviation'],\n",
    "    'Orignal' : [avg1,mdn1,md1[0],std1],\n",
    "    'Outlier' : [avg2,mdn2,md2[0],std2]    \n",
    "}"
   ]
  },
  {
   "cell_type": "code",
   "execution_count": 47,
   "id": "658800d2-0c11-4a3f-811b-f84ec494619c",
   "metadata": {},
   "outputs": [
    {
     "data": {
      "text/html": [
       "<div>\n",
       "<style scoped>\n",
       "    .dataframe tbody tr th:only-of-type {\n",
       "        vertical-align: middle;\n",
       "    }\n",
       "\n",
       "    .dataframe tbody tr th {\n",
       "        vertical-align: top;\n",
       "    }\n",
       "\n",
       "    .dataframe thead th {\n",
       "        text-align: right;\n",
       "    }\n",
       "</style>\n",
       "<table border=\"1\" class=\"dataframe\">\n",
       "  <thead>\n",
       "    <tr style=\"text-align: right;\">\n",
       "      <th></th>\n",
       "      <th>Statistic</th>\n",
       "      <th>Orignal</th>\n",
       "      <th>Outlier</th>\n",
       "    </tr>\n",
       "  </thead>\n",
       "  <tbody>\n",
       "    <tr>\n",
       "      <th>0</th>\n",
       "      <td>Mean</td>\n",
       "      <td>177.018750</td>\n",
       "      <td>225.429412</td>\n",
       "    </tr>\n",
       "    <tr>\n",
       "      <th>1</th>\n",
       "      <td>Median</td>\n",
       "      <td>177.000000</td>\n",
       "      <td>177.000000</td>\n",
       "    </tr>\n",
       "    <tr>\n",
       "      <th>2</th>\n",
       "      <td>Mode</td>\n",
       "      <td>177.000000</td>\n",
       "      <td>177.000000</td>\n",
       "    </tr>\n",
       "    <tr>\n",
       "      <th>3</th>\n",
       "      <td>Standard Deviation</td>\n",
       "      <td>1.788581</td>\n",
       "      <td>193.650421</td>\n",
       "    </tr>\n",
       "  </tbody>\n",
       "</table>\n",
       "</div>"
      ],
      "text/plain": [
       "            Statistic     Orignal     Outlier\n",
       "0                Mean  177.018750  225.429412\n",
       "1              Median  177.000000  177.000000\n",
       "2                Mode  177.000000  177.000000\n",
       "3  Standard Deviation    1.788581  193.650421"
      ]
     },
     "execution_count": 47,
     "metadata": {},
     "output_type": "execute_result"
    }
   ],
   "source": [
    "import pandas as pd\n",
    "comparison_df = pd.DataFrame(comparison_dict)\n",
    "comparison_df"
   ]
  },
  {
   "cell_type": "code",
   "execution_count": 48,
   "id": "0253e34b-4579-485b-b628-b8f946b9e905",
   "metadata": {},
   "outputs": [
    {
     "data": {
      "text/html": [
       "<div>\n",
       "<style scoped>\n",
       "    .dataframe tbody tr th:only-of-type {\n",
       "        vertical-align: middle;\n",
       "    }\n",
       "\n",
       "    .dataframe tbody tr th {\n",
       "        vertical-align: top;\n",
       "    }\n",
       "\n",
       "    .dataframe thead th {\n",
       "        text-align: right;\n",
       "    }\n",
       "</style>\n",
       "<table border=\"1\" class=\"dataframe\">\n",
       "  <thead>\n",
       "    <tr style=\"text-align: right;\">\n",
       "      <th></th>\n",
       "      <th>Statistic</th>\n",
       "      <th>Orignal</th>\n",
       "      <th>Outlier</th>\n",
       "      <th>difference</th>\n",
       "    </tr>\n",
       "  </thead>\n",
       "  <tbody>\n",
       "    <tr>\n",
       "      <th>0</th>\n",
       "      <td>Mean</td>\n",
       "      <td>177.018750</td>\n",
       "      <td>225.429412</td>\n",
       "      <td>48.410662</td>\n",
       "    </tr>\n",
       "    <tr>\n",
       "      <th>1</th>\n",
       "      <td>Median</td>\n",
       "      <td>177.000000</td>\n",
       "      <td>177.000000</td>\n",
       "      <td>0.000000</td>\n",
       "    </tr>\n",
       "    <tr>\n",
       "      <th>2</th>\n",
       "      <td>Mode</td>\n",
       "      <td>177.000000</td>\n",
       "      <td>177.000000</td>\n",
       "      <td>0.000000</td>\n",
       "    </tr>\n",
       "    <tr>\n",
       "      <th>3</th>\n",
       "      <td>Standard Deviation</td>\n",
       "      <td>1.788581</td>\n",
       "      <td>193.650421</td>\n",
       "      <td>191.861840</td>\n",
       "    </tr>\n",
       "  </tbody>\n",
       "</table>\n",
       "</div>"
      ],
      "text/plain": [
       "            Statistic     Orignal     Outlier  difference\n",
       "0                Mean  177.018750  225.429412   48.410662\n",
       "1              Median  177.000000  177.000000    0.000000\n",
       "2                Mode  177.000000  177.000000    0.000000\n",
       "3  Standard Deviation    1.788581  193.650421  191.861840"
      ]
     },
     "execution_count": 48,
     "metadata": {},
     "output_type": "execute_result"
    }
   ],
   "source": [
    "comparison_df['difference']=comparison_df['Outlier']-comparison_df['Orignal']\n",
    "comparison_df"
   ]
  },
  {
   "cell_type": "code",
   "execution_count": null,
   "id": "e54938b7-6d1c-46d7-ab49-262f0ceb9691",
   "metadata": {},
   "outputs": [],
   "source": []
  }
 ],
 "metadata": {
  "kernelspec": {
   "display_name": "Python 3 (ipykernel)",
   "language": "python",
   "name": "python3"
  },
  "language_info": {
   "codemirror_mode": {
    "name": "ipython",
    "version": 3
   },
   "file_extension": ".py",
   "mimetype": "text/x-python",
   "name": "python",
   "nbconvert_exporter": "python",
   "pygments_lexer": "ipython3",
   "version": "3.10.8"
  }
 },
 "nbformat": 4,
 "nbformat_minor": 5
}
