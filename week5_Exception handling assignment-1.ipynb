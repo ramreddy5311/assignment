{
 "cells": [
  {
   "cell_type": "code",
   "execution_count": 2,
   "id": "092f7dd3",
   "metadata": {},
   "outputs": [],
   "source": [
    "import logging\n",
    "logging.basicConfig(filename='TryExcept.log',level=logging.DEBUG,format= '%(asctime)s - %(name)s - %(levelname)s - %(message)s')"
   ]
  },
  {
   "cell_type": "code",
   "execution_count": 3,
   "id": "3a1aa296",
   "metadata": {},
   "outputs": [],
   "source": [
    "#Q1 What is an exception in python? Write the difference between Exceptions and syntax errors.\n",
    "\n",
    "#Exception in python\n",
    "#An exception is an event, which occurs during the execution of a program that disrupts the normal flow of the program's instructions.\n",
    "#In general, when a Python script encounters a situation that it cannot cope with, it raises an exception.\n",
    "\n",
    "\n",
    "#Difference in syntax error and exception :\n",
    "#Errors cannot be handled, while Python exceptions can be handled at the run time.\n",
    "#An error can be a syntax (parsing) error, while there can be many types of exceptions that could occur during the execution and are not unconditionally inoperable.\n",
    "\n",
    "\n"
   ]
  },
  {
   "cell_type": "code",
   "execution_count": 4,
   "id": "bf3b92b9",
   "metadata": {},
   "outputs": [
    {
     "ename": "ZeroDivisionError",
     "evalue": "division by zero",
     "output_type": "error",
     "traceback": [
      "\u001b[1;31m---------------------------------------------------------------------------\u001b[0m",
      "\u001b[1;31mZeroDivisionError\u001b[0m                         Traceback (most recent call last)",
      "\u001b[1;32mC:\\Users\\RAMCHA~1\\AppData\\Local\\Temp/ipykernel_26752/1161422187.py\u001b[0m in \u001b[0;36m<module>\u001b[1;34m\u001b[0m\n\u001b[0;32m      2\u001b[0m \u001b[1;33m\u001b[0m\u001b[0m\n\u001b[0;32m      3\u001b[0m \u001b[0mlogging\u001b[0m\u001b[1;33m.\u001b[0m\u001b[0minfo\u001b[0m\u001b[1;33m(\u001b[0m\u001b[1;34m'This is Q1'\u001b[0m\u001b[1;33m)\u001b[0m\u001b[1;33m\u001b[0m\u001b[1;33m\u001b[0m\u001b[0m\n\u001b[1;32m----> 4\u001b[1;33m \u001b[0ma\u001b[0m \u001b[1;33m=\u001b[0m \u001b[1;36m10\u001b[0m\u001b[1;33m/\u001b[0m\u001b[1;36m0\u001b[0m\u001b[1;33m\u001b[0m\u001b[1;33m\u001b[0m\u001b[0m\n\u001b[0m\u001b[0;32m      5\u001b[0m \u001b[0ma\u001b[0m\u001b[1;33m/\u001b[0m\u001b[1;36m0\u001b[0m \u001b[1;31m#Division by zero is an exception\u001b[0m\u001b[1;33m\u001b[0m\u001b[1;33m\u001b[0m\u001b[0m\n",
      "\u001b[1;31mZeroDivisionError\u001b[0m: division by zero"
     ]
    }
   ],
   "source": [
    "#example on exception \n",
    "\n",
    "logging.info('This is Q1')\n",
    "a = 10/0\n",
    "a/0 #Division by zero is an exception"
   ]
  },
  {
   "cell_type": "code",
   "execution_count": 5,
   "id": "225156d0",
   "metadata": {},
   "outputs": [
    {
     "ename": "SyntaxError",
     "evalue": "invalid syntax (Temp/ipykernel_26752/3760512399.py, line 4)",
     "output_type": "error",
     "traceback": [
      "\u001b[1;36m  File \u001b[1;32m\"C:\\Users\\RAMCHA~1\\AppData\\Local\\Temp/ipykernel_26752/3760512399.py\"\u001b[1;36m, line \u001b[1;32m4\u001b[0m\n\u001b[1;33m    print(a b)\u001b[0m\n\u001b[1;37m            ^\u001b[0m\n\u001b[1;31mSyntaxError\u001b[0m\u001b[1;31m:\u001b[0m invalid syntax\n"
     ]
    }
   ],
   "source": [
    "# Example on syntax error\n",
    "a = 2\n",
    "b = 3\n",
    "print(a b)"
   ]
  },
  {
   "cell_type": "code",
   "execution_count": 6,
   "id": "369ded23",
   "metadata": {},
   "outputs": [
    {
     "ename": "ZeroDivisionError",
     "evalue": "division by zero",
     "output_type": "error",
     "traceback": [
      "\u001b[1;31m---------------------------------------------------------------------------\u001b[0m",
      "\u001b[1;31mZeroDivisionError\u001b[0m                         Traceback (most recent call last)",
      "\u001b[1;32mC:\\Users\\RAMCHA~1\\AppData\\Local\\Temp/ipykernel_26752/3319463328.py\u001b[0m in \u001b[0;36m<module>\u001b[1;34m\u001b[0m\n\u001b[0;32m      7\u001b[0m \u001b[0mlogging\u001b[0m\u001b[1;33m.\u001b[0m\u001b[0minfo\u001b[0m\u001b[1;33m(\u001b[0m\u001b[1;34m'This is Question 2 start'\u001b[0m\u001b[1;33m)\u001b[0m\u001b[1;33m\u001b[0m\u001b[1;33m\u001b[0m\u001b[0m\n\u001b[0;32m      8\u001b[0m \u001b[0ma\u001b[0m \u001b[1;33m=\u001b[0m \u001b[1;36m56\u001b[0m\u001b[1;33m\u001b[0m\u001b[1;33m\u001b[0m\u001b[0m\n\u001b[1;32m----> 9\u001b[1;33m \u001b[0mprint\u001b[0m\u001b[1;33m(\u001b[0m\u001b[0ma\u001b[0m\u001b[1;33m/\u001b[0m\u001b[1;36m0\u001b[0m\u001b[1;33m)\u001b[0m \u001b[1;31m# This will cause Zero Division Error\u001b[0m\u001b[1;33m\u001b[0m\u001b[1;33m\u001b[0m\u001b[0m\n\u001b[0m\u001b[0;32m     10\u001b[0m \u001b[0mprint\u001b[0m\u001b[1;33m(\u001b[0m\u001b[0ma\u001b[0m\u001b[1;33m+\u001b[0m\u001b[1;36m23\u001b[0m\u001b[1;33m)\u001b[0m \u001b[1;31m# None of these code and below lines will not excute because exception was not handled\u001b[0m\u001b[1;33m\u001b[0m\u001b[1;33m\u001b[0m\u001b[0m\n\u001b[0;32m     11\u001b[0m \u001b[0mprint\u001b[0m\u001b[1;33m(\u001b[0m\u001b[1;34m'This will not execute'\u001b[0m\u001b[1;33m)\u001b[0m \u001b[1;31m# Will not execute because exception not handled\u001b[0m\u001b[1;33m\u001b[0m\u001b[1;33m\u001b[0m\u001b[0m\n",
      "\u001b[1;31mZeroDivisionError\u001b[0m: division by zero"
     ]
    }
   ],
   "source": [
    "#Q2: What happens if exception is not handled? Explain with an example.\n",
    "\n",
    "#if exception is not handled:\n",
    "\n",
    "#If Exception is not handled the code below the exception will not execute at all. It will stop the program at exception.\n",
    "\n",
    "logging.info('This is Question 2 start')\n",
    "a = 56\n",
    "print(a/0) # This will cause Zero Division Error\n",
    "print(a+23) # None of these code and below lines will not excute because exception was not handled\n",
    "print('This will not execute') # Will not execute because exception not handled"
   ]
  },
  {
   "cell_type": "code",
   "execution_count": 7,
   "id": "c515967d",
   "metadata": {},
   "outputs": [
    {
     "name": "stdout",
     "output_type": "stream",
     "text": [
      "There is exception in this code: [Errno 2] No such file or directory: 'sample.txt'\n",
      "a=23, b= 45, a*b =1035\n"
     ]
    }
   ],
   "source": [
    "#Question 3: Which Python Statements are used to catch and handle exceptions? Explain with an example.\n",
    "\n",
    "\n",
    "#The try and except block in Python is used to catch and handle exceptions.\n",
    "\n",
    "logging.info('This is Start of Question 3')\n",
    "try:\n",
    "    # This code will be tried for execution\n",
    "    with open('sample.txt','r') as f:\n",
    "        print(f.read())\n",
    "        logging.info('Try block from question 3 executed')\n",
    "\n",
    "except Exception as e:\n",
    "    # Exception will be caught here and message will display\n",
    "    print('There is exception in this code:',e)\n",
    "    logging.exception('Except block from Question 3 executed')\n",
    "finally:\n",
    "    # This code will execute regardless wether try block executes or not\n",
    "    a = 23\n",
    "    b = 45\n",
    "    print(f'a={a}, b= {b}, a*b ={a*b}')\n",
    "    logging.info('Finally Block from Question 3 executed')"
   ]
  },
  {
   "cell_type": "code",
   "execution_count": 10,
   "id": "79d75ea7",
   "metadata": {},
   "outputs": [],
   "source": [
    "#Question 4 : Explain with an example:\n",
    "#a Try and else\n",
    "#b finally\n",
    "#c raise\n",
    "\n",
    "#Answer:\n",
    "\n",
    "#Try and else : Try block will execute if no exceptions. If no exceptions only then else block is executed. If exception occured except block will get executed\n",
    "\n",
    "# creating a custom function for division with Try, Except ,Else blocks\n",
    "def divide(a,b):\n",
    "   \n",
    "    logging.info('This is Start of function divide')\n",
    "    try:\n",
    "        # Try block will execute if there is no exception\n",
    "        result = a/b\n",
    "        print('Try Block Executed.')\n",
    "        logging.info('Try Block executed')\n",
    "    except Exception as e:\n",
    "        # Except block will execute if exception found\n",
    "        print('Exception occured : ',e)\n",
    "        logging.exception('Except block executed')\n",
    "    else:\n",
    "        # This block will execute only if try block executed\n",
    "        print('Else Block Executed')\n",
    "        logging.info('Else Block executed')\n",
    "        return result\n"
   ]
  },
  {
   "cell_type": "code",
   "execution_count": 11,
   "id": "918460e9",
   "metadata": {},
   "outputs": [
    {
     "name": "stdout",
     "output_type": "stream",
     "text": [
      "Try Block Executed.\n",
      "Else Block Executed\n"
     ]
    },
    {
     "data": {
      "text/plain": [
       "0.8333333333333334"
      ]
     },
     "execution_count": 11,
     "metadata": {},
     "output_type": "execute_result"
    }
   ],
   "source": [
    "divide(5,6)"
   ]
  },
  {
   "cell_type": "code",
   "execution_count": 13,
   "id": "aca40472",
   "metadata": {},
   "outputs": [
    {
     "name": "stdout",
     "output_type": "stream",
     "text": [
      "55\n",
      "The finally\n"
     ]
    }
   ],
   "source": [
    "#Finally : This code block will always execute .Regardless wether try, except, else blocks are executed\n",
    "\n",
    "logging.info('Question 3 Finally example 2')\n",
    "try:\n",
    "    # Try block executes if no exception occurs\n",
    "    a = 1\n",
    "    b = 54\n",
    "    c = a + b\n",
    "    print(c)\n",
    "    logging.info('Try Block executed')    \n",
    "except Exception as e:\n",
    "    # Except block will execute if exception occurs\n",
    "    print('Exception Occured :',e)\n",
    "    logging.exception('Except block executed')\n",
    "finally:\n",
    "    # Finally Block will always execute regardless of exception found or not\n",
    "    print('The finally')\n",
    "    logging.info('Finally block executed')"
   ]
  },
  {
   "cell_type": "code",
   "execution_count": 14,
   "id": "b60c5fc7",
   "metadata": {},
   "outputs": [],
   "source": [
    "#raise : Python raise Keyword is used to raise exceptions or errors. The raise keyword raises an error and stops the control flow of the program. It is used to bring up the current exception in an exception handler so that it can be handled further up the call stack.\n",
    "\n",
    "def mob_num():\n",
    "    logging.info('This is start of mob_num ')\n",
    "    mob = input('Enter Mobile number : ')\n",
    "    print('The moblie number entered is',mob)\n",
    "    # Check if length of mobile number is 10 digits and length is 10 digits\n",
    "    if len(mob)!=10 or mob.isnumeric()!= True:\n",
    "        logging.exception('Exception occured invalid mobile number')\n",
    "        raise Exception('Invalid Mobile number is entered') "
   ]
  },
  {
   "cell_type": "code",
   "execution_count": 16,
   "id": "4ecaaf86",
   "metadata": {},
   "outputs": [
    {
     "name": "stdout",
     "output_type": "stream",
     "text": [
      "Enter Mobile number : 5796544\n",
      "The moblie number entered is 5796544\n"
     ]
    },
    {
     "ename": "Exception",
     "evalue": "Invalid Mobile number is entered",
     "output_type": "error",
     "traceback": [
      "\u001b[1;31m---------------------------------------------------------------------------\u001b[0m",
      "\u001b[1;31mException\u001b[0m                                 Traceback (most recent call last)",
      "\u001b[1;32mC:\\Users\\RAMCHA~1\\AppData\\Local\\Temp/ipykernel_26752/930658056.py\u001b[0m in \u001b[0;36m<module>\u001b[1;34m\u001b[0m\n\u001b[1;32m----> 1\u001b[1;33m \u001b[0mmob_num\u001b[0m\u001b[1;33m(\u001b[0m\u001b[1;33m)\u001b[0m\u001b[1;33m\u001b[0m\u001b[1;33m\u001b[0m\u001b[0m\n\u001b[0m",
      "\u001b[1;32mC:\\Users\\RAMCHA~1\\AppData\\Local\\Temp/ipykernel_26752/1185612540.py\u001b[0m in \u001b[0;36mmob_num\u001b[1;34m()\u001b[0m\n\u001b[0;32m      8\u001b[0m     \u001b[1;32mif\u001b[0m \u001b[0mlen\u001b[0m\u001b[1;33m(\u001b[0m\u001b[0mmob\u001b[0m\u001b[1;33m)\u001b[0m\u001b[1;33m!=\u001b[0m\u001b[1;36m10\u001b[0m \u001b[1;32mor\u001b[0m \u001b[0mmob\u001b[0m\u001b[1;33m.\u001b[0m\u001b[0misnumeric\u001b[0m\u001b[1;33m(\u001b[0m\u001b[1;33m)\u001b[0m\u001b[1;33m!=\u001b[0m \u001b[1;32mTrue\u001b[0m\u001b[1;33m:\u001b[0m\u001b[1;33m\u001b[0m\u001b[1;33m\u001b[0m\u001b[0m\n\u001b[0;32m      9\u001b[0m         \u001b[0mlogging\u001b[0m\u001b[1;33m.\u001b[0m\u001b[0mexception\u001b[0m\u001b[1;33m(\u001b[0m\u001b[1;34m'Exception occured invalid mobile number'\u001b[0m\u001b[1;33m)\u001b[0m\u001b[1;33m\u001b[0m\u001b[1;33m\u001b[0m\u001b[0m\n\u001b[1;32m---> 10\u001b[1;33m         \u001b[1;32mraise\u001b[0m \u001b[0mException\u001b[0m\u001b[1;33m(\u001b[0m\u001b[1;34m'Invalid Mobile number is entered'\u001b[0m\u001b[1;33m)\u001b[0m\u001b[1;33m\u001b[0m\u001b[1;33m\u001b[0m\u001b[0m\n\u001b[0m",
      "\u001b[1;31mException\u001b[0m: Invalid Mobile number is entered"
     ]
    }
   ],
   "source": [
    "#exam 1\n",
    "mob_num()"
   ]
  },
  {
   "cell_type": "code",
   "execution_count": 17,
   "id": "89faec15",
   "metadata": {},
   "outputs": [
    {
     "name": "stdout",
     "output_type": "stream",
     "text": [
      "Enter Mobile number : 12232hkjkh\n",
      "The moblie number entered is 12232hkjkh\n"
     ]
    },
    {
     "ename": "Exception",
     "evalue": "Invalid Mobile number is entered",
     "output_type": "error",
     "traceback": [
      "\u001b[1;31m---------------------------------------------------------------------------\u001b[0m",
      "\u001b[1;31mException\u001b[0m                                 Traceback (most recent call last)",
      "\u001b[1;32mC:\\Users\\RAMCHA~1\\AppData\\Local\\Temp/ipykernel_26752/930658056.py\u001b[0m in \u001b[0;36m<module>\u001b[1;34m\u001b[0m\n\u001b[1;32m----> 1\u001b[1;33m \u001b[0mmob_num\u001b[0m\u001b[1;33m(\u001b[0m\u001b[1;33m)\u001b[0m\u001b[1;33m\u001b[0m\u001b[1;33m\u001b[0m\u001b[0m\n\u001b[0m",
      "\u001b[1;32mC:\\Users\\RAMCHA~1\\AppData\\Local\\Temp/ipykernel_26752/1185612540.py\u001b[0m in \u001b[0;36mmob_num\u001b[1;34m()\u001b[0m\n\u001b[0;32m      8\u001b[0m     \u001b[1;32mif\u001b[0m \u001b[0mlen\u001b[0m\u001b[1;33m(\u001b[0m\u001b[0mmob\u001b[0m\u001b[1;33m)\u001b[0m\u001b[1;33m!=\u001b[0m\u001b[1;36m10\u001b[0m \u001b[1;32mor\u001b[0m \u001b[0mmob\u001b[0m\u001b[1;33m.\u001b[0m\u001b[0misnumeric\u001b[0m\u001b[1;33m(\u001b[0m\u001b[1;33m)\u001b[0m\u001b[1;33m!=\u001b[0m \u001b[1;32mTrue\u001b[0m\u001b[1;33m:\u001b[0m\u001b[1;33m\u001b[0m\u001b[1;33m\u001b[0m\u001b[0m\n\u001b[0;32m      9\u001b[0m         \u001b[0mlogging\u001b[0m\u001b[1;33m.\u001b[0m\u001b[0mexception\u001b[0m\u001b[1;33m(\u001b[0m\u001b[1;34m'Exception occured invalid mobile number'\u001b[0m\u001b[1;33m)\u001b[0m\u001b[1;33m\u001b[0m\u001b[1;33m\u001b[0m\u001b[0m\n\u001b[1;32m---> 10\u001b[1;33m         \u001b[1;32mraise\u001b[0m \u001b[0mException\u001b[0m\u001b[1;33m(\u001b[0m\u001b[1;34m'Invalid Mobile number is entered'\u001b[0m\u001b[1;33m)\u001b[0m\u001b[1;33m\u001b[0m\u001b[1;33m\u001b[0m\u001b[0m\n\u001b[0m",
      "\u001b[1;31mException\u001b[0m: Invalid Mobile number is entered"
     ]
    }
   ],
   "source": [
    "#exam 2\n",
    "mob_num()"
   ]
  },
  {
   "cell_type": "code",
   "execution_count": 18,
   "id": "f40320f6",
   "metadata": {},
   "outputs": [
    {
     "name": "stdout",
     "output_type": "stream",
     "text": [
      "Enter Mobile number : 1234567890\n",
      "The moblie number entered is 1234567890\n"
     ]
    }
   ],
   "source": [
    "#exam 3:\n",
    "mob_num()"
   ]
  },
  {
   "cell_type": "code",
   "execution_count": 19,
   "id": "d94b79cd",
   "metadata": {},
   "outputs": [],
   "source": [
    "#Q5 : What are custom Exceptions in python ? Why do we need Custom Exceptions? Explain with an Example.\n",
    "\n",
    "#custom Exception: \n",
    "\n",
    "#Built-in exceptions offer information about Python-related problems, and custom exceptions will add information about project-related problems. Example percentage value should always be between 0 to 100\n",
    "\n",
    "#Python detects all the critical errors that occur during Compile-time and Runtime. It stops the program's execution if the error occurs and raises an exception. Some commonly raised Exceptions are ArithmeticError, AttributeError, ImportError, IOError, FileNotFoundError, etc.\n",
    "#Sometimes we must enforce constraints on the values that specific program variables can take or save the program from running into an undesired state. In such situations, Python allows programmers to create User-defined Exceptions. To create a User-defined Exception, we need to create a class directly or indirectly derived from the built-in Exception class.\n",
    "\n",
    "class pcterror(Exception):\n",
    "    def __init__(self,msg):\n",
    "        self.msg = msg\n",
    "\n"
   ]
  },
  {
   "cell_type": "code",
   "execution_count": 22,
   "id": "7a7023bf",
   "metadata": {},
   "outputs": [
    {
     "name": "stdout",
     "output_type": "stream",
     "text": [
      "70\n",
      "Percentage marks of student is :  70\n"
     ]
    }
   ],
   "source": [
    "logging.info('Question 5 , case 1 started')\n",
    "pct = int(input())\n",
    "# Below is custom exception which checks if percentage is in between 0 and 100\n",
    "if pct<0 or pct>100:\n",
    "    logging.error('Percentage not in range')\n",
    "    raise pcterror('Invalid percentage entered') \n",
    "else:\n",
    "    print('Percentage marks of student is : ',pct)\n",
    "    logging.info('No Error occured')"
   ]
  },
  {
   "cell_type": "code",
   "execution_count": 23,
   "id": "592de19b",
   "metadata": {},
   "outputs": [],
   "source": [
    "#Q6 : Create a custom exception class . Use this class to handle exception\n",
    "\n",
    "class validatePAN(Exception):\n",
    "    # This class ValidatePAN is child of Parent class Exception\n",
    "    def __init__(self, msg):\n",
    "        self.msg = msg\n"
   ]
  },
  {
   "cell_type": "code",
   "execution_count": 24,
   "id": "2da60f06",
   "metadata": {},
   "outputs": [],
   "source": [
    "def validate_pan_number(surname,pan):\n",
    "\n",
    "    logging.info('Validate pan function started')\n",
    "    \n",
    "    # Condition 1 Check if Surname is entered alphabetic\n",
    "    if not surname.isalpha():\n",
    "        logging.error('Surname error , Surname cannot have numbers')\n",
    "        raise validatePAN('Surname cannot consist of numbers')\n",
    "    \n",
    "    # Condition 2 Check PAN Card Length it must be = 10\n",
    "    elif len(pan)!=10:\n",
    "        logging.error('PAN Number length is not equal to 10')\n",
    "        raise validatePAN('Length of PAN Card should be 10 digits')\n",
    "    \n",
    "    # Condition 3 first 3 charaters should be letters\n",
    "    elif not pan[0:2].isalpha():\n",
    "        logging.error('First 3 letters of PAN Number are not characters')\n",
    "        raise validatePAN('First Three characters of Pan Card Must be Letters')\n",
    "    \n",
    "    # Condition 4 Fourth letters must belong in ['P','C','H', 'F', 'A', 'T', 'B', 'L', 'J', 'G'] \n",
    "    elif pan[3] not in ['P','C','H', 'F', 'A', 'T', 'B', 'L', 'J', 'G']:\n",
    "        logging.error('PAN Category invalid')\n",
    "        raise validatePAN(\"4th Letter must be any of ['P','C','H', 'F', 'A', 'T', 'B', 'L', 'J', 'G']\")\n",
    "    \n",
    "    # Condition 5 Fifth letter of PAN Card must match with 1st letter of surname \n",
    "    # Case Unification done if characters enterd in different case\n",
    "    elif surname[0].upper()!=pan[4].upper():\n",
    "        logging.error('1st Letter of Surname and 5th Letter of PAN not matching')\n",
    "        raise validatePAN(\"First Digit of surname not matching with 5th Letter of pan\")\n",
    "    \n",
    "    # Condition 6 Next 4 characters should be numeric \n",
    "    elif not pan[5:9].isnumeric():\n",
    "        logging.error('Characters 6 to 9 not numeric')\n",
    "        raise validatePAN(\"Characters from 6 to 9 should be numbers\")\n",
    "    \n",
    "    # Condition 7 Last Character must be alphabet\n",
    "    elif not pan[-1].isalpha():\n",
    "        logging.error('Last character in not an alphabet')\n",
    "        raise validatePAN(\"Last Character of PAN must be a Alphabet\")\n",
    "    \n",
    "    # If all above condition satisfy Pan Number is valid\n",
    "    else:\n",
    "        print('PAN Number is valid')\n",
    "        logging.info('PAN Card number is Valid')"
   ]
  },
  {
   "cell_type": "code",
   "execution_count": 26,
   "id": "07a5fb42",
   "metadata": {},
   "outputs": [
    {
     "name": "stdout",
     "output_type": "stream",
     "text": [
      "First Digit of surname not matching with 5th Letter of pan\n"
     ]
    }
   ],
   "source": [
    "logging.info('Test Case 1 , Q6')\n",
    "try:\n",
    "    surname = 'ramcharan'\n",
    "    pan = 'AAAPG1234F'\n",
    "    validate_pan_number(surname,pan)\n",
    "    logging.info('Try Block executed')\n",
    "except validatePAN as e:\n",
    "    print(e)\n",
    "    logging.exception('Except block executed')"
   ]
  },
  {
   "cell_type": "code",
   "execution_count": null,
   "id": "1eb6d843",
   "metadata": {},
   "outputs": [],
   "source": []
  }
 ],
 "metadata": {
  "kernelspec": {
   "display_name": "Python 3 (ipykernel)",
   "language": "python",
   "name": "python3"
  },
  "language_info": {
   "codemirror_mode": {
    "name": "ipython",
    "version": 3
   },
   "file_extension": ".py",
   "mimetype": "text/x-python",
   "name": "python",
   "nbconvert_exporter": "python",
   "pygments_lexer": "ipython3",
   "version": "3.9.7"
  }
 },
 "nbformat": 4,
 "nbformat_minor": 5
}
