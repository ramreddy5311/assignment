{
 "cells": [
  {
   "cell_type": "code",
   "execution_count": 1,
   "id": "147e8925-c3af-4e3b-9616-e0b2d09141ee",
   "metadata": {},
   "outputs": [],
   "source": [
    "#Q1: What is multiprocessing in python? Why is it useful?\n",
    "\n",
    "#multiprocessing in python:\n",
    "\n",
    "#Multiprocessing in Python refers to the ability to execute multiple processes or tasks simultaneously on multiple processors or cores of a computer, as opposed to executing them in a sequential manner.\n",
    "#In simpler terms, multiprocessing allows you to take advantage of the multi-core processors in modern computers to perform CPU-intensive tasks more efficiently, by splitting them into smaller sub-tasks that can be executed simultaneously on different processors. This can significantly reduce the time taken to complete the tasks and improve the overall performance of the program.\n",
    "#In Python, the multiprocessing module provides a way to create and manage multiple processes. It offers several classes and functions to create and control processes, to communicate and share data between them, and to handle exceptions and errors that may occur during their execution.\n",
    "#Multiprocessing is useful in various scenarios, such as:\n",
    "\n",
    "#CPU-intensive tasks: Multiprocessing can speed up the execution of tasks that require a lot of CPU time, such as image processing, machine learning, and scientific computing.\n",
    "\n",
    "#Parallel programming: Multiprocessing can be used to implement parallel algorithms, where multiple processes work together to solve a problem.\n",
    "\n",
    "#Scalability: Multiprocessing can help to scale up the performance of a program as the size of the data or the complexity of the problem increases.\n",
    "\n",
    "#Fault-tolerance: Multiprocessing can improve the reliability of a program by isolating the processes from each other and preventing errors in one process from affecting the others.\n",
    "\n"
   ]
  },
  {
   "cell_type": "code",
   "execution_count": 3,
   "id": "b0d83c96-dbf7-4a33-a35d-7abdf4f6a588",
   "metadata": {},
   "outputs": [
    {
     "name": "stdout",
     "output_type": "stream",
     "text": [
      "[0, 1, 4, 9, 16, 25, 36, 49, 64, 81]\n",
      "All squares calculated with multiprocessing\n"
     ]
    }
   ],
   "source": [
    "import multiprocessing\n",
    "\n",
    "def square(n):\n",
    "   \n",
    "    return n**2\n",
    "\n",
    "if __name__ == '__main__':\n",
    "    pool = multiprocessing.Pool(processes=5)\n",
    "\n",
    "    \n",
    "    results = pool.map(square, range(10))\n",
    "    print(results)\n",
    "\n",
    "    \n",
    "    pool.close()\n",
    "    pool.join()\n",
    "\n",
    "    print('All squares calculated with multiprocessing')\n",
    "    "
   ]
  },
  {
   "cell_type": "code",
   "execution_count": 4,
   "id": "7176a99e-ae53-4a78-b771-fdf5d78a1ebb",
   "metadata": {},
   "outputs": [],
   "source": [
    "#Q2: What are the differences between multiprocessing and multithreading?\n",
    "\n",
    "\n",
    "# Differences between Multiprocessing and Multithreading\n",
    "#Feature                   \t   Multiprocessing\t                                       Multithreading\n",
    "\n",
    "#Execution model  \tMultiple processes Seperate processor core        Multiple threads within a single process\n",
    "                    #used for each process   \n",
    "#Parallelism\t    True parallelism\t                              Concurrency due to GIL\n",
    "#Resource usage     Higher resource usage, slower startup time        Lower resource usage, faster startup times\n",
    "#Communication\t    IPC mechanisms (pipes, queues, shared memory)     Shared memory, synchronization primitives\n",
    "#Debugging\t        More complex (multiple memory spaces)\t          Easier (shared memory, single memory space)\n",
    "#Best for\t        CPU-bound tasks\t                                  I/O-bound tasks"
   ]
  },
  {
   "cell_type": "code",
   "execution_count": 5,
   "id": "25c4d5b8-057a-4a7e-b2f5-dc4d08a951e2",
   "metadata": {},
   "outputs": [
    {
     "name": "stdout",
     "output_type": "stream",
     "text": [
      "Downloaded https://raw.githubusercontent.com/utkarshg1/PWSkills-Assignments/main/Assignment%2013%20-%2014%20February%202023/data1.txt to file1.txt\n",
      "Downloaded https://raw.githubusercontent.com/utkarshg1/PWSkills-Assignments/main/Assignment%2013%20-%2014%20February%202023/data2.txt to file2.txt\n",
      "Downloaded https://raw.githubusercontent.com/utkarshg1/PWSkills-Assignments/main/Assignment%2013%20-%2014%20February%202023/data3.txt to file3.txt\n",
      "All downloads completed\n"
     ]
    }
   ],
   "source": [
    "#Q3: Write a python code to create a process using the multiprocessing module.\n",
    "\n",
    "import multiprocessing\n",
    "import requests\n",
    "\n",
    "def download_file(url, filename):\n",
    "   \n",
    "    response = requests.get(url)\n",
    "    with open(filename, 'wb') as f:\n",
    "        f.write(response.content)\n",
    "    print(f\"Downloaded {url} to {filename}\")\n",
    "\n",
    "if __name__ == '__main__':\n",
    "    \n",
    "    urls = [\n",
    "        'https://raw.githubusercontent.com/utkarshg1/PWSkills-Assignments/main/Assignment%2013%20-%2014%20February%202023/data1.txt',\n",
    "        'https://raw.githubusercontent.com/utkarshg1/PWSkills-Assignments/main/Assignment%2013%20-%2014%20February%202023/data2.txt',\n",
    "        'https://raw.githubusercontent.com/utkarshg1/PWSkills-Assignments/main/Assignment%2013%20-%2014%20February%202023/data3.txt'\n",
    "    ]\n",
    "\n",
    "  \n",
    "    processes = []\n",
    "    for i, url in enumerate(urls):\n",
    "        filename = f\"file{i+1}.txt\"\n",
    "        p = multiprocessing.Process(target=download_file, args=(url, filename))\n",
    "        processes.append(p)\n",
    "        p.start()\n",
    "\n",
    "   \n",
    "    for p in processes:\n",
    "        p.join()\n",
    "\n",
    "    print(\"All downloads completed\")"
   ]
  },
  {
   "cell_type": "code",
   "execution_count": 7,
   "id": "2980b386-0106-413e-9e96-62bf1592e24e",
   "metadata": {},
   "outputs": [
    {
     "name": "stdout",
     "output_type": "stream",
     "text": [
      "[8, 27, 64, 125, 216, 343, 512, 729, 1000, 1331, 1728, 2197, 2744, 3375, 4096]\n"
     ]
    }
   ],
   "source": [
    "import multiprocessing\n",
    "\n",
    "def cube(index, value):\n",
    "    value[index] = value[index]**3\n",
    "\n",
    "if __name__ == '__main__':\n",
    "   \n",
    "    arr = multiprocessing.Array('i',[2,3,4,5,6,7,8,9,10,11,12,13,14,15,16])\n",
    "    \n",
    "    \n",
    "    process = []\n",
    "    for i in range(15):\n",
    "        m = multiprocessing.Process(target=cube,args=(i,arr))\n",
    "        process.append(m)\n",
    "        m.start()\n",
    "        \n",
    "    for j in process:\n",
    "        j.join()\n",
    "    print(list(arr))"
   ]
  },
  {
   "cell_type": "code",
   "execution_count": 8,
   "id": "281a4f56-d3e2-4dc4-acd7-030628422528",
   "metadata": {},
   "outputs": [],
   "source": [
    "#Q4: What is a multiprocessing pool in python? Why is it used?\n",
    "\n",
    "\n",
    "# multiprocessing pool in python:\n",
    "#In Python, a multiprocessing pool is a class in the multiprocessing module that provides a way to distribute tasks across multiple CPU cores. The idea is to create a pool of worker processes that can execute tasks in parallel, thereby reducing the time it takes to complete a large number of tasks.\n",
    "\n",
    "#Here's how it works:\n",
    "\n",
    "#You create a Pool object with a specified number of worker processes.\n",
    "#You submit tasks to the pool using the apply(), apply_async(), map(), or map_async() methods.\n",
    "#The pool distributes the tasks among the worker processes and runs them in parallel.\n",
    "#The results of each task are collected and returned to the main process.\n",
    "#The advantage of using a multiprocessing pool is that it allows you to take advantage of multiple CPU cores to perform computations in parallel. This can lead to significant speedups for CPU-bound tasks, such as numerical computations, image processing, or machine learning.\n",
    "\n",
    "#The Pool class in Python also provides various methods for controlling the number of worker processes, waiting for tasks to complete, and handling errors. Overall, it's a powerful tool for scaling up your Python programs to take advantage of modern hardware.\n",
    "\n",
    "\n"
   ]
  },
  {
   "cell_type": "code",
   "execution_count": 9,
   "id": "753a691e-c12d-47fa-932d-8d1efcdb2984",
   "metadata": {},
   "outputs": [
    {
     "name": "stdout",
     "output_type": "stream",
     "text": [
      "Gamma(0.5) = 1.7724538509055159\n",
      "Gamma(1) = 1.0\n",
      "Gamma(2) = 1.0\n",
      "Gamma(3) = 2.0\n",
      "Gamma(4) = 6.0\n",
      "Gamma(5) = 24.0\n",
      "Gamma(6) = 120.0\n",
      "Gamma(7) = 720.0\n",
      "Gamma(8) = 5040.0\n",
      "Gamma(9) = 40320.0\n",
      "Gamma(10) = 362880.0\n"
     ]
    }
   ],
   "source": [
    "#Q5: How can we create a pool of worker processes in python using multiprocessing module?\n",
    "\n",
    "import multiprocessing\n",
    "import math\n",
    "\n",
    "def calc_gamma(x):\n",
    "    result = math.gamma(x)\n",
    "    return result\n",
    "\n",
    "if __name__ == '__main__':\n",
    "    # Create a list of values for which to calculate the gamma function\n",
    "    values = [0.5, 1, 2, 3, 4, 5, 6, 7, 8, 9, 10]\n",
    "\n",
    "    # Create a pool of worker processes\n",
    "    pool = multiprocessing.Pool(processes=4)\n",
    "\n",
    "    # Map the gamma function calculation function to the values\n",
    "    results = pool.map(calc_gamma, values)\n",
    "\n",
    "    # Close the pool and wait for the worker processes to finish\n",
    "    pool.close()\n",
    "    pool.join()\n",
    "\n",
    "    # Print the results\n",
    "    for i in range(len(values)):\n",
    "        print(f\"Gamma({values[i]}) = {results[i]}\")"
   ]
  },
  {
   "cell_type": "code",
   "execution_count": null,
   "id": "b60d4f13-1eb5-41eb-ae05-b4ee63075f7d",
   "metadata": {},
   "outputs": [],
   "source": [
    "# 6 : Write a python program to create 4 processes, each process should print a different number using the multiprocessing module in python.\n",
    "\n",
    "import multiprocessing\n",
    "import random\n",
    "\n",
    "def generate_random_number(num):\n",
    "    random_number = random.randint(1, 100)\n",
    "    print(f\"Process number {num}, random number generated : {random_number}\")\n",
    "\n",
    "if __name__ == '__main__':\n",
    "    # Creating a processess list\n",
    "    processes = []\n",
    "    for i in range(4):\n",
    "        p = multiprocessing.Process(target=generate_random_number, args=(i,))\n",
    "        processes.append(p)\n",
    "        p.start()\n",
    "    \n",
    "    # Waiting for processess to complete\n",
    "    for p in processes:\n",
    "        p.join()\n",
    "\n"
   ]
  }
 ],
 "metadata": {
  "kernelspec": {
   "display_name": "Python 3 (ipykernel)",
   "language": "python",
   "name": "python3"
  },
  "language_info": {
   "codemirror_mode": {
    "name": "ipython",
    "version": 3
   },
   "file_extension": ".py",
   "mimetype": "text/x-python",
   "name": "python",
   "nbconvert_exporter": "python",
   "pygments_lexer": "ipython3",
   "version": "3.10.8"
  }
 },
 "nbformat": 4,
 "nbformat_minor": 5
}
