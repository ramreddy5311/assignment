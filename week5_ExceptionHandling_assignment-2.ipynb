{
 "cells": [
  {
   "cell_type": "code",
   "execution_count": 4,
   "id": "1b0bd396",
   "metadata": {},
   "outputs": [],
   "source": [
    "#Q1. Explain why we have to use the Exception class while creating a Custom Exception.\n",
    "#Note: Here Exception class refers to the base class for all the exceptions.\n",
    "\n",
    "\n",
    "#Exception class while creating a Custom Exception:\n",
    "\n",
    "#The Exception class is used as the base class for custom exceptions in Python because it provides a standard way of representing and handling errors that occur in a program. When you create a custom exception class, it should inherit from the Exception class in order to be recognized as an exception by the Python runtime.\n",
    "#By inheriting from the Exception class, your custom exception class automatically gets all the properties and methods of the Exception class, making it easier to use and handle in your code. For example, you can raise your custom exception using the raise statement, and it will be caught by a try-except block just like any other standard exception.\n",
    "#Additionally, inheriting from the Exception class also makes it possible for other parts of your code to catch your custom exception specifically, if necessary. This allows you to create more specific error handling logic for your custom exceptions, rather than relying on a catch-all approach for all exceptions.\n",
    "#In summary, using the Exception class as the base class for custom exceptions provides a standard way of representing and handling errors in Python, making it easier to integrate custom exceptions into your code and handle them appropriately.\n",
    "\n",
    "\n",
    "#Example for upi app transactions:\n",
    "\n",
    "import logging\n",
    "logging.basicConfig(filename='Assignment10.log',level=logging.DEBUG,format= '%(asctime)s - %(name)s - %(levelname)s - %(message)s')\n",
    "\n",
    "\n",
    "\n",
    "class TransactionLimitExceeded(Exception):\n",
    "    def __init__(self, message, transaction_amount, limit):\n",
    "        self.message = message\n",
    "        self.transaction_amount = transaction_amount\n",
    "        self.limit = limit\n",
    "        super().__init__(self.message)"
   ]
  },
  {
   "cell_type": "code",
   "execution_count": 5,
   "id": "c449f616",
   "metadata": {},
   "outputs": [],
   "source": [
    "def process_transaction(amount):\n",
    "   \n",
    "    logging.info('This is starting of amount.')\n",
    "    try:\n",
    "        limit = 1000\n",
    "        if amount > limit:\n",
    "            logging.error('Exception Occured Transaction amount Exceeded the limit')       \n",
    "            raise TransactionLimitExceeded(\"Transaction limit exceeded\", amount, limit)\n",
    "        else:\n",
    "            logging.info(f'Transaction is valid with amount : {amount}')\n",
    "            print('Valid Transaction Amount : ',amount)\n",
    "        logging.info('Try Block executed')\n",
    "    \n",
    "    except TransactionLimitExceeded as e:\n",
    "        logging.info(f'Transaction of Amount : {amount} Exceeded the limit {limit}')\n",
    "        logging.exception(f'Transaction Limit Exceeded , Exception : {e}')\n",
    "        print('Transaction Limit Exceeded , Handled Exception :',e)"
   ]
  },
  {
   "cell_type": "code",
   "execution_count": 6,
   "id": "9f6eeb85",
   "metadata": {},
   "outputs": [
    {
     "name": "stdout",
     "output_type": "stream",
     "text": [
      "Valid Transaction Amount :  1000\n"
     ]
    }
   ],
   "source": [
    "process_transaction(1000)"
   ]
  },
  {
   "cell_type": "code",
   "execution_count": 7,
   "id": "643b02e0",
   "metadata": {},
   "outputs": [
    {
     "name": "stdout",
     "output_type": "stream",
     "text": [
      "Transaction Limit Exceeded , Handled Exception : Transaction limit exceeded\n"
     ]
    }
   ],
   "source": [
    "process_transaction(2000)"
   ]
  },
  {
   "cell_type": "code",
   "execution_count": 8,
   "id": "063cc2a4",
   "metadata": {},
   "outputs": [
    {
     "name": "stdout",
     "output_type": "stream",
     "text": [
      "Valid Transaction Amount :  500\n"
     ]
    }
   ],
   "source": [
    "process_transaction(500)"
   ]
  },
  {
   "cell_type": "code",
   "execution_count": 9,
   "id": "981c94a3",
   "metadata": {},
   "outputs": [
    {
     "name": "stdout",
     "output_type": "stream",
     "text": [
      "Exception\n",
      "  TypeError\n",
      "    MultipartConversionError\n",
      "    FloatOperation\n",
      "  StopAsyncIteration\n",
      "  StopIteration\n",
      "  ImportError\n",
      "    ModuleNotFoundError\n",
      "    ZipImportError\n",
      "  OSError\n",
      "    ConnectionError\n",
      "      BrokenPipeError\n",
      "      ConnectionAbortedError\n",
      "      ConnectionRefusedError\n",
      "      ConnectionResetError\n",
      "        RemoteDisconnected\n",
      "    BlockingIOError\n",
      "    ChildProcessError\n",
      "    FileExistsError\n",
      "    FileNotFoundError\n",
      "    IsADirectoryError\n",
      "    NotADirectoryError\n",
      "    InterruptedError\n",
      "      InterruptedSystemCall\n",
      "    PermissionError\n",
      "    ProcessLookupError\n",
      "    TimeoutError\n",
      "    UnsupportedOperation\n",
      "    herror\n",
      "    gaierror\n",
      "    timeout\n",
      "    Error\n",
      "      SameFileError\n",
      "    SpecialFileError\n",
      "    ExecError\n",
      "    ReadError\n",
      "    SSLError\n",
      "      SSLCertVerificationError\n",
      "      SSLZeroReturnError\n",
      "      SSLWantReadError\n",
      "      SSLWantWriteError\n",
      "      SSLSyscallError\n",
      "      SSLEOFError\n",
      "    URLError\n",
      "      HTTPError\n",
      "      ContentTooShortError\n",
      "    BadGzipFile\n",
      "  EOFError\n",
      "    IncompleteReadError\n",
      "  RuntimeError\n",
      "    RecursionError\n",
      "    NotImplementedError\n",
      "      ZMQVersionError\n",
      "      StdinNotImplementedError\n",
      "    _DeadlockError\n",
      "    BrokenBarrierError\n",
      "    BrokenExecutor\n",
      "    SendfileNotAvailableError\n",
      "    ExtractionError\n",
      "    VariableError\n",
      "  NameError\n",
      "    UnboundLocalError\n",
      "  AttributeError\n",
      "    FrozenInstanceError\n",
      "  SyntaxError\n",
      "    IndentationError\n",
      "      TabError\n",
      "  LookupError\n",
      "    IndexError\n",
      "    KeyError\n",
      "      NoSuchKernel\n",
      "      UnknownBackend\n",
      "    CodecRegistryError\n",
      "  ValueError\n",
      "    UnicodeError\n",
      "      UnicodeEncodeError\n",
      "      UnicodeDecodeError\n",
      "      UnicodeTranslateError\n",
      "    UnsupportedOperation\n",
      "    JSONDecodeError\n",
      "    SSLCertVerificationError\n",
      "    Error\n",
      "    ClassNotFound\n",
      "    ClipboardEmpty\n",
      "    MessageDefect\n",
      "      NoBoundaryInMultipartDefect\n",
      "      StartBoundaryNotFoundDefect\n",
      "      CloseBoundaryNotFoundDefect\n",
      "      FirstHeaderLineIsContinuationDefect\n",
      "      MisplacedEnvelopeHeaderDefect\n",
      "      MissingHeaderBodySeparatorDefect\n",
      "      MultipartInvariantViolationDefect\n",
      "      InvalidMultipartContentTransferEncodingDefect\n",
      "      UndecodableBytesDefect\n",
      "      InvalidBase64PaddingDefect\n",
      "      InvalidBase64CharactersDefect\n",
      "      InvalidBase64LengthDefect\n",
      "      HeaderDefect\n",
      "        InvalidHeaderDefect\n",
      "        HeaderMissingRequiredValue\n",
      "        NonPrintableDefect\n",
      "        ObsoleteHeaderDefect\n",
      "        NonASCIILocalPartDefect\n",
      "    IllegalMonthError\n",
      "    IllegalWeekdayError\n",
      "    MacroToEdit\n",
      "    ParserError\n",
      "    InvalidFileException\n",
      "    InvalidVersion\n",
      "    InvalidSpecifier\n",
      "    InvalidMarker\n",
      "    UndefinedComparison\n",
      "    UndefinedEnvironmentName\n",
      "    InvalidRequirement\n",
      "      RequirementParseError\n",
      "  AssertionError\n",
      "  ArithmeticError\n",
      "    FloatingPointError\n",
      "    OverflowError\n",
      "    ZeroDivisionError\n",
      "      DivisionByZero\n",
      "      DivisionUndefined\n",
      "    DecimalException\n",
      "      Clamped\n",
      "      Rounded\n",
      "        Underflow\n",
      "        Overflow\n",
      "      Inexact\n",
      "        Underflow\n",
      "        Overflow\n",
      "      Subnormal\n",
      "        Underflow\n",
      "      DivisionByZero\n",
      "      FloatOperation\n",
      "      InvalidOperation\n",
      "        ConversionSyntax\n",
      "        DivisionImpossible\n",
      "        DivisionUndefined\n",
      "        InvalidContext\n",
      "  SystemError\n",
      "    CodecRegistryError\n",
      "  ReferenceError\n",
      "  MemoryError\n",
      "  BufferError\n",
      "  Warning\n",
      "    UserWarning\n",
      "      GetPassWarning\n",
      "      FormatterWarning\n",
      "    DeprecationWarning\n",
      "      ProvisionalWarning\n",
      "    PendingDeprecationWarning\n",
      "    SyntaxWarning\n",
      "    RuntimeWarning\n",
      "      ProactorSelectorThreadWarning\n",
      "      UnknownTimezoneWarning\n",
      "      PEP440Warning\n",
      "    FutureWarning\n",
      "      ProvisionalCompleterWarning\n",
      "    ImportWarning\n",
      "    UnicodeWarning\n",
      "    BytesWarning\n",
      "    ResourceWarning\n",
      "    DeprecatedTzFormatWarning\n",
      "    PkgResourcesDeprecationWarning\n",
      "  Error\n",
      "  _OptionError\n",
      "  error\n",
      "  Verbose\n",
      "  _Error\n",
      "  SubprocessError\n",
      "    CalledProcessError\n",
      "    TimeoutExpired\n",
      "  _GiveupOnSendfile\n",
      "  error\n",
      "  LZMAError\n",
      "  RegistryError\n",
      "  _GiveupOnFastCopy\n",
      "  ZMQBaseError\n",
      "    ZMQError\n",
      "      ContextTerminated\n",
      "      Again\n",
      "      InterruptedSystemCall\n",
      "    ZMQBindError\n",
      "    NotDone\n",
      "  Error\n",
      "  error\n",
      "  PickleError\n",
      "    PicklingError\n",
      "    UnpicklingError\n",
      "  _Stop\n",
      "  TokenError\n",
      "  StopTokenizing\n",
      "  ClassFoundException\n",
      "  EndOfBlock\n",
      "  TraitError\n",
      "  ArgumentError\n",
      "  ArgumentTypeError\n",
      "  ConfigError\n",
      "    ConfigLoaderError\n",
      "      ArgumentError\n",
      "    ConfigFileNotFound\n",
      "  ConfigurableError\n",
      "    MultipleInstanceError\n",
      "  ApplicationError\n",
      "  NoIPAddresses\n",
      "  Error\n",
      "    CancelledError\n",
      "    TimeoutError\n",
      "    InvalidStateError\n",
      "  Incomplete\n",
      "  TimeoutError\n",
      "  InvalidStateError\n",
      "  LimitOverrunError\n",
      "  QueueEmpty\n",
      "  QueueFull\n",
      "  InvalidPortNumber\n",
      "  Empty\n",
      "  Full\n",
      "  DuplicateKernelError\n",
      "  TimeoutError\n",
      "  COMError\n",
      "  ArgumentError\n",
      "  ReturnValueIgnoredError\n",
      "  KeyReuseError\n",
      "  UnknownKeyError\n",
      "  LeakedCallbackError\n",
      "  BadYieldError\n",
      "  ReturnValueIgnoredError\n",
      "  Return\n",
      "  ErrorDuringImport\n",
      "  BdbQuit\n",
      "  Restart\n",
      "  FindCmdError\n",
      "  HomeDirError\n",
      "  ProfileDirError\n",
      "  IPythonCoreError\n",
      "    TryNext\n",
      "    UsageError\n",
      "    StdinNotImplementedError\n",
      "  InputRejected\n",
      "  GetoptError\n",
      "  OptionError\n",
      "  ErrorToken\n",
      "  PrefilterError\n",
      "  AliasError\n",
      "    InvalidAliasError\n",
      "  Error\n",
      "    InterfaceError\n",
      "    DatabaseError\n",
      "      InternalError\n",
      "      OperationalError\n",
      "      ProgrammingError\n",
      "      IntegrityError\n",
      "      DataError\n",
      "      NotSupportedError\n",
      "  Warning\n",
      "  SpaceInInput\n",
      "  DOMException\n",
      "    IndexSizeErr\n",
      "    DomstringSizeErr\n",
      "    HierarchyRequestErr\n",
      "    WrongDocumentErr\n",
      "    InvalidCharacterErr\n",
      "    NoDataAllowedErr\n",
      "    NoModificationAllowedErr\n",
      "    NotFoundErr\n",
      "    NotSupportedErr\n",
      "    InuseAttributeErr\n",
      "    InvalidStateErr\n",
      "    SyntaxErr\n",
      "    InvalidModificationErr\n",
      "    NamespaceErr\n",
      "    InvalidAccessErr\n",
      "    ValidationErr\n",
      "  ValidationError\n",
      "  EditReadOnlyBuffer\n",
      "  _Retry\n",
      "  InvalidLayoutError\n",
      "  HeightIsUnknownError\n",
      "  ParserSyntaxError\n",
      "  InternalParseError\n",
      "  _PositionUpdatingFinished\n",
      "  SimpleGetItemNotFound\n",
      "  UncaughtAttributeError\n",
      "  ParamIssue\n",
      "  _JediError\n",
      "    InternalError\n",
      "    WrongVersion\n",
      "    RefactoringError\n",
      "  OnErrorLeaf\n",
      "  InvalidPythonEnvironment\n",
      "  MessageError\n",
      "    MessageParseError\n",
      "      HeaderParseError\n",
      "      BoundaryError\n",
      "    MultipartConversionError\n",
      "    CharsetError\n",
      "  Error\n",
      "  HTTPException\n",
      "    NotConnected\n",
      "    InvalidURL\n",
      "    UnknownProtocol\n",
      "    UnknownTransferEncoding\n",
      "    UnimplementedFileMode\n",
      "    IncompleteRead\n",
      "    ImproperConnectionState\n",
      "      CannotSendRequest\n",
      "      CannotSendHeader\n",
      "      ResponseNotReady\n",
      "    BadStatusLine\n",
      "      RemoteDisconnected\n",
      "    LineTooLong\n",
      "  InteractivelyDefined\n",
      "  KillEmbedded\n",
      "  QueueEmpty\n",
      "  QueueFull\n",
      "  ExpatError\n",
      "  Error\n",
      "    ProtocolError\n",
      "    ResponseError\n",
      "    Fault\n",
      "  BadZipFile\n",
      "  LargeZipFile\n",
      "  error\n",
      "  com_error\n",
      "  internal_error\n",
      "  ParseBaseException\n",
      "    ParseException\n",
      "    ParseFatalException\n",
      "      ParseSyntaxException\n",
      "  RecursiveGrammarException\n",
      "  ResolutionError\n",
      "    VersionConflict\n",
      "      ContextualVersionConflict\n",
      "    DistributionNotFound\n",
      "    UnknownExtra\n",
      "  UnableToResolveVariableException\n",
      "  InvalidTypeInArgsException\n",
      "  TransactionLimitExceeded\n",
      "  TransactionLimitExceeded\n"
     ]
    }
   ],
   "source": [
    "#Q2. Write a python program to print Python Exception Hierarchy.\n",
    "\n",
    "\n",
    "def print_exception_hierarchy(exception, level=0):\n",
    "  \n",
    "    print(\"  \" * level + exception.__name__)\n",
    "    logging.info(\" \"* level + exception.__name__)\n",
    "    for subclass in exception.__subclasses__():\n",
    "        print_exception_hierarchy(subclass, level + 1)\n",
    "        logging.info(f'Subclass: {subclass},level:{level}')\n",
    "\n",
    "print_exception_hierarchy(Exception)"
   ]
  },
  {
   "cell_type": "code",
   "execution_count": 10,
   "id": "9ecc2914",
   "metadata": {},
   "outputs": [
    {
     "name": "stdout",
     "output_type": "stream",
     "text": [
      "Exception occured and handled :  division by zero\n"
     ]
    }
   ],
   "source": [
    "#Q3. What errors are defined in the ArithmeticError class? Explain any two with an example.\n",
    "\n",
    "#Errors are defined in the ArithmeticError class:\n",
    "\n",
    "\n",
    "#The ArithmeticError class is a built-in exception in Python that represents errors that occur during arithmetic operations. Some of the errors that are defined in the ArithmeticError class include:\n",
    "#1OverflowError: This error is raised when a mathematical operation results in a number that is too large to be represented within the available memory.\n",
    "#2ZeroDivisionError: This error is raised when a division operation is attempted with a denominator of zero.\n",
    "#3FloatingPointError: This error is raised when a floating-point operation fails, such as an operation involving infinities or NaNs (Not-a-Number).\n",
    "\n",
    "\n",
    "#Example1\n",
    "\n",
    "logging.info('This is start of Question 3')\n",
    "try :\n",
    "    a = 10\n",
    "    print(a/0)\n",
    "    logging.info('Try block executed')\n",
    "except ZeroDivisionError as e:\n",
    "    print('Exception occured and handled : ',e)\n",
    "    logging.exception(f'Exception occured and Handled : {e}')\n",
    "finally:\n",
    "    logging.info('Example  of Question 3 Completed')\n",
    "\n",
    "\n"
   ]
  },
  {
   "cell_type": "code",
   "execution_count": 11,
   "id": "1904c675",
   "metadata": {},
   "outputs": [
    {
     "name": "stdout",
     "output_type": "stream",
     "text": [
      "The exponential value is\n",
      "Error Occured and Handled : math range error\n"
     ]
    }
   ],
   "source": [
    "#Example2\n",
    "\n",
    "import math\n",
    "logging.info('Example 2 Overflow error of Question 3 Started')\n",
    "try :\n",
    "    print(\"The exponential value is\")\n",
    "    print(math.exp(1000))\n",
    "    logging.info('Try Block executed')\n",
    "except OverflowError as e:\n",
    "    print(f'Error Occured and Handled : {e}')\n",
    "    logging.info(f'Error Occured and Handled : {e}')"
   ]
  },
  {
   "cell_type": "code",
   "execution_count": 12,
   "id": "564cce3b",
   "metadata": {},
   "outputs": [
    {
     "name": "stdout",
     "output_type": "stream",
     "text": [
      "Error Occured and Handled Key Error : 'key3'\n"
     ]
    }
   ],
   "source": [
    "#Q4. Why LookupError class is used? Explain with an example KeyError and IndexError.\n",
    "\n",
    "#LookupError class:\n",
    "\n",
    "#The LookupError class is used in Python to represent exceptions that are raised when a key or an index is not found in a data structure such as a dictionary or a list. LookupError is a base class for two more specific exceptions: KeyError and IndexError.\n",
    "\n",
    "#KeyError is raised when a key is not found in a dictionary\n",
    "#IndexError is raised when an index is not found in a list.\n",
    "\n",
    "# Example 1 : Key Error \n",
    "logging.info('This is start of Key Error Example')\n",
    "try :\n",
    "    d = {'key1':'value1','key2':'value2'}\n",
    "    d['key3']\n",
    "    logging.info('Try Block executed')\n",
    "except KeyError as e:\n",
    "    print(f'Error Occured and Handled Key Error : {e}')\n",
    "    logging.exception(f'Error Occured and Handled Key Error : {e}')\n",
    "finally:\n",
    "    logging.info('This is end of Key Error Example')\n"
   ]
  },
  {
   "cell_type": "code",
   "execution_count": 13,
   "id": "7a894cc6",
   "metadata": {},
   "outputs": [
    {
     "name": "stdout",
     "output_type": "stream",
     "text": [
      "Index error occured and Handled : list index out of range\n"
     ]
    }
   ],
   "source": [
    "# Example 2: Index Error\n",
    "logging.info('This is start of Index error example')\n",
    "try:\n",
    "    l = [1,2,3,4,5,True,'sample']\n",
    "    l[21]\n",
    "except IndexError as e:\n",
    "    print(f'Index error occured and Handled : {e}')\n",
    "    logging.exception(f'Index error occured and Handled : {e}')\n",
    "finally:\n",
    "    logging.info('Index Error Example complete')"
   ]
  },
  {
   "cell_type": "code",
   "execution_count": 14,
   "id": "cc99e612",
   "metadata": {},
   "outputs": [
    {
     "name": "stdout",
     "output_type": "stream",
     "text": [
      "ImportError Occured and handled : No module named 'calculus'\n"
     ]
    }
   ],
   "source": [
    "#Q5. Explain ImportError. What is ModuleNotFoundError?\n",
    "\n",
    "#ImportError:\n",
    "\n",
    "#ImportError is a class in Python that represents exceptions raised when a module or package cannot be found or imported. An ImportError is raised when Python encounters a line of code that tries to import a module or package that does not exist or is not accessible due to a file system error, for example.\n",
    "#ModuleNotFoundError is a subclass of ImportError that is specifically raised when a module cannot be found in the Python path. It was added in Python 3.6 as a more descriptive error message to replace the generic ImportError message.\n",
    "\n",
    "logging.info('This is start of example for ImportError')\n",
    "try :\n",
    "    import calculus\n",
    "    logging.info('Module Imported')\n",
    "except ImportError as e:\n",
    "    print(f'ImportError Occured and handled : {e}')\n",
    "    logging.exception(f'ImportError Occured and handled : {e}')\n",
    "finally:\n",
    "    logging.info('ImportError Example Complete')\n"
   ]
  },
  {
   "cell_type": "code",
   "execution_count": 15,
   "id": "46752c5c",
   "metadata": {},
   "outputs": [
    {
     "name": "stdout",
     "output_type": "stream",
     "text": [
      "ImportError Occured and handled : No module named 'calculus'\n"
     ]
    }
   ],
   "source": [
    "logging.info('This is start of example for ModuleNotFoundError')\n",
    "try :\n",
    "    import calculus\n",
    "    logging.info('Module Imported')\n",
    "except ModuleNotFoundError as e:\n",
    "    print(f'ImportError Occured and handled : {e}')\n",
    "    logging.exception(f'ModuleNotFoundError Occured and handled : {e}')\n",
    "finally:\n",
    "    logging.info('ModuleNotFound Example Complete')"
   ]
  },
  {
   "cell_type": "code",
   "execution_count": 16,
   "id": "9bf65646",
   "metadata": {},
   "outputs": [],
   "source": [
    "#Q6. List down some best practices for exception handling in python.\n",
    "\n",
    "#Best practices for exception handling in python:\n",
    "\n",
    "\n",
    "#Here are some best practices for exception handling in Python:\n",
    "\n",
    "#Be specific in catching exceptions: Instead of catching a broad, generic exception such as Exception, it's better to catch more specific exceptions that correspond to the errors you expect to handle. This way, you can ensure that only the errors you want to handle are caught and other unexpected errors are allowed to propagate.\n",
    "\n",
    "#Use try-except blocks: try-except blocks are the recommended way to handle exceptions in Python. They allow you to catch exceptions and take appropriate action, without letting the program crash.\n",
    "\n",
    "#Provide meaningful error messages: When raising exceptions, provide meaningful error messages that can help you diagnose and fix the problem. Avoid using generic error messages like \"Something went wrong\".\n",
    "\n",
    "#Avoid using bare except blocks: Bare except blocks catch all exceptions and can hide important information about the cause of the error. Instead, use specific exception classes or Exception with a more descriptive error message.\n",
    "\n",
    "#Use finally blocks wisely: finally blocks are used to execute code that needs to run regardless of whether an exception was raised or not. Use them wisely to clean up resources or close files, for example.\n",
    "\n",
    "#Don't suppress exceptions: Avoid suppressing exceptions by using a bare except block or catching a broad exception class and not re-raising it. Doing so can hide important information about the cause of the error and make it harder to diagnose and fix.\n",
    "\n",
    "def divide(a, b):\n",
    "    logging.info('This is start of divide function')\n",
    "    try:\n",
    "        result = a / b\n",
    "        logging.info('Try Block executed')\n",
    "    except ZeroDivisionError as e:\n",
    "        logging.exception(f'Zero Division Error occured and Handled : {e}')\n",
    "        raise ValueError(\"Cannot divide by zero\") from e\n",
    "    except TypeError as e:\n",
    "        logging.exception(f'Type Error Occured and Handled : {e}')\n",
    "        raise ValueError(\"Both arguments must be numbers\") from e\n",
    "    else:\n",
    "        logging.info('Else Block Executed')\n",
    "        return result\n",
    "    finally:\n",
    "        logging.info('This is end of divide function')\n",
    "\n"
   ]
  },
  {
   "cell_type": "code",
   "execution_count": 17,
   "id": "7096a9d5",
   "metadata": {},
   "outputs": [
    {
     "data": {
      "text/plain": [
       "6.0"
      ]
     },
     "execution_count": 17,
     "metadata": {},
     "output_type": "execute_result"
    }
   ],
   "source": [
    "divide(12,2)"
   ]
  },
  {
   "cell_type": "code",
   "execution_count": 19,
   "id": "c2514d34",
   "metadata": {},
   "outputs": [
    {
     "data": {
      "text/plain": [
       "14.285714285714286"
      ]
     },
     "execution_count": 19,
     "metadata": {},
     "output_type": "execute_result"
    }
   ],
   "source": [
    "divide(100,7)"
   ]
  },
  {
   "cell_type": "code",
   "execution_count": 22,
   "id": "02b6e949",
   "metadata": {},
   "outputs": [
    {
     "data": {
      "text/plain": [
       "0.8333333333333334"
      ]
     },
     "execution_count": 22,
     "metadata": {},
     "output_type": "execute_result"
    }
   ],
   "source": [
    "divide(5,6)"
   ]
  },
  {
   "cell_type": "code",
   "execution_count": null,
   "id": "2daa2764",
   "metadata": {},
   "outputs": [],
   "source": []
  }
 ],
 "metadata": {
  "kernelspec": {
   "display_name": "Python 3 (ipykernel)",
   "language": "python",
   "name": "python3"
  },
  "language_info": {
   "codemirror_mode": {
    "name": "ipython",
    "version": 3
   },
   "file_extension": ".py",
   "mimetype": "text/x-python",
   "name": "python",
   "nbconvert_exporter": "python",
   "pygments_lexer": "ipython3",
   "version": "3.9.7"
  }
 },
 "nbformat": 4,
 "nbformat_minor": 5
}
