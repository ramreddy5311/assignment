{
 "cells": [
  {
   "cell_type": "code",
   "execution_count": 1,
   "id": "ba9b22bd",
   "metadata": {},
   "outputs": [],
   "source": [
    "#Q1. Explain Class and Object with respect to Object-Oriented Programming. Give a suitable example.\n",
    "\n",
    "#class\n",
    "#A class is a user-defined blueprint or prototype from which objects are created. Classes provide a means of bundling data and functionality together. Creating a new class creates a new type of object, allowing new instances of that type to be made. Each class instance can have attributes attached to it for maintaining its state. Class instances can also have methods (defined by their class) for modifying their state\n",
    "\n",
    "#object\n",
    "#An Object is an instance of a Class. A class is like a blueprint while an instance is a copy of the class with actual values. It’s not an idea anymore, it’s an actual dog, like a dog of breed pug who’s seven years old. You can have many dogs to create many different instances, but without the class as a guide, you would be lost, not knowing what information is required.\n",
    "\n",
    "class ram():\n",
    "    \n",
    "    def student(self,name,email,phone_number):\n",
    "        self.name = name\n",
    "        self.email = email\n",
    "        self.phone_number = phone_number    "
   ]
  },
  {
   "cell_type": "code",
   "execution_count": 2,
   "id": "5dad3e44",
   "metadata": {},
   "outputs": [],
   "source": [
    "a = ram()"
   ]
  },
  {
   "cell_type": "code",
   "execution_count": 3,
   "id": "03577271",
   "metadata": {},
   "outputs": [],
   "source": [
    "a.student(\"ram\",\"ramc@gmail.com\",7864565656)"
   ]
  },
  {
   "cell_type": "code",
   "execution_count": 4,
   "id": "d86390c0",
   "metadata": {},
   "outputs": [
    {
     "data": {
      "text/plain": [
       "'ram'"
      ]
     },
     "execution_count": 4,
     "metadata": {},
     "output_type": "execute_result"
    }
   ],
   "source": [
    "a.name"
   ]
  },
  {
   "cell_type": "code",
   "execution_count": 5,
   "id": "da215e12",
   "metadata": {},
   "outputs": [
    {
     "data": {
      "text/plain": [
       "'ramc@gmail.com'"
      ]
     },
     "execution_count": 5,
     "metadata": {},
     "output_type": "execute_result"
    }
   ],
   "source": [
    "a.email"
   ]
  },
  {
   "cell_type": "code",
   "execution_count": 6,
   "id": "5142ad8c",
   "metadata": {},
   "outputs": [
    {
     "data": {
      "text/plain": [
       "7864565656"
      ]
     },
     "execution_count": 6,
     "metadata": {},
     "output_type": "execute_result"
    }
   ],
   "source": [
    "a.phone_number"
   ]
  },
  {
   "cell_type": "code",
   "execution_count": 7,
   "id": "c824a5c9",
   "metadata": {},
   "outputs": [],
   "source": [
    "#Q2. Name the four pillars of OOPs.\n",
    "\n",
    "#1.)inheritance\n",
    "#2.)Encapsulation \n",
    "#3.)Polymorphism\n",
    "#4.)4. Abstraction\n",
    "\n"
   ]
  },
  {
   "cell_type": "code",
   "execution_count": 8,
   "id": "fee11d82",
   "metadata": {},
   "outputs": [],
   "source": [
    "#Q3. Explain why the __init__() function is used. Give a suitable example.\n",
    "\n",
    "#The task of constructors is to initialize(assign values) to the data members of the class when an object of the class is created. Like methods, a constructor also contains a collection of statements(i.e. instructions) that are executed at the time of Object creation. It is run as soon as an object of a class is instantiated. The method is useful to do any initialization you want to do with your object\n",
    "\n",
    "# A Sample class with init method\n",
    "class ram():\n",
    "    \n",
    "    \n",
    "    def __init__(self, name): \n",
    "        self.name = name\n",
    "\n",
    "    def say_hi(self):\n",
    "        print('Hello, my name is', self.name)\n",
    "\n"
   ]
  },
  {
   "cell_type": "code",
   "execution_count": 10,
   "id": "5d94dc17",
   "metadata": {},
   "outputs": [],
   "source": [
    "p = ram(\"ramcharan\")"
   ]
  },
  {
   "cell_type": "code",
   "execution_count": 11,
   "id": "506be3f9",
   "metadata": {},
   "outputs": [
    {
     "name": "stdout",
     "output_type": "stream",
     "text": [
      "Hello, my name is ramcharan\n"
     ]
    }
   ],
   "source": [
    "p.say_hi()"
   ]
  },
  {
   "cell_type": "code",
   "execution_count": 12,
   "id": "441a5686",
   "metadata": {},
   "outputs": [],
   "source": [
    "#Q4. Why self is used in OOPs?\n",
    "\n",
    "#When working with classes in Python, the term “self” refers to the instance of the class that is currently being used. It is customary to use “self” as the first parameter in instance methods of a class. Whenever you call a method of an object created from a class, the object is automatically passed as the first argument using the “self” parameter. This enables you to modify the object’s properties and execute tasks unique to that particular instance.\n",
    "\n",
    "\n",
    "class number():\n",
    "    \n",
    "    def __init__(self,value):\n",
    "        self.value = value\n",
    "        \n",
    "    def pass_value(self,value):\n",
    "        print(self.value)"
   ]
  },
  {
   "cell_type": "code",
   "execution_count": 13,
   "id": "ed0efa67",
   "metadata": {},
   "outputs": [],
   "source": [
    "n = number(10)"
   ]
  },
  {
   "cell_type": "code",
   "execution_count": 14,
   "id": "d14db583",
   "metadata": {},
   "outputs": [
    {
     "name": "stdout",
     "output_type": "stream",
     "text": [
      "10\n"
     ]
    }
   ],
   "source": [
    "n.pass_value(10)"
   ]
  },
  {
   "cell_type": "code",
   "execution_count": 15,
   "id": "c9bab8b9",
   "metadata": {},
   "outputs": [],
   "source": [
    "#Q5. What is inheritance? Give an example for each type of inheritance.\n",
    "\n",
    "#Inheritance is defined as the mechanism of inheriting the properties of the base class to the child class.\n",
    "\n",
    "#1 Single Inheritance: \n",
    "\n",
    "class parent():\n",
    "    \n",
    "    def parent_info(self):\n",
    "        print(\"my parents are inspiration for me\")"
   ]
  },
  {
   "cell_type": "code",
   "execution_count": 16,
   "id": "9d7846d1",
   "metadata": {},
   "outputs": [],
   "source": [
    "class child():\n",
    "    def child_info(self):\n",
    "        print(\"i want to work hard for my future\")"
   ]
  },
  {
   "cell_type": "code",
   "execution_count": 22,
   "id": "5b724c75",
   "metadata": {},
   "outputs": [],
   "source": [
    "par_obj = parent()\n"
   ]
  },
  {
   "cell_type": "code",
   "execution_count": 23,
   "id": "ac6c4eaf",
   "metadata": {},
   "outputs": [
    {
     "name": "stdout",
     "output_type": "stream",
     "text": [
      "my parents are inspiration for me\n"
     ]
    }
   ],
   "source": [
    "par_obj.parent_info()"
   ]
  },
  {
   "cell_type": "code",
   "execution_count": 24,
   "id": "921abbc5",
   "metadata": {},
   "outputs": [],
   "source": [
    "ch_obj = child()"
   ]
  },
  {
   "cell_type": "code",
   "execution_count": 25,
   "id": "2582820a",
   "metadata": {},
   "outputs": [
    {
     "name": "stdout",
     "output_type": "stream",
     "text": [
      "i want to work hard for my future\n"
     ]
    }
   ],
   "source": [
    "ch_obj.child_info()"
   ]
  },
  {
   "cell_type": "code",
   "execution_count": 26,
   "id": "a0348927",
   "metadata": {},
   "outputs": [
    {
     "name": "stdout",
     "output_type": "stream",
     "text": [
      "this is a sports car\n",
      "it is best for the indian roads\n",
      "it is best for the driving comfort\n"
     ]
    }
   ],
   "source": [
    "#2 Multiple Inheritance: \n",
    "\n",
    "\n",
    "class car():\n",
    "    car = \"sports car\"\n",
    "    print(\"this is a sports car\")\n",
    "    \n",
    "class car1():\n",
    "    car1 = \"suv\"\n",
    "    print(\"it is best for the indian roads\")\n",
    "    \n",
    "class car2():\n",
    "    car2 = \"sedan\"\n",
    "    print(\"it is best for the driving comfort\")\n",
    "    \n",
    "class car3(car,car1,car2):\n",
    "    \n",
    "    name = \"ram\"\n",
    "pass "
   ]
  },
  {
   "cell_type": "code",
   "execution_count": null,
   "id": "a8712933",
   "metadata": {},
   "outputs": [],
   "source": []
  }
 ],
 "metadata": {
  "kernelspec": {
   "display_name": "Python 3 (ipykernel)",
   "language": "python",
   "name": "python3"
  },
  "language_info": {
   "codemirror_mode": {
    "name": "ipython",
    "version": 3
   },
   "file_extension": ".py",
   "mimetype": "text/x-python",
   "name": "python",
   "nbconvert_exporter": "python",
   "pygments_lexer": "ipython3",
   "version": "3.9.7"
  }
 },
 "nbformat": 4,
 "nbformat_minor": 5
}
