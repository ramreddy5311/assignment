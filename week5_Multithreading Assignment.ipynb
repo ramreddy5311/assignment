{
 "cells": [
  {
   "cell_type": "code",
   "execution_count": 1,
   "id": "07772bc5",
   "metadata": {},
   "outputs": [],
   "source": [
    "#Q1.what is multithreading in python?why is it used? Name the module used to handle threads in python\n",
    "\n",
    "#multithreading in python:\n",
    "\n",
    "#A thread is a unit of execution within a process. Multithreading refers to concurrently executing multiple threads by rapidly switching the control of the CPU between threads (called context switching).\n",
    "#Threading in python is used to run multiple threads (tasks, function calls) at the same time. Note that this does not mean that they are executed on different CPUs. Python threads will NOT make your program faster if it already uses 100 % CPU time. In that case, you probably want to look into parallel programming.\n",
    "#The module used to handle threads in python is \"threading\" module\n",
    "\n",
    "import logging\n",
    "logging.basicConfig(filename='Assignment13.log',level=logging.DEBUG,format= '%(asctime)s - %(name)s - %(levelname)s - %(message)s')\n",
    "\n",
    "\n",
    "\n",
    "import urllib.request\n",
    "\n",
    "def file_download(url, filename):\n",
    "    try: \n",
    "        logging.info('This is start of file_download function')\n",
    "        urllib.request.urlretrieve(url,filename)\n",
    "        logging.info(f'File from url {url} download successfully and saved as {filename}')\n",
    "    except ValueError as e:\n",
    "        logging.error(f'{url} Url entered is incorrect, error occured : {e}')\n",
    "        raise ValueError('Please enter proper url , File not found')\n",
    "    finally:\n",
    "        logging.info('This is end of file_download function') "
   ]
  },
  {
   "cell_type": "code",
   "execution_count": 2,
   "id": "ffb3e5e1",
   "metadata": {},
   "outputs": [],
   "source": [
    "url_list = ['https://raw.githubusercontent.com/utkarshg1/PWSkills-Assignments/main/Assignment%2012%20-%2013%20February%202023/Assignment12Log.txt',\n",
    " 'https://raw.githubusercontent.com/utkarshg1/PWSkills-Assignments/main/Assignment%2011%20-%2012%20February%202023/TryExceptLog.txt',\n",
    " 'https://raw.githubusercontent.com/utkarshg1/PWSkills-Assignments/main/Assignment%2010%20-%20%2010%20February%202023/students.txt']\n",
    "\n",
    "data_file_list = ['data1.txt','data2.txt','data3.txt']"
   ]
  },
  {
   "cell_type": "code",
   "execution_count": 3,
   "id": "22568740",
   "metadata": {},
   "outputs": [
    {
     "data": {
      "text/plain": [
       "[<Thread(Thread-8, initial)>,\n",
       " <Thread(Thread-9, initial)>,\n",
       " <Thread(Thread-10, initial)>]"
      ]
     },
     "execution_count": 3,
     "metadata": {},
     "output_type": "execute_result"
    }
   ],
   "source": [
    "import threading\n",
    "thread = [threading.Thread(target=file_download, args=(url_list[i],data_file_list[i])) for i in range(len(url_list))]\n",
    "logging.info(thread)\n",
    "thread"
   ]
  },
  {
   "cell_type": "code",
   "execution_count": 4,
   "id": "8976b7a6",
   "metadata": {},
   "outputs": [
    {
     "name": "stdout",
     "output_type": "stream",
     "text": [
      "Wall time: 3.89 ms\n"
     ]
    }
   ],
   "source": [
    "%%time\n",
    "\n",
    "try:\n",
    "    logging.info('This is start of Multithreading')\n",
    "    for t in thread:\n",
    "        t.start()\n",
    "    logging.info('All Data Downloaded Successfully')\n",
    "except ValueError as e:\n",
    "    logging.error(f'url not found error occured and handled {e}' )\n",
    "    print('Url not found exception occured and handled :',e)\n",
    "except RuntimeError as e:\n",
    "    logging.error(f'RuntimeError occured : {e}')\n",
    "    print('Threads can only be started once, Error occured :',e)\n",
    "finally:\n",
    "    logging.info('This is end of Multithreading')"
   ]
  },
  {
   "cell_type": "code",
   "execution_count": 5,
   "id": "dc13f463",
   "metadata": {},
   "outputs": [
    {
     "name": "stdout",
     "output_type": "stream",
     "text": [
      "Wall time: 360 ms\n"
     ]
    }
   ],
   "source": [
    "%%time\n",
    "\n",
    "try :\n",
    "    logging.info('This is start of normal looping method')\n",
    "    for i in range(len(url_list)):\n",
    "        file_download(url_list[i],data_file_list[i])\n",
    "    logging.info('All Files Download successfully')\n",
    "except ValueError as e:\n",
    "    logging.error(f'Please enter proper url , Error occured : {e}')\n",
    "    print('Url not found exception occured and handled :',e)\n",
    "finally:\n",
    "    logging.info('This is end of normal looping method')"
   ]
  },
  {
   "cell_type": "code",
   "execution_count": 6,
   "id": "ca7a9863",
   "metadata": {},
   "outputs": [],
   "source": [
    "#%%time is a magic command in Jupyter Notebook that is used to measure the execution time of a single code cell. When you use this command at the beginning of a cell, Jupyter Notebook will measure the time it takes to execute the entire cell and display the execution time in the output cell."
   ]
  },
  {
   "cell_type": "code",
   "execution_count": null,
   "id": "83bcf10c",
   "metadata": {},
   "outputs": [],
   "source": [
    "#Q2: Why Threading Module is used ? Write the use of following functions\n",
    "#activeCount()\n",
    "#currentThread()\n",
    "#enumerate"
   ]
  },
  {
   "cell_type": "code",
   "execution_count": 7,
   "id": "ce669112",
   "metadata": {},
   "outputs": [],
   "source": [
    "#Threading Module:\n",
    "\n",
    "#Python \"threading\" module allows you to have different parts of your program run concurrently and can simplify your design.\n",
    "#Use of below functions :\n"
   ]
  },
  {
   "cell_type": "code",
   "execution_count": 8,
   "id": "7593dacf",
   "metadata": {},
   "outputs": [
    {
     "name": "stdout",
     "output_type": "stream",
     "text": [
      "Currently active threads are : 6\n"
     ]
    }
   ],
   "source": [
    "#1. active_count() - Returns the number of thread objects that are active.(activeCount is deprecated latest function is active_count)\n",
    "\n",
    "#Example:\n",
    "\n",
    "print(f\"Currently active threads are : {threading.active_count()}\")\n",
    "logging.info(f\"Currently active threads are : {threading.active_count()}\")\n",
    "    \n",
    "    "
   ]
  },
  {
   "cell_type": "code",
   "execution_count": 9,
   "id": "39629742",
   "metadata": {},
   "outputs": [
    {
     "name": "stdout",
     "output_type": "stream",
     "text": [
      "Current thread is : <_MainThread(MainThread, started 20188)>\n"
     ]
    }
   ],
   "source": [
    "#2. current_thread() - it returns the current Thread object active at the moment.(currentThread is deprecated latest function is current_thread)\n",
    "\n",
    "#Example:\n",
    "\n",
    "print(f\"Current thread is : {threading.current_thread()}\")\n",
    "logging.info(f\"Current thread is : {threading.current_thread()}\")\n",
    "    "
   ]
  },
  {
   "cell_type": "code",
   "execution_count": 10,
   "id": "b36321d0",
   "metadata": {},
   "outputs": [
    {
     "name": "stdout",
     "output_type": "stream",
     "text": [
      "List of all active threads is : [<_MainThread(MainThread, started 20188)>, <Thread(Thread-6, started daemon 26844)>, <Heartbeat(Thread-7, started daemon 20540)>, <ControlThread(Thread-5, started daemon 28072)>, <HistorySavingThread(IPythonHistorySavingThread, started 9400)>, <ParentPollerWindows(Thread-4, started daemon 24044)>]\n"
     ]
    }
   ],
   "source": [
    "#3. enumerate() - Returns a list of all thread objects that are currently active.\n",
    "\n",
    "#Example:\n",
    "\n",
    "print(f'List of all active threads is : {threading.enumerate()}')\n",
    "logging.info(f'List of all active threads is : {threading.enumerate()}')\n"
   ]
  },
  {
   "cell_type": "code",
   "execution_count": 13,
   "id": "467b2854",
   "metadata": {},
   "outputs": [],
   "source": [
    "#Q3. Explain the following functions\n",
    "#1 run()\n",
    "#2 start()\n",
    "#3 join()\n",
    "#4 isAlive()\n",
    "\n"
   ]
  },
  {
   "cell_type": "code",
   "execution_count": 14,
   "id": "ae081be8",
   "metadata": {},
   "outputs": [
    {
     "name": "stdout",
     "output_type": "stream",
     "text": [
      "Hello World\n"
     ]
    }
   ],
   "source": [
    "#Example:\n",
    "#1. run() - The standard run() method invokes the callable object passed to the object’s constructor as the target argument, if any, with positional and keyword arguments taken from the args and kwargs arguments, respectively.\n",
    "\n",
    "t = threading.Thread(target=print,args=['Hello World'])\n",
    "t.run()\n",
    "\n",
    "logging.info('run() Command executed')"
   ]
  },
  {
   "cell_type": "code",
   "execution_count": 16,
   "id": "df33f0ca",
   "metadata": {},
   "outputs": [
    {
     "name": "stdout",
     "output_type": "stream",
     "text": [
      "Counter Value : 0\n",
      "Counter Value : 1\n",
      "Counter Value : 2\n",
      "Counter Value : 3\n",
      "Counter Value : 4\n",
      "Counter Value : 5\n",
      "Counter Value : 6\n",
      "Counter Value : 7\n",
      "Counter Value : 8\n",
      "Counter Value : 9\n",
      "Counter Value : 10\n",
      "Thread Finished\n"
     ]
    }
   ],
   "source": [
    "#Example(start(),join())\n",
    "\n",
    "#2. start() - Start the thread’s activity. It must be called at most once per thread object. It arranges for the object’s run() method to be invoked in a separate thread of control.This method will raise a RuntimeError if called more than once on the same thread object.\n",
    "\n",
    "#3. join() - Wait until the thread terminates. This blocks the calling thread until the thread whose join() method is called terminates – either normally or through an unhandled exception – or until the optional timeout occurs.\n",
    "\n",
    "from time import sleep\n",
    "def counter_function(arg):\n",
    "    for i in range(arg):\n",
    "        print(f\"Counter Value : {i}\")\n",
    "        logging.info(f\"Counter Value : {i}\")\n",
    "    sleep(1)\n",
    "\n",
    "thread2 = threading.Thread(target=counter_function,args=(11,))\n",
    "thread2.start()\n",
    "thread2.join()\n",
    "print('Thread Finished')\n",
    "logging.info('Thread Finished')\n"
   ]
  },
  {
   "cell_type": "code",
   "execution_count": 17,
   "id": "915570ea",
   "metadata": {},
   "outputs": [
    {
     "name": "stdout",
     "output_type": "stream",
     "text": [
      "Check for thread2 is alive :  False\n"
     ]
    }
   ],
   "source": [
    "#4. is_alive() - (isAlive is deprecated latest function - is_alive) Return whether the thread is alive. This method returns True just before the run() method starts until just after the run() method terminates.\n",
    "\n",
    "print('Check for thread2 is alive : ',thread2.is_alive())\n",
    "logging.info(f'thread 2 is alive : {thread2.is_alive()}')"
   ]
  },
  {
   "cell_type": "code",
   "execution_count": 18,
   "id": "4ac84e42",
   "metadata": {},
   "outputs": [],
   "source": [
    "#Q4 Write a python program that creates two threads. Thread 1 must print list of squares and Thread 2 must print list of cubes.\n",
    "\n",
    "\n",
    "def list_squares(start,end):\n",
    "    for i in range(start, end+1):\n",
    "        print(f'Square of {i} is : {i*i}')\n",
    "        logging.info(f'Square of {i} is : {i*i}')"
   ]
  },
  {
   "cell_type": "code",
   "execution_count": 19,
   "id": "5f823452",
   "metadata": {},
   "outputs": [],
   "source": [
    "def list_cubes(start,end):\n",
    "    for i in range(start, end+1):\n",
    "        print(f'Cube of {i} is : {i*i}')\n",
    "        logging.info(f'Cube of {i} is : {i**3}')"
   ]
  },
  {
   "cell_type": "code",
   "execution_count": 20,
   "id": "f012be10",
   "metadata": {},
   "outputs": [
    {
     "name": "stdout",
     "output_type": "stream",
     "text": [
      "Square of 1 is : 1\n",
      "Square of 2 is : 4\n",
      "Square of 3 is : 9\n",
      "Square of 4 is : 16\n",
      "Square of 5 is : 25\n",
      "Square of 6 is : 36\n",
      "Cube of 7 is : 49\n",
      "Square of 7 is : 49\n",
      "Cube of 8 is : 64\n",
      "Square of 8 is : 64\n",
      "Cube of 9 is : 81Square of 9 is : 81\n",
      "Square of 10 is : 100\n",
      "\n",
      "Cube of 10 is : 100\n",
      "Cube of 11 is : 121\n",
      "Cube of 12 is : 144\n",
      "Cube of 13 is : 169\n",
      "Cube of 14 is : 196\n",
      "Cube of 15 is : 225\n",
      "Cube of 16 is : 256\n"
     ]
    }
   ],
   "source": [
    "t1 = threading.Thread(target=list_squares, args=(1, 10))\n",
    "t2 = threading.Thread(target=list_cubes, args=(7, 16))\n",
    "\n",
    "t1.start()\n",
    "t2.start()\n",
    "t1.join()\n",
    "t2.join()"
   ]
  },
  {
   "cell_type": "code",
   "execution_count": 21,
   "id": "aaa2a98f",
   "metadata": {},
   "outputs": [],
   "source": [
    "#Q5  State advantages and disadvantages of Multithreading.\n",
    "\n",
    "#Advantages and Disadvantages of Multithreading.\n",
    "\n",
    "#Multithreading is a programming technique that enables a program to perform multiple tasks concurrently. In multithreading, multiple threads are created, and each thread can execute a different part of the program at the same time. There are several advantages and disadvantages of multithreading, which we will discuss below:\n",
    "    \n",
    "    \n",
    "#Advantages of multithreading:\n",
    "#Improved performance: Multithreading can improve the performance of a program by allowing different parts of the program to run simultaneously. This can make the program more efficient and reduce the overall execution time.\n",
    "\n",
    "#Better resource utilization: Multithreading can make better use of available resources such as CPU and memory by distributing the workload across multiple threads.\n",
    "\n",
    "#Enhanced user experience: Multithreading can improve the user experience by making the program more responsive and interactive.\n",
    "\n",
    "#Simplified coding: Multithreading can simplify coding by allowing the programmer to break down complex tasks into smaller, more manageable threads.\n",
    "\n",
    "#Scalability: Multithreading allows the program to scale well as the number of threads can be increased based on the available resources.\n",
    "\n",
    "\n",
    "\n",
    "#Disadvantage of Multithreading:\n",
    "\n",
    "\n",
    "#Increased complexity: Multithreading can make the program more complex and harder to debug. It can be challenging to ensure that multiple threads access shared resources in a thread-safe manner, which can lead to synchronization issues.\n",
    "\n",
    "#Overhead: Multithreading adds overhead to the program as there is additional management overhead for creating, synchronizing, and managing threads.\n",
    "\n",
    "#Race conditions: Multithreading can lead to race conditions, where multiple threads try to access the same shared resource simultaneously, resulting in unpredictable and incorrect behavior.\n",
    "\n",
    "#Resource contention: Multithreading can result in resource contention when multiple threads try to access the same resource, such as memory or I/O devices, which can lead to performance degradation.\n",
    "\n",
    "#Deadlocks: Multithreading can lead to deadlocks, where two or more threads are blocked waiting for each other to release resources, resulting in a program that hangs or crashes."
   ]
  },
  {
   "cell_type": "code",
   "execution_count": null,
   "id": "8748a67a",
   "metadata": {},
   "outputs": [],
   "source": [
    "#Q6 Explain deadlocks and race conditions.\n",
    "\n",
    "#Deadlocks and race conditions:\n",
    "\n",
    "#Deadlocks and race conditions are two common synchronization issues that can occur in multithreaded programs.\n",
    "\n",
    "#Deadlocks : A deadlock is a situation where two or more threads are blocked, waiting for each other to release a resource. In other words, each thread is holding a resource that the other thread needs to proceed, but neither thread can release its resource until it acquires the resource it is waiting for. This results in a situation where both threads are stuck, waiting indefinitely for the other thread to release the resource. Deadlocks can cause a program to hang or crash and are notoriously difficult to debug.\n",
    "\n",
    "#Race Condition : A race condition occurs when two or more threads access a shared resource simultaneously, and the final outcome depends on the order in which the threads are executed. In other words, the execution of the program depends on the timing of the threads, and if the order of execution is not controlled, it can result in unpredictable behavior. For example, if two threads try to update the same variable simultaneously, the final value of the variable will depend on which thread executed first. This can result in incorrect program behavior, such as data corruption or inconsistency.\n",
    "\n",
    "#To avoid deadlocks and race conditions, it is important to ensure that the threads access shared resources in a thread-safe manner. This can be achieved using synchronization mechanisms such as locks, semaphores, and mutexes, which allow only one thread to access a shared resource at a time. It is also important to design multithreaded programs carefully, avoiding shared resources wherever possible, and minimizing the time that a thread holds a lock to prevent deadlocks. Additionally, techniques such as thread prioritization and thread scheduling can be used to control the order of execution and avoid race conditions.\n"
   ]
  }
 ],
 "metadata": {
  "kernelspec": {
   "display_name": "Python 3 (ipykernel)",
   "language": "python",
   "name": "python3"
  },
  "language_info": {
   "codemirror_mode": {
    "name": "ipython",
    "version": 3
   },
   "file_extension": ".py",
   "mimetype": "text/x-python",
   "name": "python",
   "nbconvert_exporter": "python",
   "pygments_lexer": "ipython3",
   "version": "3.9.7"
  }
 },
 "nbformat": 4,
 "nbformat_minor": 5
}
