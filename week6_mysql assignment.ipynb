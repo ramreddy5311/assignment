{
 "cells": [
  {
   "cell_type": "code",
   "execution_count": 9,
   "id": "c843d87a",
   "metadata": {},
   "outputs": [],
   "source": [
    "#Question 1: What is a database? Differentiate between SQL and NoSQL databases.\n",
    "\n",
    "\n",
    "#Answer:\n",
    "#A database is a collection of organized data that is stored and managed on a computer system. It allows for efficient storage, retrieval, and manipulation of large amounts of data. A database system typically consists of software that manages the data, a database server that stores the data, and one or more applications that access the data.\n",
    "\n",
    "#SQL (Structured Query Language) and NoSQL (Not only SQL) are two different types of database management systems that use different methods for storing and retrieving data. Here are some key differences between the two:\n",
    "\n",
    "#Feature                        SQL databases                             NoSQL databases\n",
    "\n",
    "#Data model                    Relational data model                   Flexible data model\n",
    "#Query language                   SQL                               Database-specific query language\n",
    "#Scalability                   Vertically scalable                     Horizontally scalable\n",
    "#Consistency                   Strong consistency                   May offer weaker consistency models\n",
    "#Usage                        Complex queries and transactions      Fast and flexible data processing\n",
    "\n",
    "#Here are some examples of each databases:\n",
    "\n",
    "#1)SQL Databases:\n",
    "#mySQL\n",
    "#Oracle\n",
    "#PostgreSQL\n",
    "#Microsoft SQL Server\n",
    "#SQLite\n",
    "\n",
    "#2)NoSQL Databases:\n",
    "#MongoDB (document-oriented)\n",
    "#Cassandra (column-family)\n",
    "#Redis (key-value)\n",
    "#Neo4j (graph)\n",
    "#Amazon DynamoDB (document-oriented)\n",
    "\n",
    "#It's worth noting that there are many different types of NoSQL databases, each with their own strengths and weaknesses. For example, document-oriented databases like MongoDB are great for storing unstructured data such as JSON documents, while graph databases like Neo4j are ideal for modeling complex relationships between data points.\n",
    "\n",
    "#Similarly, there are many different types of SQL databases, each with their own features and benefits. For example, MySQL is a popular choice for web applications due to its fast performance and scalability, while PostgreSQL is often used for data warehousing and business intelligence applications due to its advanced query optimization capabilities.\n",
    "\n",
    "#Ultimately, the choice between SQL and NoSQL databases will depend on the specific requirements of your application and the type of data you need to store and process.\n",
    "\n",
    "\n"
   ]
  },
  {
   "cell_type": "code",
   "execution_count": 10,
   "id": "48221e0c",
   "metadata": {},
   "outputs": [
    {
     "name": "stdout",
     "output_type": "stream",
     "text": [
      "Requirement already satisfied: sqlalchemy==1.3.9 in c:\\users\\ram charan reddy\\anaconda3\\lib\\site-packages (1.3.9)\n",
      "Requirement already satisfied: ipython-sql in c:\\users\\ram charan reddy\\anaconda3\\lib\\site-packages (0.4.1)\n",
      "Requirement already satisfied: prettytable<1 in c:\\users\\ram charan reddy\\anaconda3\\lib\\site-packages (from ipython-sql) (0.7.2)\n",
      "Requirement already satisfied: ipython-genutils>=0.1.0 in c:\\users\\ram charan reddy\\anaconda3\\lib\\site-packages (from ipython-sql) (0.2.0)\n",
      "Requirement already satisfied: sqlparse in c:\\users\\ram charan reddy\\anaconda3\\lib\\site-packages (from ipython-sql) (0.4.4)\n",
      "Requirement already satisfied: six in c:\\users\\ram charan reddy\\anaconda3\\lib\\site-packages (from ipython-sql) (1.16.0)\n",
      "Requirement already satisfied: ipython>=1.0 in c:\\users\\ram charan reddy\\anaconda3\\lib\\site-packages (from ipython-sql) (7.29.0)\n",
      "Requirement already satisfied: pickleshare in c:\\users\\ram charan reddy\\anaconda3\\lib\\site-packages (from ipython>=1.0->ipython-sql) (0.7.5)\n",
      "Requirement already satisfied: matplotlib-inline in c:\\users\\ram charan reddy\\anaconda3\\lib\\site-packages (from ipython>=1.0->ipython-sql) (0.1.2)\n",
      "Requirement already satisfied: jedi>=0.16 in c:\\users\\ram charan reddy\\anaconda3\\lib\\site-packages (from ipython>=1.0->ipython-sql) (0.18.0)\n",
      "Requirement already satisfied: prompt-toolkit!=3.0.0,!=3.0.1,<3.1.0,>=2.0.0 in c:\\users\\ram charan reddy\\anaconda3\\lib\\site-packages (from ipython>=1.0->ipython-sql) (3.0.20)\n",
      "Requirement already satisfied: traitlets>=4.2 in c:\\users\\ram charan reddy\\anaconda3\\lib\\site-packages (from ipython>=1.0->ipython-sql) (5.1.0)\n",
      "Requirement already satisfied: decorator in c:\\users\\ram charan reddy\\anaconda3\\lib\\site-packages (from ipython>=1.0->ipython-sql) (5.1.0)\n",
      "Requirement already satisfied: setuptools>=18.5 in c:\\users\\ram charan reddy\\anaconda3\\lib\\site-packages (from ipython>=1.0->ipython-sql) (58.0.4)\n",
      "Requirement already satisfied: pygments in c:\\users\\ram charan reddy\\anaconda3\\lib\\site-packages (from ipython>=1.0->ipython-sql) (2.10.0)\n",
      "Requirement already satisfied: backcall in c:\\users\\ram charan reddy\\anaconda3\\lib\\site-packages (from ipython>=1.0->ipython-sql) (0.2.0)\n",
      "Requirement already satisfied: colorama in c:\\users\\ram charan reddy\\anaconda3\\lib\\site-packages (from ipython>=1.0->ipython-sql) (0.4.4)\n",
      "Requirement already satisfied: parso<0.9.0,>=0.8.0 in c:\\users\\ram charan reddy\\anaconda3\\lib\\site-packages (from jedi>=0.16->ipython>=1.0->ipython-sql) (0.8.2)\n",
      "Requirement already satisfied: wcwidth in c:\\users\\ram charan reddy\\anaconda3\\lib\\site-packages (from prompt-toolkit!=3.0.0,!=3.0.1,<3.1.0,>=2.0.0->ipython>=1.0->ipython-sql) (0.2.5)\n"
     ]
    }
   ],
   "source": [
    "#Q2. What is DDL? Explain why CREATE, DROP, ALTER, and TRUNCATE are used with an example.\n",
    "\n",
    "#Answer : DDL stands for Data Definition Language, which is a subset of SQL used to create, modify, and delete database objects such as tables, indexes, and views.\n",
    "#Establishing Connection with SQLite3\n",
    "#Dependencies required : sqlalchemy==1.3.9 , ipython-sql\n",
    "#Using !pip install to install above package through this jupyter notebook\n",
    "\n",
    "!pip install sqlalchemy==1.3.9 ipython-sql"
   ]
  },
  {
   "cell_type": "code",
   "execution_count": 11,
   "id": "a7b264d2",
   "metadata": {},
   "outputs": [],
   "source": [
    "%load_ext sql"
   ]
  },
  {
   "cell_type": "code",
   "execution_count": 12,
   "id": "643eecbd",
   "metadata": {},
   "outputs": [],
   "source": [
    "import csv, sqlite3\n",
    "con = sqlite3.connect(\"test.db\")\n",
    "cur = con.cursor()"
   ]
  },
  {
   "cell_type": "code",
   "execution_count": 13,
   "id": "ac9200d2",
   "metadata": {},
   "outputs": [],
   "source": [
    "%sql sqlite:///test.db"
   ]
  },
  {
   "cell_type": "code",
   "execution_count": 14,
   "id": "d968f0d2",
   "metadata": {},
   "outputs": [],
   "source": [
    "#With above a connection is now established to test.db and we can directly write a query with %%sql magic command using above\n",
    "#Note: The %%sql command is a Jupyter Notebook magic command that allows you to execute SQL queries directly in a notebook cell. Provided that database connection is established\n",
    "\n",
    "#Below are DDL Commands executed with %%sql magic command\n",
    "#CREATE: The CREATE command is used to create a new database object, such as a table, index, or view. For example, to create a new table called \"users\" with columns for a user's name, email, and password, you would use the following SQL statement:"
   ]
  },
  {
   "cell_type": "code",
   "execution_count": 15,
   "id": "4db0375a",
   "metadata": {},
   "outputs": [
    {
     "name": "stdout",
     "output_type": "stream",
     "text": [
      " * sqlite:///test.db\n",
      "Done.\n"
     ]
    },
    {
     "data": {
      "text/plain": [
       "[]"
      ]
     },
     "execution_count": 15,
     "metadata": {},
     "output_type": "execute_result"
    }
   ],
   "source": [
    "%%sql\n",
    "CREATE TABLE if not exists users\n",
    "(id INT PRIMARY KEY,\n",
    "name VARCHAR(50) NOT NULL,\n",
    "email VARCHAR(50) NOT NULL,\n",
    "password VARCHAR(50) NOT NULL);"
   ]
  },
  {
   "cell_type": "code",
   "execution_count": 16,
   "id": "3af04246",
   "metadata": {},
   "outputs": [],
   "source": [
    "#2)DROP: The DROP command is used to delete an existing database object. For example, to delete the \"users\" table created in the previous example, you would use the following SQL statement:"
   ]
  },
  {
   "cell_type": "code",
   "execution_count": 17,
   "id": "533bcbe0",
   "metadata": {},
   "outputs": [
    {
     "name": "stdout",
     "output_type": "stream",
     "text": [
      " * sqlite:///test.db\n",
      "Done.\n"
     ]
    },
    {
     "data": {
      "text/plain": [
       "[]"
      ]
     },
     "execution_count": 17,
     "metadata": {},
     "output_type": "execute_result"
    }
   ],
   "source": [
    "# DROP example to delete tables\n",
    "%sql DROP TABLE users;"
   ]
  },
  {
   "cell_type": "code",
   "execution_count": 18,
   "id": "d641b01b",
   "metadata": {},
   "outputs": [
    {
     "name": "stdout",
     "output_type": "stream",
     "text": [
      " * sqlite:///test.db\n",
      "(sqlite3.OperationalError) no such table: users\n",
      "[SQL: SELECT * FROM users]\n",
      "(Background on this error at: http://sqlalche.me/e/e3q8)\n"
     ]
    }
   ],
   "source": [
    "%sql SELECT * FROM users\n",
    "#Below output shows that users table is deleted (no such table: users)"
   ]
  },
  {
   "cell_type": "code",
   "execution_count": 19,
   "id": "35c178cd",
   "metadata": {},
   "outputs": [],
   "source": [
    "#3)ALTER: The ALTER command is used to modify an existing database object, such as a table, index, or view. For example, to add a new column to the \"users\" table to track a user's login status."
   ]
  },
  {
   "cell_type": "code",
   "execution_count": 20,
   "id": "938bb86d",
   "metadata": {},
   "outputs": [
    {
     "name": "stdout",
     "output_type": "stream",
     "text": [
      " * sqlite:///test.db\n",
      "Done.\n"
     ]
    },
    {
     "data": {
      "text/plain": [
       "[]"
      ]
     },
     "execution_count": 20,
     "metadata": {},
     "output_type": "execute_result"
    }
   ],
   "source": [
    "%%sql\n",
    "CREATE TABLE if not exists users\n",
    "(id INT PRIMARY KEY,\n",
    "name VARCHAR(50) NOT NULL,\n",
    "email VARCHAR(50) NOT NULL,\n",
    "password VARCHAR(50) NOT NULL);"
   ]
  },
  {
   "cell_type": "code",
   "execution_count": 21,
   "id": "1a77a81d",
   "metadata": {},
   "outputs": [
    {
     "name": "stdout",
     "output_type": "stream",
     "text": [
      " * sqlite:///test.db\n",
      "Done.\n"
     ]
    },
    {
     "data": {
      "text/html": [
       "<table>\n",
       "    <tr>\n",
       "        <th>id</th>\n",
       "        <th>name</th>\n",
       "        <th>email</th>\n",
       "        <th>password</th>\n",
       "    </tr>\n",
       "</table>"
      ],
      "text/plain": [
       "[]"
      ]
     },
     "execution_count": 21,
     "metadata": {},
     "output_type": "execute_result"
    }
   ],
   "source": [
    "%sql SELECT * FROM users;"
   ]
  },
  {
   "cell_type": "code",
   "execution_count": 22,
   "id": "7c797dbc",
   "metadata": {},
   "outputs": [
    {
     "name": "stdout",
     "output_type": "stream",
     "text": [
      " * sqlite:///test.db\n",
      "Done.\n"
     ]
    },
    {
     "data": {
      "text/plain": [
       "[]"
      ]
     },
     "execution_count": 22,
     "metadata": {},
     "output_type": "execute_result"
    }
   ],
   "source": [
    "# ALTER Example to change column name and schema\n",
    "%sql ALTER TABLE users ADD COLUMN login_status BOOLEAN;"
   ]
  },
  {
   "cell_type": "code",
   "execution_count": 23,
   "id": "8f4bd21d",
   "metadata": {},
   "outputs": [
    {
     "name": "stdout",
     "output_type": "stream",
     "text": [
      " * sqlite:///test.db\n",
      "Done.\n"
     ]
    },
    {
     "data": {
      "text/html": [
       "<table>\n",
       "    <tr>\n",
       "        <th>id</th>\n",
       "        <th>name</th>\n",
       "        <th>email</th>\n",
       "        <th>password</th>\n",
       "        <th>login_status</th>\n",
       "    </tr>\n",
       "</table>"
      ],
      "text/plain": [
       "[]"
      ]
     },
     "execution_count": 23,
     "metadata": {},
     "output_type": "execute_result"
    }
   ],
   "source": [
    "\n",
    "%sql SELECT * FROM users;"
   ]
  },
  {
   "cell_type": "code",
   "execution_count": 24,
   "id": "2684d902",
   "metadata": {},
   "outputs": [],
   "source": [
    "#4)TRUNCATE: The TRUNCATE command is used to delete all the rows in a table, while keeping the table structure intact. For example, to delete all the data in the \"users\" table but keep the table structure, you would use the following SQL statement:\n",
    "#*Please note that SQLite has command : DELETE FROM table_name* instead of TRUNCATE from mySQL\n",
    "\n",
    "#Command in my SQL is as below:\n",
    "#TRUNCATE TABLE table_name"
   ]
  },
  {
   "cell_type": "code",
   "execution_count": 25,
   "id": "06e342bd",
   "metadata": {},
   "outputs": [
    {
     "name": "stdout",
     "output_type": "stream",
     "text": [
      " * sqlite:///test.db\n",
      "Done.\n"
     ]
    },
    {
     "data": {
      "text/html": [
       "<table>\n",
       "    <tr>\n",
       "        <th>id</th>\n",
       "        <th>name</th>\n",
       "        <th>email</th>\n",
       "        <th>password</th>\n",
       "        <th>login_status</th>\n",
       "    </tr>\n",
       "</table>"
      ],
      "text/plain": [
       "[]"
      ]
     },
     "execution_count": 25,
     "metadata": {},
     "output_type": "execute_result"
    }
   ],
   "source": [
    "\n",
    "%sql select * from users;"
   ]
  },
  {
   "cell_type": "code",
   "execution_count": 26,
   "id": "d105cd2a",
   "metadata": {},
   "outputs": [
    {
     "name": "stdout",
     "output_type": "stream",
     "text": [
      " * sqlite:///test.db\n",
      "1 rows affected.\n",
      "1 rows affected.\n"
     ]
    },
    {
     "data": {
      "text/plain": [
       "[]"
      ]
     },
     "execution_count": 26,
     "metadata": {},
     "output_type": "execute_result"
    }
   ],
   "source": [
    "%%sql \n",
    "INSERT INTO users VALUES (1,'Jane Doe','test@test.com','123#413s',False);\n",
    "INSERT INTO users VALUES (2, 'Jane Doe','test@jane.com','21wdds2',True);"
   ]
  },
  {
   "cell_type": "code",
   "execution_count": 27,
   "id": "30271912",
   "metadata": {},
   "outputs": [
    {
     "name": "stdout",
     "output_type": "stream",
     "text": [
      " * sqlite:///test.db\n",
      "2 rows affected.\n"
     ]
    },
    {
     "data": {
      "text/plain": [
       "[]"
      ]
     },
     "execution_count": 27,
     "metadata": {},
     "output_type": "execute_result"
    }
   ],
   "source": [
    "# Truncate Example SQLITE Has DELETE command instead of TRUNCATE\n",
    "%sql DELETE FROM users;"
   ]
  },
  {
   "cell_type": "code",
   "execution_count": 28,
   "id": "a18eed19",
   "metadata": {},
   "outputs": [
    {
     "name": "stdout",
     "output_type": "stream",
     "text": [
      " * sqlite:///test.db\n",
      "Done.\n"
     ]
    },
    {
     "data": {
      "text/html": [
       "<table>\n",
       "    <tr>\n",
       "        <th>id</th>\n",
       "        <th>name</th>\n",
       "        <th>email</th>\n",
       "        <th>password</th>\n",
       "        <th>login_status</th>\n",
       "    </tr>\n",
       "</table>"
      ],
      "text/plain": [
       "[]"
      ]
     },
     "execution_count": 28,
     "metadata": {},
     "output_type": "execute_result"
    }
   ],
   "source": [
    "%sql SELECT * FROM users;"
   ]
  },
  {
   "cell_type": "code",
   "execution_count": 29,
   "id": "086bf2ba",
   "metadata": {},
   "outputs": [],
   "source": [
    "# Question 3: What is DML? Explain INSERT, UPDATE, and DELETE with an example.\n",
    "# Answer : DML stands for \"Data Manipulation Language,\" and it is a subset of SQL (Structured Query Language) that is used to manipulate data within a database. The three main commands in DML are INSERT, UPDATE, and DELETE.\n",
    "# Creating a Blank Table first with student information grades"
   ]
  },
  {
   "cell_type": "code",
   "execution_count": 30,
   "id": "d549be1c",
   "metadata": {},
   "outputs": [
    {
     "name": "stdout",
     "output_type": "stream",
     "text": [
      " * sqlite:///test.db\n",
      "Done.\n"
     ]
    },
    {
     "data": {
      "text/plain": [
       "[]"
      ]
     },
     "execution_count": 30,
     "metadata": {},
     "output_type": "execute_result"
    }
   ],
   "source": [
    "%%sql\n",
    "CREATE TABLE if not exists students\n",
    "(name VARCHAR(50) ,\n",
    "age INT ,\n",
    "grade VARCHAR(2));"
   ]
  },
  {
   "cell_type": "code",
   "execution_count": 31,
   "id": "dc0857d4",
   "metadata": {},
   "outputs": [
    {
     "name": "stdout",
     "output_type": "stream",
     "text": [
      " * sqlite:///test.db\n",
      "Done.\n"
     ]
    },
    {
     "data": {
      "text/html": [
       "<table>\n",
       "    <tr>\n",
       "        <th>name</th>\n",
       "        <th>age</th>\n",
       "        <th>grade</th>\n",
       "    </tr>\n",
       "    <tr>\n",
       "        <td>ram charan</td>\n",
       "        <td>28</td>\n",
       "        <td>B</td>\n",
       "    </tr>\n",
       "    <tr>\n",
       "        <td>Utkarsh</td>\n",
       "        <td>28</td>\n",
       "        <td>A</td>\n",
       "    </tr>\n",
       "    <tr>\n",
       "        <td>John</td>\n",
       "        <td>35</td>\n",
       "        <td>B</td>\n",
       "    </tr>\n",
       "    <tr>\n",
       "        <td>Krish</td>\n",
       "        <td>40</td>\n",
       "        <td>A</td>\n",
       "    </tr>\n",
       "    <tr>\n",
       "        <td>Sudh</td>\n",
       "        <td>35</td>\n",
       "        <td>A</td>\n",
       "    </tr>\n",
       "    <tr>\n",
       "        <td>Jane</td>\n",
       "        <td>24</td>\n",
       "        <td>C</td>\n",
       "    </tr>\n",
       "    <tr>\n",
       "        <td>Aditi</td>\n",
       "        <td>22</td>\n",
       "        <td>B</td>\n",
       "    </tr>\n",
       "    <tr>\n",
       "        <td>Kritika</td>\n",
       "        <td>38</td>\n",
       "        <td>C</td>\n",
       "    </tr>\n",
       "</table>"
      ],
      "text/plain": [
       "[('ram charan', 28, 'B'),\n",
       " ('Utkarsh', 28, 'A'),\n",
       " ('John', 35, 'B'),\n",
       " ('Krish', 40, 'A'),\n",
       " ('Sudh', 35, 'A'),\n",
       " ('Jane', 24, 'C'),\n",
       " ('Aditi', 22, 'B'),\n",
       " ('Kritika', 38, 'C')]"
      ]
     },
     "execution_count": 31,
     "metadata": {},
     "output_type": "execute_result"
    }
   ],
   "source": [
    "# Viewing the students table\n",
    "%sql SELECT * FROM students"
   ]
  },
  {
   "cell_type": "code",
   "execution_count": 32,
   "id": "3ea404d5",
   "metadata": {},
   "outputs": [],
   "source": [
    "#1)INSERT - The INSERT command is used to add new data to a database table."
   ]
  },
  {
   "cell_type": "code",
   "execution_count": 33,
   "id": "26f17bee",
   "metadata": {},
   "outputs": [
    {
     "name": "stdout",
     "output_type": "stream",
     "text": [
      " * sqlite:///test.db\n",
      "1 rows affected.\n"
     ]
    },
    {
     "data": {
      "text/plain": [
       "[]"
      ]
     },
     "execution_count": 33,
     "metadata": {},
     "output_type": "execute_result"
    }
   ],
   "source": [
    "#INSERT Command\n",
    "%sql INSERT INTO students VALUES ('ram charan', 28, 'B');"
   ]
  },
  {
   "cell_type": "code",
   "execution_count": 34,
   "id": "1e028784",
   "metadata": {},
   "outputs": [
    {
     "name": "stdout",
     "output_type": "stream",
     "text": [
      " * sqlite:///test.db\n",
      "Done.\n"
     ]
    },
    {
     "data": {
      "text/html": [
       "<table>\n",
       "    <tr>\n",
       "        <th>name</th>\n",
       "        <th>age</th>\n",
       "        <th>grade</th>\n",
       "    </tr>\n",
       "    <tr>\n",
       "        <td>ram charan</td>\n",
       "        <td>28</td>\n",
       "        <td>B</td>\n",
       "    </tr>\n",
       "    <tr>\n",
       "        <td>Utkarsh</td>\n",
       "        <td>28</td>\n",
       "        <td>A</td>\n",
       "    </tr>\n",
       "    <tr>\n",
       "        <td>John</td>\n",
       "        <td>35</td>\n",
       "        <td>B</td>\n",
       "    </tr>\n",
       "    <tr>\n",
       "        <td>Krish</td>\n",
       "        <td>40</td>\n",
       "        <td>A</td>\n",
       "    </tr>\n",
       "    <tr>\n",
       "        <td>Sudh</td>\n",
       "        <td>35</td>\n",
       "        <td>A</td>\n",
       "    </tr>\n",
       "    <tr>\n",
       "        <td>Jane</td>\n",
       "        <td>24</td>\n",
       "        <td>C</td>\n",
       "    </tr>\n",
       "    <tr>\n",
       "        <td>Aditi</td>\n",
       "        <td>22</td>\n",
       "        <td>B</td>\n",
       "    </tr>\n",
       "    <tr>\n",
       "        <td>Kritika</td>\n",
       "        <td>38</td>\n",
       "        <td>C</td>\n",
       "    </tr>\n",
       "    <tr>\n",
       "        <td>ram charan</td>\n",
       "        <td>28</td>\n",
       "        <td>B</td>\n",
       "    </tr>\n",
       "</table>"
      ],
      "text/plain": [
       "[('ram charan', 28, 'B'),\n",
       " ('Utkarsh', 28, 'A'),\n",
       " ('John', 35, 'B'),\n",
       " ('Krish', 40, 'A'),\n",
       " ('Sudh', 35, 'A'),\n",
       " ('Jane', 24, 'C'),\n",
       " ('Aditi', 22, 'B'),\n",
       " ('Kritika', 38, 'C'),\n",
       " ('ram charan', 28, 'B')]"
      ]
     },
     "execution_count": 34,
     "metadata": {},
     "output_type": "execute_result"
    }
   ],
   "source": [
    "# Viewing the table now\n",
    "%sql SELECT * FROM students"
   ]
  },
  {
   "cell_type": "code",
   "execution_count": 35,
   "id": "bdf84a90",
   "metadata": {},
   "outputs": [],
   "source": [
    "#2)UPDATE: The UPDATE command is used to modify existing data in a database table"
   ]
  },
  {
   "cell_type": "code",
   "execution_count": 36,
   "id": "d14d490d",
   "metadata": {},
   "outputs": [
    {
     "name": "stdout",
     "output_type": "stream",
     "text": [
      " * sqlite:///test.db\n",
      "0 rows affected.\n"
     ]
    },
    {
     "data": {
      "text/plain": [
       "[]"
      ]
     },
     "execution_count": 36,
     "metadata": {},
     "output_type": "execute_result"
    }
   ],
   "source": [
    "# UPDATE example\n",
    "%sql UPDATE students SET grade = 'A+' WHERE name = 'Utkarsh Gaikwad';"
   ]
  },
  {
   "cell_type": "code",
   "execution_count": 37,
   "id": "51e2718a",
   "metadata": {},
   "outputs": [
    {
     "name": "stdout",
     "output_type": "stream",
     "text": [
      " * sqlite:///test.db\n",
      "Done.\n"
     ]
    },
    {
     "data": {
      "text/html": [
       "<table>\n",
       "    <tr>\n",
       "        <th>name</th>\n",
       "        <th>age</th>\n",
       "        <th>grade</th>\n",
       "    </tr>\n",
       "    <tr>\n",
       "        <td>ram charan</td>\n",
       "        <td>28</td>\n",
       "        <td>B</td>\n",
       "    </tr>\n",
       "    <tr>\n",
       "        <td>Utkarsh</td>\n",
       "        <td>28</td>\n",
       "        <td>A</td>\n",
       "    </tr>\n",
       "    <tr>\n",
       "        <td>John</td>\n",
       "        <td>35</td>\n",
       "        <td>B</td>\n",
       "    </tr>\n",
       "    <tr>\n",
       "        <td>Krish</td>\n",
       "        <td>40</td>\n",
       "        <td>A</td>\n",
       "    </tr>\n",
       "    <tr>\n",
       "        <td>Sudh</td>\n",
       "        <td>35</td>\n",
       "        <td>A</td>\n",
       "    </tr>\n",
       "    <tr>\n",
       "        <td>Jane</td>\n",
       "        <td>24</td>\n",
       "        <td>C</td>\n",
       "    </tr>\n",
       "    <tr>\n",
       "        <td>Aditi</td>\n",
       "        <td>22</td>\n",
       "        <td>B</td>\n",
       "    </tr>\n",
       "    <tr>\n",
       "        <td>Kritika</td>\n",
       "        <td>38</td>\n",
       "        <td>C</td>\n",
       "    </tr>\n",
       "    <tr>\n",
       "        <td>ram charan</td>\n",
       "        <td>28</td>\n",
       "        <td>B</td>\n",
       "    </tr>\n",
       "</table>"
      ],
      "text/plain": [
       "[('ram charan', 28, 'B'),\n",
       " ('Utkarsh', 28, 'A'),\n",
       " ('John', 35, 'B'),\n",
       " ('Krish', 40, 'A'),\n",
       " ('Sudh', 35, 'A'),\n",
       " ('Jane', 24, 'C'),\n",
       " ('Aditi', 22, 'B'),\n",
       " ('Kritika', 38, 'C'),\n",
       " ('ram charan', 28, 'B')]"
      ]
     },
     "execution_count": 37,
     "metadata": {},
     "output_type": "execute_result"
    }
   ],
   "source": [
    "#View Updated table\n",
    "%sql SELECT * FROM students;"
   ]
  },
  {
   "cell_type": "code",
   "execution_count": 38,
   "id": "d8201acb",
   "metadata": {},
   "outputs": [],
   "source": [
    "#3)DELETE: The DELETE command is used to remove data from a database table.DELETE: The DELETE command is used to remove data from a database table."
   ]
  },
  {
   "cell_type": "code",
   "execution_count": 39,
   "id": "0aa0c086",
   "metadata": {},
   "outputs": [
    {
     "name": "stdout",
     "output_type": "stream",
     "text": [
      " * sqlite:///test.db\n",
      "0 rows affected.\n"
     ]
    },
    {
     "data": {
      "text/plain": [
       "[]"
      ]
     },
     "execution_count": 39,
     "metadata": {},
     "output_type": "execute_result"
    }
   ],
   "source": [
    "%sql DELETE FROM students WHERE name='Utkarsh Gaikwad';"
   ]
  },
  {
   "cell_type": "code",
   "execution_count": 40,
   "id": "ed42f079",
   "metadata": {},
   "outputs": [
    {
     "name": "stdout",
     "output_type": "stream",
     "text": [
      " * sqlite:///test.db\n",
      "Done.\n"
     ]
    },
    {
     "data": {
      "text/html": [
       "<table>\n",
       "    <tr>\n",
       "        <th>name</th>\n",
       "        <th>age</th>\n",
       "        <th>grade</th>\n",
       "    </tr>\n",
       "    <tr>\n",
       "        <td>ram charan</td>\n",
       "        <td>28</td>\n",
       "        <td>B</td>\n",
       "    </tr>\n",
       "    <tr>\n",
       "        <td>Utkarsh</td>\n",
       "        <td>28</td>\n",
       "        <td>A</td>\n",
       "    </tr>\n",
       "    <tr>\n",
       "        <td>John</td>\n",
       "        <td>35</td>\n",
       "        <td>B</td>\n",
       "    </tr>\n",
       "    <tr>\n",
       "        <td>Krish</td>\n",
       "        <td>40</td>\n",
       "        <td>A</td>\n",
       "    </tr>\n",
       "    <tr>\n",
       "        <td>Sudh</td>\n",
       "        <td>35</td>\n",
       "        <td>A</td>\n",
       "    </tr>\n",
       "    <tr>\n",
       "        <td>Jane</td>\n",
       "        <td>24</td>\n",
       "        <td>C</td>\n",
       "    </tr>\n",
       "    <tr>\n",
       "        <td>Aditi</td>\n",
       "        <td>22</td>\n",
       "        <td>B</td>\n",
       "    </tr>\n",
       "    <tr>\n",
       "        <td>Kritika</td>\n",
       "        <td>38</td>\n",
       "        <td>C</td>\n",
       "    </tr>\n",
       "    <tr>\n",
       "        <td>ram charan</td>\n",
       "        <td>28</td>\n",
       "        <td>B</td>\n",
       "    </tr>\n",
       "</table>"
      ],
      "text/plain": [
       "[('ram charan', 28, 'B'),\n",
       " ('Utkarsh', 28, 'A'),\n",
       " ('John', 35, 'B'),\n",
       " ('Krish', 40, 'A'),\n",
       " ('Sudh', 35, 'A'),\n",
       " ('Jane', 24, 'C'),\n",
       " ('Aditi', 22, 'B'),\n",
       " ('Kritika', 38, 'C'),\n",
       " ('ram charan', 28, 'B')]"
      ]
     },
     "execution_count": 40,
     "metadata": {},
     "output_type": "execute_result"
    }
   ],
   "source": [
    "%sql SELECT * FROM students;"
   ]
  },
  {
   "cell_type": "code",
   "execution_count": 41,
   "id": "c38ffd23",
   "metadata": {},
   "outputs": [],
   "source": [
    "# Question 4: What is DQL? Explain SELECT with an example.\n",
    "# Answer : DQL stands for \"Data Query Language,\" and it is a subset of SQL (Structured Query Language) that is used to retrieve data from a database. The main command in DQL is SELECT."
   ]
  },
  {
   "cell_type": "code",
   "execution_count": 42,
   "id": "0c38ea13",
   "metadata": {},
   "outputs": [
    {
     "name": "stdout",
     "output_type": "stream",
     "text": [
      " * sqlite:///test.db\n",
      "Done.\n"
     ]
    },
    {
     "data": {
      "text/html": [
       "<table>\n",
       "    <tr>\n",
       "        <th>name</th>\n",
       "        <th>age</th>\n",
       "        <th>grade</th>\n",
       "    </tr>\n",
       "    <tr>\n",
       "        <td>ram charan</td>\n",
       "        <td>28</td>\n",
       "        <td>B</td>\n",
       "    </tr>\n",
       "    <tr>\n",
       "        <td>Utkarsh</td>\n",
       "        <td>28</td>\n",
       "        <td>A</td>\n",
       "    </tr>\n",
       "    <tr>\n",
       "        <td>John</td>\n",
       "        <td>35</td>\n",
       "        <td>B</td>\n",
       "    </tr>\n",
       "    <tr>\n",
       "        <td>Krish</td>\n",
       "        <td>40</td>\n",
       "        <td>A</td>\n",
       "    </tr>\n",
       "    <tr>\n",
       "        <td>Sudh</td>\n",
       "        <td>35</td>\n",
       "        <td>A</td>\n",
       "    </tr>\n",
       "    <tr>\n",
       "        <td>Jane</td>\n",
       "        <td>24</td>\n",
       "        <td>C</td>\n",
       "    </tr>\n",
       "    <tr>\n",
       "        <td>Aditi</td>\n",
       "        <td>22</td>\n",
       "        <td>B</td>\n",
       "    </tr>\n",
       "    <tr>\n",
       "        <td>Kritika</td>\n",
       "        <td>38</td>\n",
       "        <td>C</td>\n",
       "    </tr>\n",
       "    <tr>\n",
       "        <td>ram charan</td>\n",
       "        <td>28</td>\n",
       "        <td>B</td>\n",
       "    </tr>\n",
       "</table>"
      ],
      "text/plain": [
       "[('ram charan', 28, 'B'),\n",
       " ('Utkarsh', 28, 'A'),\n",
       " ('John', 35, 'B'),\n",
       " ('Krish', 40, 'A'),\n",
       " ('Sudh', 35, 'A'),\n",
       " ('Jane', 24, 'C'),\n",
       " ('Aditi', 22, 'B'),\n",
       " ('Kritika', 38, 'C'),\n",
       " ('ram charan', 28, 'B')]"
      ]
     },
     "execution_count": 42,
     "metadata": {},
     "output_type": "execute_result"
    }
   ],
   "source": [
    "%sql SELECt * FROM students"
   ]
  },
  {
   "cell_type": "code",
   "execution_count": 43,
   "id": "a5f1969c",
   "metadata": {},
   "outputs": [
    {
     "name": "stdout",
     "output_type": "stream",
     "text": [
      " * sqlite:///test.db\n",
      "1 rows affected.\n",
      "1 rows affected.\n",
      "1 rows affected.\n",
      "1 rows affected.\n",
      "1 rows affected.\n",
      "1 rows affected.\n",
      "1 rows affected.\n"
     ]
    },
    {
     "data": {
      "text/plain": [
       "[]"
      ]
     },
     "execution_count": 43,
     "metadata": {},
     "output_type": "execute_result"
    }
   ],
   "source": [
    "%%sql\n",
    "INSERT INTO students VALUES ('Utkarsh', 28, 'A');\n",
    "INSERT INTO students VALUES ('John', 35, 'B');\n",
    "INSERT INTO students VALUES ('Krish', 40, 'A');\n",
    "INSERT INTO students VALUES ('Sudh', 35, 'A');\n",
    "INSERT INTO students VALUES ('Jane', 24, 'C');\n",
    "INSERT INTO students VALUES ('Aditi', 22, 'B');\n",
    "INSERT INTO students VALUES ('Kritika', 38, 'C')"
   ]
  },
  {
   "cell_type": "code",
   "execution_count": 44,
   "id": "751b7b56",
   "metadata": {},
   "outputs": [
    {
     "name": "stdout",
     "output_type": "stream",
     "text": [
      " * sqlite:///test.db\n",
      "Done.\n"
     ]
    },
    {
     "data": {
      "text/html": [
       "<table>\n",
       "    <tr>\n",
       "        <th>name</th>\n",
       "        <th>age</th>\n",
       "        <th>grade</th>\n",
       "    </tr>\n",
       "    <tr>\n",
       "        <td>ram charan</td>\n",
       "        <td>28</td>\n",
       "        <td>B</td>\n",
       "    </tr>\n",
       "    <tr>\n",
       "        <td>Utkarsh</td>\n",
       "        <td>28</td>\n",
       "        <td>A</td>\n",
       "    </tr>\n",
       "    <tr>\n",
       "        <td>John</td>\n",
       "        <td>35</td>\n",
       "        <td>B</td>\n",
       "    </tr>\n",
       "    <tr>\n",
       "        <td>Krish</td>\n",
       "        <td>40</td>\n",
       "        <td>A</td>\n",
       "    </tr>\n",
       "    <tr>\n",
       "        <td>Sudh</td>\n",
       "        <td>35</td>\n",
       "        <td>A</td>\n",
       "    </tr>\n",
       "    <tr>\n",
       "        <td>Jane</td>\n",
       "        <td>24</td>\n",
       "        <td>C</td>\n",
       "    </tr>\n",
       "    <tr>\n",
       "        <td>Aditi</td>\n",
       "        <td>22</td>\n",
       "        <td>B</td>\n",
       "    </tr>\n",
       "    <tr>\n",
       "        <td>Kritika</td>\n",
       "        <td>38</td>\n",
       "        <td>C</td>\n",
       "    </tr>\n",
       "    <tr>\n",
       "        <td>ram charan</td>\n",
       "        <td>28</td>\n",
       "        <td>B</td>\n",
       "    </tr>\n",
       "    <tr>\n",
       "        <td>Utkarsh</td>\n",
       "        <td>28</td>\n",
       "        <td>A</td>\n",
       "    </tr>\n",
       "    <tr>\n",
       "        <td>John</td>\n",
       "        <td>35</td>\n",
       "        <td>B</td>\n",
       "    </tr>\n",
       "    <tr>\n",
       "        <td>Krish</td>\n",
       "        <td>40</td>\n",
       "        <td>A</td>\n",
       "    </tr>\n",
       "    <tr>\n",
       "        <td>Sudh</td>\n",
       "        <td>35</td>\n",
       "        <td>A</td>\n",
       "    </tr>\n",
       "    <tr>\n",
       "        <td>Jane</td>\n",
       "        <td>24</td>\n",
       "        <td>C</td>\n",
       "    </tr>\n",
       "    <tr>\n",
       "        <td>Aditi</td>\n",
       "        <td>22</td>\n",
       "        <td>B</td>\n",
       "    </tr>\n",
       "    <tr>\n",
       "        <td>Kritika</td>\n",
       "        <td>38</td>\n",
       "        <td>C</td>\n",
       "    </tr>\n",
       "</table>"
      ],
      "text/plain": [
       "[('ram charan', 28, 'B'),\n",
       " ('Utkarsh', 28, 'A'),\n",
       " ('John', 35, 'B'),\n",
       " ('Krish', 40, 'A'),\n",
       " ('Sudh', 35, 'A'),\n",
       " ('Jane', 24, 'C'),\n",
       " ('Aditi', 22, 'B'),\n",
       " ('Kritika', 38, 'C'),\n",
       " ('ram charan', 28, 'B'),\n",
       " ('Utkarsh', 28, 'A'),\n",
       " ('John', 35, 'B'),\n",
       " ('Krish', 40, 'A'),\n",
       " ('Sudh', 35, 'A'),\n",
       " ('Jane', 24, 'C'),\n",
       " ('Aditi', 22, 'B'),\n",
       " ('Kritika', 38, 'C')]"
      ]
     },
     "execution_count": 44,
     "metadata": {},
     "output_type": "execute_result"
    }
   ],
   "source": [
    "# Selecting Entire students table\n",
    "%sql SELECT * from students;"
   ]
  },
  {
   "cell_type": "code",
   "execution_count": 45,
   "id": "d13ec6fc",
   "metadata": {},
   "outputs": [
    {
     "name": "stdout",
     "output_type": "stream",
     "text": [
      " * sqlite:///test.db\n",
      "Done.\n"
     ]
    },
    {
     "data": {
      "text/html": [
       "<table>\n",
       "    <tr>\n",
       "        <th>name</th>\n",
       "        <th>age</th>\n",
       "    </tr>\n",
       "    <tr>\n",
       "        <td>ram charan</td>\n",
       "        <td>28</td>\n",
       "    </tr>\n",
       "    <tr>\n",
       "        <td>Utkarsh</td>\n",
       "        <td>28</td>\n",
       "    </tr>\n",
       "    <tr>\n",
       "        <td>John</td>\n",
       "        <td>35</td>\n",
       "    </tr>\n",
       "    <tr>\n",
       "        <td>Krish</td>\n",
       "        <td>40</td>\n",
       "    </tr>\n",
       "    <tr>\n",
       "        <td>Sudh</td>\n",
       "        <td>35</td>\n",
       "    </tr>\n",
       "    <tr>\n",
       "        <td>Jane</td>\n",
       "        <td>24</td>\n",
       "    </tr>\n",
       "    <tr>\n",
       "        <td>Aditi</td>\n",
       "        <td>22</td>\n",
       "    </tr>\n",
       "    <tr>\n",
       "        <td>Kritika</td>\n",
       "        <td>38</td>\n",
       "    </tr>\n",
       "    <tr>\n",
       "        <td>ram charan</td>\n",
       "        <td>28</td>\n",
       "    </tr>\n",
       "    <tr>\n",
       "        <td>Utkarsh</td>\n",
       "        <td>28</td>\n",
       "    </tr>\n",
       "    <tr>\n",
       "        <td>John</td>\n",
       "        <td>35</td>\n",
       "    </tr>\n",
       "    <tr>\n",
       "        <td>Krish</td>\n",
       "        <td>40</td>\n",
       "    </tr>\n",
       "    <tr>\n",
       "        <td>Sudh</td>\n",
       "        <td>35</td>\n",
       "    </tr>\n",
       "    <tr>\n",
       "        <td>Jane</td>\n",
       "        <td>24</td>\n",
       "    </tr>\n",
       "    <tr>\n",
       "        <td>Aditi</td>\n",
       "        <td>22</td>\n",
       "    </tr>\n",
       "    <tr>\n",
       "        <td>Kritika</td>\n",
       "        <td>38</td>\n",
       "    </tr>\n",
       "</table>"
      ],
      "text/plain": [
       "[('ram charan', 28),\n",
       " ('Utkarsh', 28),\n",
       " ('John', 35),\n",
       " ('Krish', 40),\n",
       " ('Sudh', 35),\n",
       " ('Jane', 24),\n",
       " ('Aditi', 22),\n",
       " ('Kritika', 38),\n",
       " ('ram charan', 28),\n",
       " ('Utkarsh', 28),\n",
       " ('John', 35),\n",
       " ('Krish', 40),\n",
       " ('Sudh', 35),\n",
       " ('Jane', 24),\n",
       " ('Aditi', 22),\n",
       " ('Kritika', 38)]"
      ]
     },
     "execution_count": 45,
     "metadata": {},
     "output_type": "execute_result"
    }
   ],
   "source": [
    "# Example 2 : Show only name and age of students\n",
    "%sql SELECT name, age FROM students;"
   ]
  },
  {
   "cell_type": "code",
   "execution_count": 46,
   "id": "6e129473",
   "metadata": {},
   "outputs": [
    {
     "name": "stdout",
     "output_type": "stream",
     "text": [
      " * sqlite:///test.db\n",
      "Done.\n"
     ]
    },
    {
     "data": {
      "text/html": [
       "<table>\n",
       "    <tr>\n",
       "        <th>name</th>\n",
       "        <th>age</th>\n",
       "        <th>grade</th>\n",
       "    </tr>\n",
       "    <tr>\n",
       "        <td>Utkarsh</td>\n",
       "        <td>28</td>\n",
       "        <td>A</td>\n",
       "    </tr>\n",
       "    <tr>\n",
       "        <td>Krish</td>\n",
       "        <td>40</td>\n",
       "        <td>A</td>\n",
       "    </tr>\n",
       "    <tr>\n",
       "        <td>Sudh</td>\n",
       "        <td>35</td>\n",
       "        <td>A</td>\n",
       "    </tr>\n",
       "    <tr>\n",
       "        <td>Utkarsh</td>\n",
       "        <td>28</td>\n",
       "        <td>A</td>\n",
       "    </tr>\n",
       "    <tr>\n",
       "        <td>Krish</td>\n",
       "        <td>40</td>\n",
       "        <td>A</td>\n",
       "    </tr>\n",
       "    <tr>\n",
       "        <td>Sudh</td>\n",
       "        <td>35</td>\n",
       "        <td>A</td>\n",
       "    </tr>\n",
       "</table>"
      ],
      "text/plain": [
       "[('Utkarsh', 28, 'A'),\n",
       " ('Krish', 40, 'A'),\n",
       " ('Sudh', 35, 'A'),\n",
       " ('Utkarsh', 28, 'A'),\n",
       " ('Krish', 40, 'A'),\n",
       " ('Sudh', 35, 'A')]"
      ]
     },
     "execution_count": 46,
     "metadata": {},
     "output_type": "execute_result"
    }
   ],
   "source": [
    "# Example 3: Selecting student with A Grade\n",
    "%sql SELECT * FROM students WHERE grade='A';"
   ]
  },
  {
   "cell_type": "code",
   "execution_count": 47,
   "id": "e8cb5868",
   "metadata": {},
   "outputs": [],
   "source": [
    "# Question 5: Explain Primary Key and Foreign Key.\n",
    "# Answer:\n",
    "# Primary Key: In a database table, a primary key is a column or a set of columns that uniquely identifies each row in the table. The primary key is used to ensure that each row in the table is unique, and it is often used as a reference by other tables. The primary key is also used to enforce data integrity, which means that it ensures that there are no duplicate or null values in the key column(s).\n",
    "# Creating a table named \"customers\" with columns \"customer_id\", \"first_name\", \"last_name\", and \"email\". The \"customer_id\" column is defined as the primary key."
   ]
  },
  {
   "cell_type": "code",
   "execution_count": 48,
   "id": "8e885e55",
   "metadata": {},
   "outputs": [
    {
     "name": "stdout",
     "output_type": "stream",
     "text": [
      " * sqlite:///test.db\n",
      "(sqlite3.OperationalError) table customers already exists\n",
      "[SQL: CREATE TABLE customers (\n",
      "  customer_id INT PRIMARY KEY,\n",
      "  first_name VARCHAR(50),\n",
      "  last_name VARCHAR(50),\n",
      "  email VARCHAR(100));]\n",
      "(Background on this error at: http://sqlalche.me/e/e3q8)\n"
     ]
    }
   ],
   "source": [
    "%%sql\n",
    "CREATE TABLE customers (\n",
    "  customer_id INT PRIMARY KEY,\n",
    "  first_name VARCHAR(50),\n",
    "  last_name VARCHAR(50),\n",
    "  email VARCHAR(100));"
   ]
  },
  {
   "cell_type": "code",
   "execution_count": 49,
   "id": "9223f2e7",
   "metadata": {},
   "outputs": [
    {
     "name": "stdout",
     "output_type": "stream",
     "text": [
      " * sqlite:///test.db\n",
      "Done.\n"
     ]
    },
    {
     "data": {
      "text/html": [
       "<table>\n",
       "    <tr>\n",
       "        <th>customer_id</th>\n",
       "        <th>first_name</th>\n",
       "        <th>last_name</th>\n",
       "        <th>email</th>\n",
       "    </tr>\n",
       "</table>"
      ],
      "text/plain": [
       "[]"
      ]
     },
     "execution_count": 49,
     "metadata": {},
     "output_type": "execute_result"
    }
   ],
   "source": [
    "%sql SELECT * FROM customers"
   ]
  },
  {
   "cell_type": "code",
   "execution_count": 50,
   "id": "67f9dc51",
   "metadata": {},
   "outputs": [],
   "source": [
    "#2) Foreign Key: A foreign key is a column or a set of columns in a table that refers to the primary key of another table. The foreign key is used to establish a relationship between two tables, and it ensures that the data in the foreign key column(s) of one table matches the data in the primary key column(s) of the other table.\n",
    "\n",
    "# Creating a table named \"orders\" with columns \"order_id\", \"order_date\", \"customer_id\", and \"total_amount\". The \"order_id\" column is defined as the primary key, and the \"customer_id\" column is defined as a foreign key that references the \"customer_id\" column of the \"customers\" table. This establishes a relationship between the \"orders\" table and the \"customers\" table. The \"total_amount\" column is used to store the total amount of the order."
   ]
  },
  {
   "cell_type": "code",
   "execution_count": 51,
   "id": "2e095512",
   "metadata": {},
   "outputs": [
    {
     "name": "stdout",
     "output_type": "stream",
     "text": [
      " * sqlite:///test.db\n",
      "(sqlite3.OperationalError) table orders already exists\n",
      "[SQL: CREATE TABLE orders (\n",
      "  order_id INT PRIMARY KEY,\n",
      "  order_date DATE,\n",
      "  customer_id INT,\n",
      "  total_amount DECIMAL(10,2),\n",
      "  FOREIGN KEY (customer_id) REFERENCES customers(customer_id));]\n",
      "(Background on this error at: http://sqlalche.me/e/e3q8)\n"
     ]
    }
   ],
   "source": [
    "%%sql\n",
    "CREATE TABLE orders (\n",
    "  order_id INT PRIMARY KEY,\n",
    "  order_date DATE,\n",
    "  customer_id INT,\n",
    "  total_amount DECIMAL(10,2),\n",
    "  FOREIGN KEY (customer_id) REFERENCES customers(customer_id));"
   ]
  },
  {
   "cell_type": "code",
   "execution_count": 52,
   "id": "9d5d47e7",
   "metadata": {},
   "outputs": [
    {
     "name": "stdout",
     "output_type": "stream",
     "text": [
      " * sqlite:///test.db\n",
      "Done.\n"
     ]
    },
    {
     "data": {
      "text/html": [
       "<table>\n",
       "    <tr>\n",
       "        <th>order_id</th>\n",
       "        <th>order_date</th>\n",
       "        <th>customer_id</th>\n",
       "        <th>total_amount</th>\n",
       "    </tr>\n",
       "</table>"
      ],
      "text/plain": [
       "[]"
      ]
     },
     "execution_count": 52,
     "metadata": {},
     "output_type": "execute_result"
    }
   ],
   "source": [
    "%sql SELECT * FROM orders"
   ]
  },
  {
   "cell_type": "code",
   "execution_count": 53,
   "id": "396554f8",
   "metadata": {},
   "outputs": [],
   "source": [
    "con.close()"
   ]
  },
  {
   "cell_type": "code",
   "execution_count": 54,
   "id": "6dfcb2f5",
   "metadata": {},
   "outputs": [],
   "source": [
    "#Q6. Write a python code to connect MySQL to python. Explain the cursor() and execute() method"
   ]
  },
  {
   "cell_type": "code",
   "execution_count": 55,
   "id": "4ad6ee73",
   "metadata": {},
   "outputs": [
    {
     "name": "stdout",
     "output_type": "stream",
     "text": [
      "Requirement already satisfied: mysql-connector-python in c:\\users\\ram charan reddy\\anaconda3\\lib\\site-packages (8.3.0)\n"
     ]
    }
   ],
   "source": [
    "!pip install mysql-connector-python"
   ]
  },
  {
   "cell_type": "code",
   "execution_count": 58,
   "id": "5de82215",
   "metadata": {},
   "outputs": [
    {
     "ename": "DatabaseError",
     "evalue": "2005 (HY000): Unknown MySQL server host 'local_host' (11001)",
     "output_type": "error",
     "traceback": [
      "\u001b[1;31m---------------------------------------------------------------------------\u001b[0m",
      "\u001b[1;31mMySQLInterfaceError\u001b[0m                       Traceback (most recent call last)",
      "\u001b[1;32m~\\anaconda3\\lib\\site-packages\\mysql\\connector\\connection_cext.py\u001b[0m in \u001b[0;36m_open_connection\u001b[1;34m(self)\u001b[0m\n\u001b[0;32m    322\u001b[0m         \u001b[1;32mtry\u001b[0m\u001b[1;33m:\u001b[0m\u001b[1;33m\u001b[0m\u001b[1;33m\u001b[0m\u001b[0m\n\u001b[1;32m--> 323\u001b[1;33m             \u001b[0mself\u001b[0m\u001b[1;33m.\u001b[0m\u001b[0m_cmysql\u001b[0m\u001b[1;33m.\u001b[0m\u001b[0mconnect\u001b[0m\u001b[1;33m(\u001b[0m\u001b[1;33m**\u001b[0m\u001b[0mcnx_kwargs\u001b[0m\u001b[1;33m)\u001b[0m\u001b[1;33m\u001b[0m\u001b[1;33m\u001b[0m\u001b[0m\n\u001b[0m\u001b[0;32m    324\u001b[0m             \u001b[0mself\u001b[0m\u001b[1;33m.\u001b[0m\u001b[0m_cmysql\u001b[0m\u001b[1;33m.\u001b[0m\u001b[0mconverter_str_fallback\u001b[0m \u001b[1;33m=\u001b[0m \u001b[0mself\u001b[0m\u001b[1;33m.\u001b[0m\u001b[0m_converter_str_fallback\u001b[0m\u001b[1;33m\u001b[0m\u001b[1;33m\u001b[0m\u001b[0m\n",
      "\u001b[1;31mMySQLInterfaceError\u001b[0m: Unknown MySQL server host 'local_host' (11001)",
      "\nThe above exception was the direct cause of the following exception:\n",
      "\u001b[1;31mDatabaseError\u001b[0m                             Traceback (most recent call last)",
      "\u001b[1;32mC:\\Users\\RAMCHA~1\\AppData\\Local\\Temp/ipykernel_15788/1481630704.py\u001b[0m in \u001b[0;36m<module>\u001b[1;34m\u001b[0m\n\u001b[0;32m      2\u001b[0m \u001b[1;33m\u001b[0m\u001b[0m\n\u001b[0;32m      3\u001b[0m \u001b[1;31m# Establish the connection\u001b[0m\u001b[1;33m\u001b[0m\u001b[1;33m\u001b[0m\u001b[0m\n\u001b[1;32m----> 4\u001b[1;33m connection = mysql.connector.connect(\n\u001b[0m\u001b[0;32m      5\u001b[0m     \u001b[0mhost\u001b[0m\u001b[1;33m=\u001b[0m\u001b[1;34m\"local_host\"\u001b[0m\u001b[1;33m,\u001b[0m\u001b[1;33m\u001b[0m\u001b[1;33m\u001b[0m\u001b[0m\n\u001b[0;32m      6\u001b[0m     \u001b[0muser\u001b[0m\u001b[1;33m=\u001b[0m\u001b[1;34m\"abcd\"\u001b[0m\u001b[1;33m,\u001b[0m\u001b[1;33m\u001b[0m\u001b[1;33m\u001b[0m\u001b[0m\n",
      "\u001b[1;32m~\\anaconda3\\lib\\site-packages\\mysql\\connector\\pooling.py\u001b[0m in \u001b[0;36mconnect\u001b[1;34m(*args, **kwargs)\u001b[0m\n\u001b[0;32m    320\u001b[0m \u001b[1;33m\u001b[0m\u001b[0m\n\u001b[0;32m    321\u001b[0m     \u001b[1;32mif\u001b[0m \u001b[0mCMySQLConnection\u001b[0m \u001b[1;32mand\u001b[0m \u001b[1;32mnot\u001b[0m \u001b[0muse_pure\u001b[0m\u001b[1;33m:\u001b[0m\u001b[1;33m\u001b[0m\u001b[1;33m\u001b[0m\u001b[0m\n\u001b[1;32m--> 322\u001b[1;33m         \u001b[1;32mreturn\u001b[0m \u001b[0mCMySQLConnection\u001b[0m\u001b[1;33m(\u001b[0m\u001b[1;33m*\u001b[0m\u001b[0margs\u001b[0m\u001b[1;33m,\u001b[0m \u001b[1;33m**\u001b[0m\u001b[0mkwargs\u001b[0m\u001b[1;33m)\u001b[0m\u001b[1;33m\u001b[0m\u001b[1;33m\u001b[0m\u001b[0m\n\u001b[0m\u001b[0;32m    323\u001b[0m     \u001b[1;32mreturn\u001b[0m \u001b[0mMySQLConnection\u001b[0m\u001b[1;33m(\u001b[0m\u001b[1;33m*\u001b[0m\u001b[0margs\u001b[0m\u001b[1;33m,\u001b[0m \u001b[1;33m**\u001b[0m\u001b[0mkwargs\u001b[0m\u001b[1;33m)\u001b[0m\u001b[1;33m\u001b[0m\u001b[1;33m\u001b[0m\u001b[0m\n\u001b[0;32m    324\u001b[0m \u001b[1;33m\u001b[0m\u001b[0m\n",
      "\u001b[1;32m~\\anaconda3\\lib\\site-packages\\mysql\\connector\\connection_cext.py\u001b[0m in \u001b[0;36m__init__\u001b[1;34m(self, **kwargs)\u001b[0m\n\u001b[0;32m    138\u001b[0m         \u001b[1;32mif\u001b[0m \u001b[0mkwargs\u001b[0m\u001b[1;33m:\u001b[0m\u001b[1;33m\u001b[0m\u001b[1;33m\u001b[0m\u001b[0m\n\u001b[0;32m    139\u001b[0m             \u001b[1;32mtry\u001b[0m\u001b[1;33m:\u001b[0m\u001b[1;33m\u001b[0m\u001b[1;33m\u001b[0m\u001b[0m\n\u001b[1;32m--> 140\u001b[1;33m                 \u001b[0mself\u001b[0m\u001b[1;33m.\u001b[0m\u001b[0mconnect\u001b[0m\u001b[1;33m(\u001b[0m\u001b[1;33m**\u001b[0m\u001b[0mkwargs\u001b[0m\u001b[1;33m)\u001b[0m\u001b[1;33m\u001b[0m\u001b[1;33m\u001b[0m\u001b[0m\n\u001b[0m\u001b[0;32m    141\u001b[0m             \u001b[1;32mexcept\u001b[0m \u001b[0mException\u001b[0m\u001b[1;33m:\u001b[0m\u001b[1;33m\u001b[0m\u001b[1;33m\u001b[0m\u001b[0m\n\u001b[0;32m    142\u001b[0m                 \u001b[0mself\u001b[0m\u001b[1;33m.\u001b[0m\u001b[0mclose\u001b[0m\u001b[1;33m(\u001b[0m\u001b[1;33m)\u001b[0m\u001b[1;33m\u001b[0m\u001b[1;33m\u001b[0m\u001b[0m\n",
      "\u001b[1;32m~\\anaconda3\\lib\\site-packages\\mysql\\connector\\abstracts.py\u001b[0m in \u001b[0;36mconnect\u001b[1;34m(self, **kwargs)\u001b[0m\n\u001b[0;32m   1361\u001b[0m \u001b[1;33m\u001b[0m\u001b[0m\n\u001b[0;32m   1362\u001b[0m         \u001b[0mself\u001b[0m\u001b[1;33m.\u001b[0m\u001b[0mdisconnect\u001b[0m\u001b[1;33m(\u001b[0m\u001b[1;33m)\u001b[0m\u001b[1;33m\u001b[0m\u001b[1;33m\u001b[0m\u001b[0m\n\u001b[1;32m-> 1363\u001b[1;33m         \u001b[0mself\u001b[0m\u001b[1;33m.\u001b[0m\u001b[0m_open_connection\u001b[0m\u001b[1;33m(\u001b[0m\u001b[1;33m)\u001b[0m\u001b[1;33m\u001b[0m\u001b[1;33m\u001b[0m\u001b[0m\n\u001b[0m\u001b[0;32m   1364\u001b[0m \u001b[1;33m\u001b[0m\u001b[0m\n\u001b[0;32m   1365\u001b[0m         charset, collation = (\n",
      "\u001b[1;32m~\\anaconda3\\lib\\site-packages\\mysql\\connector\\connection_cext.py\u001b[0m in \u001b[0;36m_open_connection\u001b[1;34m(self)\u001b[0m\n\u001b[0;32m    326\u001b[0m                 \u001b[0mself\u001b[0m\u001b[1;33m.\u001b[0m\u001b[0mconverter\u001b[0m\u001b[1;33m.\u001b[0m\u001b[0mstr_fallback\u001b[0m \u001b[1;33m=\u001b[0m \u001b[0mself\u001b[0m\u001b[1;33m.\u001b[0m\u001b[0m_converter_str_fallback\u001b[0m\u001b[1;33m\u001b[0m\u001b[1;33m\u001b[0m\u001b[0m\n\u001b[0;32m    327\u001b[0m         \u001b[1;32mexcept\u001b[0m \u001b[0mMySQLInterfaceError\u001b[0m \u001b[1;32mas\u001b[0m \u001b[0merr\u001b[0m\u001b[1;33m:\u001b[0m\u001b[1;33m\u001b[0m\u001b[1;33m\u001b[0m\u001b[0m\n\u001b[1;32m--> 328\u001b[1;33m             raise get_mysql_exception(\n\u001b[0m\u001b[0;32m    329\u001b[0m                 \u001b[0mmsg\u001b[0m\u001b[1;33m=\u001b[0m\u001b[0merr\u001b[0m\u001b[1;33m.\u001b[0m\u001b[0mmsg\u001b[0m\u001b[1;33m,\u001b[0m \u001b[0merrno\u001b[0m\u001b[1;33m=\u001b[0m\u001b[0merr\u001b[0m\u001b[1;33m.\u001b[0m\u001b[0merrno\u001b[0m\u001b[1;33m,\u001b[0m \u001b[0msqlstate\u001b[0m\u001b[1;33m=\u001b[0m\u001b[0merr\u001b[0m\u001b[1;33m.\u001b[0m\u001b[0msqlstate\u001b[0m\u001b[1;33m\u001b[0m\u001b[1;33m\u001b[0m\u001b[0m\n\u001b[0;32m    330\u001b[0m             ) from err\n",
      "\u001b[1;31mDatabaseError\u001b[0m: 2005 (HY000): Unknown MySQL server host 'local_host' (11001)"
     ]
    }
   ],
   "source": [
    "import mysql.connector\n",
    "\n",
    "# Establish the connection\n",
    "connection = mysql.connector.connect(\n",
    "    host=\"local_host\",\n",
    "    user=\"abcd\",\n",
    "    password=\"ramc53112@\",\n",
    "   \n",
    ")\n",
    "\n",
    "# Create a cursor object\n",
    "cursor = connection.cursor()\n",
    "\n",
    "# Example: Execute a simple query\n",
    "query = \"SELECT * FROM your_table\"\n",
    "cursor.execute(query)\n",
    "\n",
    "# Fetch the result\n",
    "result = cursor.fetchall()\n",
    "\n",
    "# Process the result\n",
    "for row in result:\n",
    "    print(row)\n",
    "\n",
    "# Close the cursor and connection\n",
    "cursor.close()\n",
    "connection.close()\n"
   ]
  },
  {
   "cell_type": "code",
   "execution_count": null,
   "id": "0f823e54",
   "metadata": {},
   "outputs": [],
   "source": [
    "# 1)In above code, we first establish a connection to a MySQL database using the mysql.connector.connect() method, which takes the host, user, password as arguments.\n",
    "# 2)Next, we create a cursor object using the cursor() method of the connection object. The cursor object allows us to execute queries and fetch results.\n",
    "# 3)We then execute a SQL query using the execute() method of the cursor object, which takes the SQL query as an argument.\n",
    "\n"
   ]
  },
  {
   "cell_type": "code",
   "execution_count": null,
   "id": "5a98f554",
   "metadata": {},
   "outputs": [],
   "source": [
    "# 7)Question : Give the order of execution of SQL clauses in an SQL query.\n",
    "\n",
    "#  Answer:\n",
    "\n",
    "#In an SQL query, the clauses are executed in the following order:\n",
    "\n",
    "# FROM clause: Specifies the table or tables from which to retrieve data.\n",
    "\n",
    "# JOIN clause: Specifies how to join multiple tables together, if needed.\n",
    "\n",
    "# WHERE clause: Specifies which rows to retrieve based on a set of conditions.\n",
    "\n",
    "# GROUP BY clause: Specifies how to group rows based on one or more columns.\n",
    "\n",
    "# HAVING clause: Specifies which groups to retrieve based on a set of conditions.\n",
    "\n",
    "# SELECT clause: Specifies which columns to retrieve.\n",
    "\n",
    "# DISTINCT clause: Specifies to retrieve only distinct values of the specified columns.\n",
    "\n",
    "# ORDER BY clause: Specifies how to sort the retrieved rows based on one or more columns.\n",
    "\n",
    "# LIMIT clause: Specifies the maximum number of rows to retrieve."
   ]
  }
 ],
 "metadata": {
  "kernelspec": {
   "display_name": "Python 3 (ipykernel)",
   "language": "python",
   "name": "python3"
  },
  "language_info": {
   "codemirror_mode": {
    "name": "ipython",
    "version": 3
   },
   "file_extension": ".py",
   "mimetype": "text/x-python",
   "name": "python",
   "nbconvert_exporter": "python",
   "pygments_lexer": "ipython3",
   "version": "3.9.7"
  }
 },
 "nbformat": 4,
 "nbformat_minor": 5
}
