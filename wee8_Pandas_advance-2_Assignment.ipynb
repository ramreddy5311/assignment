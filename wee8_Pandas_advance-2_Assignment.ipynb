{
 "cells": [
  {
   "cell_type": "code",
   "execution_count": 1,
   "id": "94671ad5-74df-43f4-ac8c-134faae5c4a7",
   "metadata": {},
   "outputs": [],
   "source": [
    "#Consider following code to answer further questions:\n",
    "\n",
    "import pandas as pd\n",
    "course_name = ['Data Science', 'Machine Learning', 'Big Data', 'Data Engineer']\n",
    "duration = [2,3,6,4]\n",
    "df = pd.DataFrame(data = {'course_name' : course_name, 'duration' : duration})"
   ]
  },
  {
   "cell_type": "code",
   "execution_count": 2,
   "id": "99216750-1a2d-4cc0-91b7-c779d5367e07",
   "metadata": {},
   "outputs": [
    {
     "data": {
      "text/html": [
       "<div>\n",
       "<style scoped>\n",
       "    .dataframe tbody tr th:only-of-type {\n",
       "        vertical-align: middle;\n",
       "    }\n",
       "\n",
       "    .dataframe tbody tr th {\n",
       "        vertical-align: top;\n",
       "    }\n",
       "\n",
       "    .dataframe thead th {\n",
       "        text-align: right;\n",
       "    }\n",
       "</style>\n",
       "<table border=\"1\" class=\"dataframe\">\n",
       "  <thead>\n",
       "    <tr style=\"text-align: right;\">\n",
       "      <th></th>\n",
       "      <th>course_name</th>\n",
       "      <th>duration</th>\n",
       "    </tr>\n",
       "  </thead>\n",
       "  <tbody>\n",
       "    <tr>\n",
       "      <th>0</th>\n",
       "      <td>Data Science</td>\n",
       "      <td>2</td>\n",
       "    </tr>\n",
       "    <tr>\n",
       "      <th>1</th>\n",
       "      <td>Machine Learning</td>\n",
       "      <td>3</td>\n",
       "    </tr>\n",
       "    <tr>\n",
       "      <th>2</th>\n",
       "      <td>Big Data</td>\n",
       "      <td>6</td>\n",
       "    </tr>\n",
       "    <tr>\n",
       "      <th>3</th>\n",
       "      <td>Data Engineer</td>\n",
       "      <td>4</td>\n",
       "    </tr>\n",
       "  </tbody>\n",
       "</table>\n",
       "</div>"
      ],
      "text/plain": [
       "        course_name  duration\n",
       "0      Data Science         2\n",
       "1  Machine Learning         3\n",
       "2          Big Data         6\n",
       "3     Data Engineer         4"
      ]
     },
     "execution_count": 2,
     "metadata": {},
     "output_type": "execute_result"
    }
   ],
   "source": [
    "df"
   ]
  },
  {
   "cell_type": "code",
   "execution_count": 3,
   "id": "05f4c9a4-7c12-454e-ba7c-638b4de6c596",
   "metadata": {},
   "outputs": [],
   "source": [
    "#Q1. Write a code to print the data present in the second row of the dataframe, df."
   ]
  },
  {
   "cell_type": "code",
   "execution_count": 4,
   "id": "77dd1303-1cd0-476f-b730-0ecd01575184",
   "metadata": {},
   "outputs": [
    {
     "name": "stdout",
     "output_type": "stream",
     "text": [
      "course_name    Machine Learning\n",
      "duration                      3\n",
      "Name: 1, dtype: object\n"
     ]
    }
   ],
   "source": [
    "# Using iloc function to display second row .\n",
    "# note that index for second row is 1\n",
    "print(df.iloc[1])"
   ]
  },
  {
   "cell_type": "code",
   "execution_count": 5,
   "id": "ef9b9437-c77a-4b7f-a15d-eafb6d4b78bd",
   "metadata": {},
   "outputs": [],
   "source": [
    "#Question 2: What is the difference between the functions loc and iloc in pandas.DataFrame?"
   ]
  },
  {
   "cell_type": "code",
   "execution_count": 6,
   "id": "ad7a89fe-c57b-4e41-9360-0ce8e64d311c",
   "metadata": {},
   "outputs": [],
   "source": [
    "# Answer :\n",
    "\n",
    "# iloc and loc are both methods used to select data from a pandas dataframe, but they use different indexing methods.\n",
    "# 1. iloc uses integer-based indexing and is used to select rows and columns by their integer positions. This means that you can use numerical indices to slice a dataframe.\n",
    "# For example if i want to show first 2 row and first column using iloc for given df"
   ]
  },
  {
   "cell_type": "code",
   "execution_count": 7,
   "id": "bac5261e-d20b-4e69-9b79-b233171c0c78",
   "metadata": {},
   "outputs": [
    {
     "data": {
      "text/plain": [
       "0        Data Science\n",
       "1    Machine Learning\n",
       "Name: course_name, dtype: object"
      ]
     },
     "execution_count": 7,
     "metadata": {},
     "output_type": "execute_result"
    }
   ],
   "source": [
    "df.iloc[0:2,0]"
   ]
  },
  {
   "cell_type": "code",
   "execution_count": 8,
   "id": "7160ecf7-81f6-4b3e-9217-ddbb803dbbe0",
   "metadata": {},
   "outputs": [],
   "source": [
    "# 2. loc, on the other hand, uses label-based indexing and is used to select rows and columns by their labels or names.\n",
    "#This means that you can use strings to slice a dataframe.\n",
    "# Below is example using Loc"
   ]
  },
  {
   "cell_type": "code",
   "execution_count": 9,
   "id": "a71df12b-aa47-4058-8633-a49b5bdb2e41",
   "metadata": {},
   "outputs": [
    {
     "data": {
      "text/plain": [
       "0        Data Science\n",
       "1    Machine Learning\n",
       "2            Big Data\n",
       "Name: course_name, dtype: object"
      ]
     },
     "execution_count": 9,
     "metadata": {},
     "output_type": "execute_result"
    }
   ],
   "source": [
    "df.loc[0:2,'course_name']"
   ]
  },
  {
   "cell_type": "code",
   "execution_count": 10,
   "id": "8d117d9e-cf22-438a-8efd-9c5558e92539",
   "metadata": {},
   "outputs": [],
   "source": [
    "# Q3. Reindex the given dataframe using a variable, reindex = [3,0,1,2] and store it in the variable, new_df\n",
    "# then find the output for both new_df.loc[2] and new_df.iloc[2].\n",
    "#Did you observe any difference in both the outputs? If so then explain it."
   ]
  },
  {
   "cell_type": "code",
   "execution_count": 11,
   "id": "8363d8fa-650f-4e16-96f3-3fe1e8ed781e",
   "metadata": {},
   "outputs": [
    {
     "data": {
      "text/html": [
       "<div>\n",
       "<style scoped>\n",
       "    .dataframe tbody tr th:only-of-type {\n",
       "        vertical-align: middle;\n",
       "    }\n",
       "\n",
       "    .dataframe tbody tr th {\n",
       "        vertical-align: top;\n",
       "    }\n",
       "\n",
       "    .dataframe thead th {\n",
       "        text-align: right;\n",
       "    }\n",
       "</style>\n",
       "<table border=\"1\" class=\"dataframe\">\n",
       "  <thead>\n",
       "    <tr style=\"text-align: right;\">\n",
       "      <th></th>\n",
       "      <th>course_name</th>\n",
       "      <th>duration</th>\n",
       "    </tr>\n",
       "  </thead>\n",
       "  <tbody>\n",
       "    <tr>\n",
       "      <th>3</th>\n",
       "      <td>Data Engineer</td>\n",
       "      <td>4</td>\n",
       "    </tr>\n",
       "    <tr>\n",
       "      <th>0</th>\n",
       "      <td>Data Science</td>\n",
       "      <td>2</td>\n",
       "    </tr>\n",
       "    <tr>\n",
       "      <th>1</th>\n",
       "      <td>Machine Learning</td>\n",
       "      <td>3</td>\n",
       "    </tr>\n",
       "    <tr>\n",
       "      <th>2</th>\n",
       "      <td>Big Data</td>\n",
       "      <td>6</td>\n",
       "    </tr>\n",
       "  </tbody>\n",
       "</table>\n",
       "</div>"
      ],
      "text/plain": [
       "        course_name  duration\n",
       "3     Data Engineer         4\n",
       "0      Data Science         2\n",
       "1  Machine Learning         3\n",
       "2          Big Data         6"
      ]
     },
     "execution_count": 11,
     "metadata": {},
     "output_type": "execute_result"
    }
   ],
   "source": [
    " #Creating reindex variable\n",
    "reindex = [3,0,1,2]\n",
    "\n",
    "# Reindexing the dateframe using \n",
    "new_df = df.reindex(reindex)\n",
    "\n",
    "# Showing new_df\n",
    "new_df"
   ]
  },
  {
   "cell_type": "code",
   "execution_count": 12,
   "id": "377b3e11-bc6b-44e3-9862-fbe6fee7142e",
   "metadata": {},
   "outputs": [
    {
     "data": {
      "text/plain": [
       "course_name    Big Data\n",
       "duration              6\n",
       "Name: 2, dtype: object"
      ]
     },
     "execution_count": 12,
     "metadata": {},
     "output_type": "execute_result"
    }
   ],
   "source": [
    "new_df.loc[2]"
   ]
  },
  {
   "cell_type": "code",
   "execution_count": 13,
   "id": "560109b6-a6ae-4bd7-b11d-5c6a473c4735",
   "metadata": {},
   "outputs": [
    {
     "data": {
      "text/plain": [
       "course_name    Machine Learning\n",
       "duration                      3\n",
       "Name: 1, dtype: object"
      ]
     },
     "execution_count": 13,
     "metadata": {},
     "output_type": "execute_result"
    }
   ],
   "source": [
    "new_df.iloc[2]"
   ]
  },
  {
   "cell_type": "code",
   "execution_count": 14,
   "id": "da71e905-0a57-4278-b702-653a351c615f",
   "metadata": {},
   "outputs": [],
   "source": [
    "#Consider the below code to answer further questions:\n",
    "\n",
    "import pandas as pd\n",
    "import numpy as np\n",
    "columns = ['column_1', 'column_2', 'column_3', 'column_4', 'column_5', 'column_6']\n",
    "indices = [1,2,3,4,5,6]\n",
    "#Creating a dataframe:\n",
    "df1 = pd.DataFrame(np.random.rand(6,6), columns = columns, index = indices)"
   ]
  },
  {
   "cell_type": "code",
   "execution_count": 15,
   "id": "4166d315-7ec9-4289-a6cd-84f9f791fdf4",
   "metadata": {},
   "outputs": [
    {
     "data": {
      "text/html": [
       "<div>\n",
       "<style scoped>\n",
       "    .dataframe tbody tr th:only-of-type {\n",
       "        vertical-align: middle;\n",
       "    }\n",
       "\n",
       "    .dataframe tbody tr th {\n",
       "        vertical-align: top;\n",
       "    }\n",
       "\n",
       "    .dataframe thead th {\n",
       "        text-align: right;\n",
       "    }\n",
       "</style>\n",
       "<table border=\"1\" class=\"dataframe\">\n",
       "  <thead>\n",
       "    <tr style=\"text-align: right;\">\n",
       "      <th></th>\n",
       "      <th>column_1</th>\n",
       "      <th>column_2</th>\n",
       "      <th>column_3</th>\n",
       "      <th>column_4</th>\n",
       "      <th>column_5</th>\n",
       "      <th>column_6</th>\n",
       "    </tr>\n",
       "  </thead>\n",
       "  <tbody>\n",
       "    <tr>\n",
       "      <th>1</th>\n",
       "      <td>0.834736</td>\n",
       "      <td>0.649342</td>\n",
       "      <td>0.454786</td>\n",
       "      <td>0.813455</td>\n",
       "      <td>0.749927</td>\n",
       "      <td>0.143571</td>\n",
       "    </tr>\n",
       "    <tr>\n",
       "      <th>2</th>\n",
       "      <td>0.425562</td>\n",
       "      <td>0.025772</td>\n",
       "      <td>0.832543</td>\n",
       "      <td>0.733370</td>\n",
       "      <td>0.020797</td>\n",
       "      <td>0.755005</td>\n",
       "    </tr>\n",
       "    <tr>\n",
       "      <th>3</th>\n",
       "      <td>0.349327</td>\n",
       "      <td>0.305528</td>\n",
       "      <td>0.093333</td>\n",
       "      <td>0.911787</td>\n",
       "      <td>0.704513</td>\n",
       "      <td>0.949944</td>\n",
       "    </tr>\n",
       "    <tr>\n",
       "      <th>4</th>\n",
       "      <td>0.071923</td>\n",
       "      <td>0.115304</td>\n",
       "      <td>0.695376</td>\n",
       "      <td>0.702883</td>\n",
       "      <td>0.461014</td>\n",
       "      <td>0.881376</td>\n",
       "    </tr>\n",
       "    <tr>\n",
       "      <th>5</th>\n",
       "      <td>0.739171</td>\n",
       "      <td>0.666752</td>\n",
       "      <td>0.610938</td>\n",
       "      <td>0.868781</td>\n",
       "      <td>0.233625</td>\n",
       "      <td>0.580240</td>\n",
       "    </tr>\n",
       "    <tr>\n",
       "      <th>6</th>\n",
       "      <td>0.679099</td>\n",
       "      <td>0.713830</td>\n",
       "      <td>0.305701</td>\n",
       "      <td>0.386906</td>\n",
       "      <td>0.583613</td>\n",
       "      <td>0.879665</td>\n",
       "    </tr>\n",
       "  </tbody>\n",
       "</table>\n",
       "</div>"
      ],
      "text/plain": [
       "   column_1  column_2  column_3  column_4  column_5  column_6\n",
       "1  0.834736  0.649342  0.454786  0.813455  0.749927  0.143571\n",
       "2  0.425562  0.025772  0.832543  0.733370  0.020797  0.755005\n",
       "3  0.349327  0.305528  0.093333  0.911787  0.704513  0.949944\n",
       "4  0.071923  0.115304  0.695376  0.702883  0.461014  0.881376\n",
       "5  0.739171  0.666752  0.610938  0.868781  0.233625  0.580240\n",
       "6  0.679099  0.713830  0.305701  0.386906  0.583613  0.879665"
      ]
     },
     "execution_count": 15,
     "metadata": {},
     "output_type": "execute_result"
    }
   ],
   "source": [
    "df1"
   ]
  },
  {
   "cell_type": "code",
   "execution_count": 16,
   "id": "c8756ea0-164b-49c5-8c9b-a7e8feb87e32",
   "metadata": {},
   "outputs": [],
   "source": [
    "# Q4. Write a code to find the following statistical measurements for the above dataframe df1:\n",
    "# (i) mean of each and every column present in the dataframe.\n",
    "# (ii) standard deviation of column, ‘column_2’"
   ]
  },
  {
   "cell_type": "code",
   "execution_count": 17,
   "id": "3e6f79ec-ea91-43d5-b0b4-b5b494b3f089",
   "metadata": {},
   "outputs": [
    {
     "data": {
      "text/plain": [
       "column_1    0.516636\n",
       "column_2    0.412755\n",
       "column_3    0.498780\n",
       "column_4    0.736197\n",
       "column_5    0.458915\n",
       "column_6    0.698300\n",
       "dtype: float64"
      ]
     },
     "execution_count": 17,
     "metadata": {},
     "output_type": "execute_result"
    }
   ],
   "source": [
    "# Answer :\n",
    "# 1. Mean of each column in dataframe\n",
    "\n",
    "df1.mean()"
   ]
  },
  {
   "cell_type": "code",
   "execution_count": 18,
   "id": "3b60df3e-04e8-461a-8625-ce5d3f45b659",
   "metadata": {},
   "outputs": [
    {
     "data": {
      "text/plain": [
       "0.3035999214589828"
      ]
     },
     "execution_count": 18,
     "metadata": {},
     "output_type": "execute_result"
    }
   ],
   "source": [
    "#2. Standard Deviation of column 2\n",
    "df1[\"column_2\"].std()"
   ]
  },
  {
   "cell_type": "code",
   "execution_count": 19,
   "id": "1e432843-8573-4cc8-9354-fc1126362bdb",
   "metadata": {},
   "outputs": [],
   "source": [
    "# Q5. Replace the data present in the second row of column, ‘column_2’ by a string variable then find the\n",
    "# mean of column, column_2.\n",
    "# If you are getting errors in executing it then explain why.\n",
    "# [Hint: To replace the data use df1.loc[] and equate this to string data of your choice.]"
   ]
  },
  {
   "cell_type": "code",
   "execution_count": 20,
   "id": "7191d125-1743-4b82-9eb8-c85a2a5cbb5f",
   "metadata": {},
   "outputs": [
    {
     "data": {
      "text/html": [
       "<div>\n",
       "<style scoped>\n",
       "    .dataframe tbody tr th:only-of-type {\n",
       "        vertical-align: middle;\n",
       "    }\n",
       "\n",
       "    .dataframe tbody tr th {\n",
       "        vertical-align: top;\n",
       "    }\n",
       "\n",
       "    .dataframe thead th {\n",
       "        text-align: right;\n",
       "    }\n",
       "</style>\n",
       "<table border=\"1\" class=\"dataframe\">\n",
       "  <thead>\n",
       "    <tr style=\"text-align: right;\">\n",
       "      <th></th>\n",
       "      <th>column_1</th>\n",
       "      <th>column_2</th>\n",
       "      <th>column_3</th>\n",
       "      <th>column_4</th>\n",
       "      <th>column_5</th>\n",
       "      <th>column_6</th>\n",
       "    </tr>\n",
       "  </thead>\n",
       "  <tbody>\n",
       "    <tr>\n",
       "      <th>1</th>\n",
       "      <td>0.834736</td>\n",
       "      <td>a</td>\n",
       "      <td>0.454786</td>\n",
       "      <td>0.813455</td>\n",
       "      <td>0.749927</td>\n",
       "      <td>0.143571</td>\n",
       "    </tr>\n",
       "    <tr>\n",
       "      <th>2</th>\n",
       "      <td>0.425562</td>\n",
       "      <td>b</td>\n",
       "      <td>0.832543</td>\n",
       "      <td>0.733370</td>\n",
       "      <td>0.020797</td>\n",
       "      <td>0.755005</td>\n",
       "    </tr>\n",
       "    <tr>\n",
       "      <th>3</th>\n",
       "      <td>0.349327</td>\n",
       "      <td>c</td>\n",
       "      <td>0.093333</td>\n",
       "      <td>0.911787</td>\n",
       "      <td>0.704513</td>\n",
       "      <td>0.949944</td>\n",
       "    </tr>\n",
       "    <tr>\n",
       "      <th>4</th>\n",
       "      <td>0.071923</td>\n",
       "      <td>d</td>\n",
       "      <td>0.695376</td>\n",
       "      <td>0.702883</td>\n",
       "      <td>0.461014</td>\n",
       "      <td>0.881376</td>\n",
       "    </tr>\n",
       "    <tr>\n",
       "      <th>5</th>\n",
       "      <td>0.739171</td>\n",
       "      <td>e</td>\n",
       "      <td>0.610938</td>\n",
       "      <td>0.868781</td>\n",
       "      <td>0.233625</td>\n",
       "      <td>0.580240</td>\n",
       "    </tr>\n",
       "    <tr>\n",
       "      <th>6</th>\n",
       "      <td>0.679099</td>\n",
       "      <td>f</td>\n",
       "      <td>0.305701</td>\n",
       "      <td>0.386906</td>\n",
       "      <td>0.583613</td>\n",
       "      <td>0.879665</td>\n",
       "    </tr>\n",
       "  </tbody>\n",
       "</table>\n",
       "</div>"
      ],
      "text/plain": [
       "   column_1 column_2  column_3  column_4  column_5  column_6\n",
       "1  0.834736        a  0.454786  0.813455  0.749927  0.143571\n",
       "2  0.425562        b  0.832543  0.733370  0.020797  0.755005\n",
       "3  0.349327        c  0.093333  0.911787  0.704513  0.949944\n",
       "4  0.071923        d  0.695376  0.702883  0.461014  0.881376\n",
       "5  0.739171        e  0.610938  0.868781  0.233625  0.580240\n",
       "6  0.679099        f  0.305701  0.386906  0.583613  0.879665"
      ]
     },
     "execution_count": 20,
     "metadata": {},
     "output_type": "execute_result"
    }
   ],
   "source": [
    "#Answer:\n",
    "\n",
    "# Replacing column_2 with string data\n",
    "df1['column_2'] = ['a','b','c','d','e','f']\n",
    "df1"
   ]
  },
  {
   "cell_type": "code",
   "execution_count": 21,
   "id": "66b9b2ef-f5db-4895-8d3d-d36a0bd7a2ed",
   "metadata": {},
   "outputs": [
    {
     "data": {
      "text/plain": [
       "column_1    float64\n",
       "column_2     object\n",
       "column_3    float64\n",
       "column_4    float64\n",
       "column_5    float64\n",
       "column_6    float64\n",
       "dtype: object"
      ]
     },
     "execution_count": 21,
     "metadata": {},
     "output_type": "execute_result"
    }
   ],
   "source": [
    "df1.dtypes"
   ]
  },
  {
   "cell_type": "code",
   "execution_count": 22,
   "id": "f8b57cfa-e3af-45d2-886a-c27e6b9f58e8",
   "metadata": {},
   "outputs": [
    {
     "ename": "TypeError",
     "evalue": "Could not convert abcdef to numeric",
     "output_type": "error",
     "traceback": [
      "\u001b[0;31m---------------------------------------------------------------------------\u001b[0m",
      "\u001b[0;31mValueError\u001b[0m                                Traceback (most recent call last)",
      "File \u001b[0;32m/opt/conda/lib/python3.10/site-packages/pandas/core/nanops.py:1630\u001b[0m, in \u001b[0;36m_ensure_numeric\u001b[0;34m(x)\u001b[0m\n\u001b[1;32m   1629\u001b[0m \u001b[38;5;28;01mtry\u001b[39;00m:\n\u001b[0;32m-> 1630\u001b[0m     x \u001b[38;5;241m=\u001b[39m \u001b[38;5;28;43mfloat\u001b[39;49m\u001b[43m(\u001b[49m\u001b[43mx\u001b[49m\u001b[43m)\u001b[49m\n\u001b[1;32m   1631\u001b[0m \u001b[38;5;28;01mexcept\u001b[39;00m (\u001b[38;5;167;01mTypeError\u001b[39;00m, \u001b[38;5;167;01mValueError\u001b[39;00m):\n\u001b[1;32m   1632\u001b[0m     \u001b[38;5;66;03m# e.g. \"1+1j\" or \"foo\"\u001b[39;00m\n",
      "\u001b[0;31mValueError\u001b[0m: could not convert string to float: 'abcdef'",
      "\nDuring handling of the above exception, another exception occurred:\n",
      "\u001b[0;31mValueError\u001b[0m                                Traceback (most recent call last)",
      "File \u001b[0;32m/opt/conda/lib/python3.10/site-packages/pandas/core/nanops.py:1634\u001b[0m, in \u001b[0;36m_ensure_numeric\u001b[0;34m(x)\u001b[0m\n\u001b[1;32m   1633\u001b[0m \u001b[38;5;28;01mtry\u001b[39;00m:\n\u001b[0;32m-> 1634\u001b[0m     x \u001b[38;5;241m=\u001b[39m \u001b[38;5;28;43mcomplex\u001b[39;49m\u001b[43m(\u001b[49m\u001b[43mx\u001b[49m\u001b[43m)\u001b[49m\n\u001b[1;32m   1635\u001b[0m \u001b[38;5;28;01mexcept\u001b[39;00m \u001b[38;5;167;01mValueError\u001b[39;00m \u001b[38;5;28;01mas\u001b[39;00m err:\n\u001b[1;32m   1636\u001b[0m     \u001b[38;5;66;03m# e.g. \"foo\"\u001b[39;00m\n",
      "\u001b[0;31mValueError\u001b[0m: complex() arg is a malformed string",
      "\nThe above exception was the direct cause of the following exception:\n",
      "\u001b[0;31mTypeError\u001b[0m                                 Traceback (most recent call last)",
      "Cell \u001b[0;32mIn[22], line 1\u001b[0m\n\u001b[0;32m----> 1\u001b[0m \u001b[43mdf1\u001b[49m\u001b[43m[\u001b[49m\u001b[38;5;124;43m'\u001b[39;49m\u001b[38;5;124;43mcolumn_2\u001b[39;49m\u001b[38;5;124;43m'\u001b[39;49m\u001b[43m]\u001b[49m\u001b[38;5;241;43m.\u001b[39;49m\u001b[43mmean\u001b[49m\u001b[43m(\u001b[49m\u001b[43m)\u001b[49m\n",
      "File \u001b[0;32m/opt/conda/lib/python3.10/site-packages/pandas/core/generic.py:11847\u001b[0m, in \u001b[0;36mNDFrame._add_numeric_operations.<locals>.mean\u001b[0;34m(self, axis, skipna, level, numeric_only, **kwargs)\u001b[0m\n\u001b[1;32m  11829\u001b[0m \u001b[38;5;129m@doc\u001b[39m(\n\u001b[1;32m  11830\u001b[0m     _num_doc,\n\u001b[1;32m  11831\u001b[0m     desc\u001b[38;5;241m=\u001b[39m\u001b[38;5;124m\"\u001b[39m\u001b[38;5;124mReturn the mean of the values over the requested axis.\u001b[39m\u001b[38;5;124m\"\u001b[39m,\n\u001b[0;32m   (...)\u001b[0m\n\u001b[1;32m  11845\u001b[0m     \u001b[38;5;241m*\u001b[39m\u001b[38;5;241m*\u001b[39mkwargs,\n\u001b[1;32m  11846\u001b[0m ):\n\u001b[0;32m> 11847\u001b[0m     \u001b[38;5;28;01mreturn\u001b[39;00m \u001b[43mNDFrame\u001b[49m\u001b[38;5;241;43m.\u001b[39;49m\u001b[43mmean\u001b[49m\u001b[43m(\u001b[49m\u001b[38;5;28;43mself\u001b[39;49m\u001b[43m,\u001b[49m\u001b[43m \u001b[49m\u001b[43maxis\u001b[49m\u001b[43m,\u001b[49m\u001b[43m \u001b[49m\u001b[43mskipna\u001b[49m\u001b[43m,\u001b[49m\u001b[43m \u001b[49m\u001b[43mlevel\u001b[49m\u001b[43m,\u001b[49m\u001b[43m \u001b[49m\u001b[43mnumeric_only\u001b[49m\u001b[43m,\u001b[49m\u001b[43m \u001b[49m\u001b[38;5;241;43m*\u001b[39;49m\u001b[38;5;241;43m*\u001b[39;49m\u001b[43mkwargs\u001b[49m\u001b[43m)\u001b[49m\n",
      "File \u001b[0;32m/opt/conda/lib/python3.10/site-packages/pandas/core/generic.py:11401\u001b[0m, in \u001b[0;36mNDFrame.mean\u001b[0;34m(self, axis, skipna, level, numeric_only, **kwargs)\u001b[0m\n\u001b[1;32m  11393\u001b[0m \u001b[38;5;28;01mdef\u001b[39;00m \u001b[38;5;21mmean\u001b[39m(\n\u001b[1;32m  11394\u001b[0m     \u001b[38;5;28mself\u001b[39m,\n\u001b[1;32m  11395\u001b[0m     axis: Axis \u001b[38;5;241m|\u001b[39m \u001b[38;5;28;01mNone\u001b[39;00m \u001b[38;5;241m|\u001b[39m lib\u001b[38;5;241m.\u001b[39mNoDefault \u001b[38;5;241m=\u001b[39m lib\u001b[38;5;241m.\u001b[39mno_default,\n\u001b[0;32m   (...)\u001b[0m\n\u001b[1;32m  11399\u001b[0m     \u001b[38;5;241m*\u001b[39m\u001b[38;5;241m*\u001b[39mkwargs,\n\u001b[1;32m  11400\u001b[0m ) \u001b[38;5;241m-\u001b[39m\u001b[38;5;241m>\u001b[39m Series \u001b[38;5;241m|\u001b[39m \u001b[38;5;28mfloat\u001b[39m:\n\u001b[0;32m> 11401\u001b[0m     \u001b[38;5;28;01mreturn\u001b[39;00m \u001b[38;5;28;43mself\u001b[39;49m\u001b[38;5;241;43m.\u001b[39;49m\u001b[43m_stat_function\u001b[49m\u001b[43m(\u001b[49m\n\u001b[1;32m  11402\u001b[0m \u001b[43m        \u001b[49m\u001b[38;5;124;43m\"\u001b[39;49m\u001b[38;5;124;43mmean\u001b[39;49m\u001b[38;5;124;43m\"\u001b[39;49m\u001b[43m,\u001b[49m\u001b[43m \u001b[49m\u001b[43mnanops\u001b[49m\u001b[38;5;241;43m.\u001b[39;49m\u001b[43mnanmean\u001b[49m\u001b[43m,\u001b[49m\u001b[43m \u001b[49m\u001b[43maxis\u001b[49m\u001b[43m,\u001b[49m\u001b[43m \u001b[49m\u001b[43mskipna\u001b[49m\u001b[43m,\u001b[49m\u001b[43m \u001b[49m\u001b[43mlevel\u001b[49m\u001b[43m,\u001b[49m\u001b[43m \u001b[49m\u001b[43mnumeric_only\u001b[49m\u001b[43m,\u001b[49m\u001b[43m \u001b[49m\u001b[38;5;241;43m*\u001b[39;49m\u001b[38;5;241;43m*\u001b[39;49m\u001b[43mkwargs\u001b[49m\n\u001b[1;32m  11403\u001b[0m \u001b[43m    \u001b[49m\u001b[43m)\u001b[49m\n",
      "File \u001b[0;32m/opt/conda/lib/python3.10/site-packages/pandas/core/generic.py:11353\u001b[0m, in \u001b[0;36mNDFrame._stat_function\u001b[0;34m(self, name, func, axis, skipna, level, numeric_only, **kwargs)\u001b[0m\n\u001b[1;32m  11343\u001b[0m     warnings\u001b[38;5;241m.\u001b[39mwarn(\n\u001b[1;32m  11344\u001b[0m         \u001b[38;5;124m\"\u001b[39m\u001b[38;5;124mUsing the level keyword in DataFrame and Series aggregations is \u001b[39m\u001b[38;5;124m\"\u001b[39m\n\u001b[1;32m  11345\u001b[0m         \u001b[38;5;124m\"\u001b[39m\u001b[38;5;124mdeprecated and will be removed in a future version. Use groupby \u001b[39m\u001b[38;5;124m\"\u001b[39m\n\u001b[0;32m   (...)\u001b[0m\n\u001b[1;32m  11348\u001b[0m         stacklevel\u001b[38;5;241m=\u001b[39mfind_stack_level(),\n\u001b[1;32m  11349\u001b[0m     )\n\u001b[1;32m  11350\u001b[0m     \u001b[38;5;28;01mreturn\u001b[39;00m \u001b[38;5;28mself\u001b[39m\u001b[38;5;241m.\u001b[39m_agg_by_level(\n\u001b[1;32m  11351\u001b[0m         name, axis\u001b[38;5;241m=\u001b[39maxis, level\u001b[38;5;241m=\u001b[39mlevel, skipna\u001b[38;5;241m=\u001b[39mskipna, numeric_only\u001b[38;5;241m=\u001b[39mnumeric_only\n\u001b[1;32m  11352\u001b[0m     )\n\u001b[0;32m> 11353\u001b[0m \u001b[38;5;28;01mreturn\u001b[39;00m \u001b[38;5;28;43mself\u001b[39;49m\u001b[38;5;241;43m.\u001b[39;49m\u001b[43m_reduce\u001b[49m\u001b[43m(\u001b[49m\n\u001b[1;32m  11354\u001b[0m \u001b[43m    \u001b[49m\u001b[43mfunc\u001b[49m\u001b[43m,\u001b[49m\u001b[43m \u001b[49m\u001b[43mname\u001b[49m\u001b[38;5;241;43m=\u001b[39;49m\u001b[43mname\u001b[49m\u001b[43m,\u001b[49m\u001b[43m \u001b[49m\u001b[43maxis\u001b[49m\u001b[38;5;241;43m=\u001b[39;49m\u001b[43maxis\u001b[49m\u001b[43m,\u001b[49m\u001b[43m \u001b[49m\u001b[43mskipna\u001b[49m\u001b[38;5;241;43m=\u001b[39;49m\u001b[43mskipna\u001b[49m\u001b[43m,\u001b[49m\u001b[43m \u001b[49m\u001b[43mnumeric_only\u001b[49m\u001b[38;5;241;43m=\u001b[39;49m\u001b[43mnumeric_only\u001b[49m\n\u001b[1;32m  11355\u001b[0m \u001b[43m\u001b[49m\u001b[43m)\u001b[49m\n",
      "File \u001b[0;32m/opt/conda/lib/python3.10/site-packages/pandas/core/series.py:4816\u001b[0m, in \u001b[0;36mSeries._reduce\u001b[0;34m(self, op, name, axis, skipna, numeric_only, filter_type, **kwds)\u001b[0m\n\u001b[1;32m   4812\u001b[0m     \u001b[38;5;28;01mraise\u001b[39;00m \u001b[38;5;167;01mNotImplementedError\u001b[39;00m(\n\u001b[1;32m   4813\u001b[0m         \u001b[38;5;124mf\u001b[39m\u001b[38;5;124m\"\u001b[39m\u001b[38;5;124mSeries.\u001b[39m\u001b[38;5;132;01m{\u001b[39;00mname\u001b[38;5;132;01m}\u001b[39;00m\u001b[38;5;124m does not implement \u001b[39m\u001b[38;5;132;01m{\u001b[39;00mkwd_name\u001b[38;5;132;01m}\u001b[39;00m\u001b[38;5;124m.\u001b[39m\u001b[38;5;124m\"\u001b[39m\n\u001b[1;32m   4814\u001b[0m     )\n\u001b[1;32m   4815\u001b[0m \u001b[38;5;28;01mwith\u001b[39;00m np\u001b[38;5;241m.\u001b[39merrstate(\u001b[38;5;28mall\u001b[39m\u001b[38;5;241m=\u001b[39m\u001b[38;5;124m\"\u001b[39m\u001b[38;5;124mignore\u001b[39m\u001b[38;5;124m\"\u001b[39m):\n\u001b[0;32m-> 4816\u001b[0m     \u001b[38;5;28;01mreturn\u001b[39;00m \u001b[43mop\u001b[49m\u001b[43m(\u001b[49m\u001b[43mdelegate\u001b[49m\u001b[43m,\u001b[49m\u001b[43m \u001b[49m\u001b[43mskipna\u001b[49m\u001b[38;5;241;43m=\u001b[39;49m\u001b[43mskipna\u001b[49m\u001b[43m,\u001b[49m\u001b[43m \u001b[49m\u001b[38;5;241;43m*\u001b[39;49m\u001b[38;5;241;43m*\u001b[39;49m\u001b[43mkwds\u001b[49m\u001b[43m)\u001b[49m\n",
      "File \u001b[0;32m/opt/conda/lib/python3.10/site-packages/pandas/core/nanops.py:93\u001b[0m, in \u001b[0;36mdisallow.__call__.<locals>._f\u001b[0;34m(*args, **kwargs)\u001b[0m\n\u001b[1;32m     91\u001b[0m \u001b[38;5;28;01mtry\u001b[39;00m:\n\u001b[1;32m     92\u001b[0m     \u001b[38;5;28;01mwith\u001b[39;00m np\u001b[38;5;241m.\u001b[39merrstate(invalid\u001b[38;5;241m=\u001b[39m\u001b[38;5;124m\"\u001b[39m\u001b[38;5;124mignore\u001b[39m\u001b[38;5;124m\"\u001b[39m):\n\u001b[0;32m---> 93\u001b[0m         \u001b[38;5;28;01mreturn\u001b[39;00m \u001b[43mf\u001b[49m\u001b[43m(\u001b[49m\u001b[38;5;241;43m*\u001b[39;49m\u001b[43margs\u001b[49m\u001b[43m,\u001b[49m\u001b[43m \u001b[49m\u001b[38;5;241;43m*\u001b[39;49m\u001b[38;5;241;43m*\u001b[39;49m\u001b[43mkwargs\u001b[49m\u001b[43m)\u001b[49m\n\u001b[1;32m     94\u001b[0m \u001b[38;5;28;01mexcept\u001b[39;00m \u001b[38;5;167;01mValueError\u001b[39;00m \u001b[38;5;28;01mas\u001b[39;00m e:\n\u001b[1;32m     95\u001b[0m     \u001b[38;5;66;03m# we want to transform an object array\u001b[39;00m\n\u001b[1;32m     96\u001b[0m     \u001b[38;5;66;03m# ValueError message to the more typical TypeError\u001b[39;00m\n\u001b[1;32m     97\u001b[0m     \u001b[38;5;66;03m# e.g. this is normally a disallowed function on\u001b[39;00m\n\u001b[1;32m     98\u001b[0m     \u001b[38;5;66;03m# object arrays that contain strings\u001b[39;00m\n\u001b[1;32m     99\u001b[0m     \u001b[38;5;28;01mif\u001b[39;00m is_object_dtype(args[\u001b[38;5;241m0\u001b[39m]):\n",
      "File \u001b[0;32m/opt/conda/lib/python3.10/site-packages/pandas/core/nanops.py:155\u001b[0m, in \u001b[0;36mbottleneck_switch.__call__.<locals>.f\u001b[0;34m(values, axis, skipna, **kwds)\u001b[0m\n\u001b[1;32m    153\u001b[0m         result \u001b[38;5;241m=\u001b[39m alt(values, axis\u001b[38;5;241m=\u001b[39maxis, skipna\u001b[38;5;241m=\u001b[39mskipna, \u001b[38;5;241m*\u001b[39m\u001b[38;5;241m*\u001b[39mkwds)\n\u001b[1;32m    154\u001b[0m \u001b[38;5;28;01melse\u001b[39;00m:\n\u001b[0;32m--> 155\u001b[0m     result \u001b[38;5;241m=\u001b[39m \u001b[43malt\u001b[49m\u001b[43m(\u001b[49m\u001b[43mvalues\u001b[49m\u001b[43m,\u001b[49m\u001b[43m \u001b[49m\u001b[43maxis\u001b[49m\u001b[38;5;241;43m=\u001b[39;49m\u001b[43maxis\u001b[49m\u001b[43m,\u001b[49m\u001b[43m \u001b[49m\u001b[43mskipna\u001b[49m\u001b[38;5;241;43m=\u001b[39;49m\u001b[43mskipna\u001b[49m\u001b[43m,\u001b[49m\u001b[43m \u001b[49m\u001b[38;5;241;43m*\u001b[39;49m\u001b[38;5;241;43m*\u001b[39;49m\u001b[43mkwds\u001b[49m\u001b[43m)\u001b[49m\n\u001b[1;32m    157\u001b[0m \u001b[38;5;28;01mreturn\u001b[39;00m result\n",
      "File \u001b[0;32m/opt/conda/lib/python3.10/site-packages/pandas/core/nanops.py:418\u001b[0m, in \u001b[0;36m_datetimelike_compat.<locals>.new_func\u001b[0;34m(values, axis, skipna, mask, **kwargs)\u001b[0m\n\u001b[1;32m    415\u001b[0m \u001b[38;5;28;01mif\u001b[39;00m datetimelike \u001b[38;5;129;01mand\u001b[39;00m mask \u001b[38;5;129;01mis\u001b[39;00m \u001b[38;5;28;01mNone\u001b[39;00m:\n\u001b[1;32m    416\u001b[0m     mask \u001b[38;5;241m=\u001b[39m isna(values)\n\u001b[0;32m--> 418\u001b[0m result \u001b[38;5;241m=\u001b[39m \u001b[43mfunc\u001b[49m\u001b[43m(\u001b[49m\u001b[43mvalues\u001b[49m\u001b[43m,\u001b[49m\u001b[43m \u001b[49m\u001b[43maxis\u001b[49m\u001b[38;5;241;43m=\u001b[39;49m\u001b[43maxis\u001b[49m\u001b[43m,\u001b[49m\u001b[43m \u001b[49m\u001b[43mskipna\u001b[49m\u001b[38;5;241;43m=\u001b[39;49m\u001b[43mskipna\u001b[49m\u001b[43m,\u001b[49m\u001b[43m \u001b[49m\u001b[43mmask\u001b[49m\u001b[38;5;241;43m=\u001b[39;49m\u001b[43mmask\u001b[49m\u001b[43m,\u001b[49m\u001b[43m \u001b[49m\u001b[38;5;241;43m*\u001b[39;49m\u001b[38;5;241;43m*\u001b[39;49m\u001b[43mkwargs\u001b[49m\u001b[43m)\u001b[49m\n\u001b[1;32m    420\u001b[0m \u001b[38;5;28;01mif\u001b[39;00m datetimelike:\n\u001b[1;32m    421\u001b[0m     result \u001b[38;5;241m=\u001b[39m _wrap_results(result, orig_values\u001b[38;5;241m.\u001b[39mdtype, fill_value\u001b[38;5;241m=\u001b[39miNaT)\n",
      "File \u001b[0;32m/opt/conda/lib/python3.10/site-packages/pandas/core/nanops.py:706\u001b[0m, in \u001b[0;36mnanmean\u001b[0;34m(values, axis, skipna, mask)\u001b[0m\n\u001b[1;32m    703\u001b[0m     dtype_count \u001b[38;5;241m=\u001b[39m dtype\n\u001b[1;32m    705\u001b[0m count \u001b[38;5;241m=\u001b[39m _get_counts(values\u001b[38;5;241m.\u001b[39mshape, mask, axis, dtype\u001b[38;5;241m=\u001b[39mdtype_count)\n\u001b[0;32m--> 706\u001b[0m the_sum \u001b[38;5;241m=\u001b[39m \u001b[43m_ensure_numeric\u001b[49m\u001b[43m(\u001b[49m\u001b[43mvalues\u001b[49m\u001b[38;5;241;43m.\u001b[39;49m\u001b[43msum\u001b[49m\u001b[43m(\u001b[49m\u001b[43maxis\u001b[49m\u001b[43m,\u001b[49m\u001b[43m \u001b[49m\u001b[43mdtype\u001b[49m\u001b[38;5;241;43m=\u001b[39;49m\u001b[43mdtype_sum\u001b[49m\u001b[43m)\u001b[49m\u001b[43m)\u001b[49m\n\u001b[1;32m    708\u001b[0m \u001b[38;5;28;01mif\u001b[39;00m axis \u001b[38;5;129;01mis\u001b[39;00m \u001b[38;5;129;01mnot\u001b[39;00m \u001b[38;5;28;01mNone\u001b[39;00m \u001b[38;5;129;01mand\u001b[39;00m \u001b[38;5;28mgetattr\u001b[39m(the_sum, \u001b[38;5;124m\"\u001b[39m\u001b[38;5;124mndim\u001b[39m\u001b[38;5;124m\"\u001b[39m, \u001b[38;5;28;01mFalse\u001b[39;00m):\n\u001b[1;32m    709\u001b[0m     count \u001b[38;5;241m=\u001b[39m cast(np\u001b[38;5;241m.\u001b[39mndarray, count)\n",
      "File \u001b[0;32m/opt/conda/lib/python3.10/site-packages/pandas/core/nanops.py:1637\u001b[0m, in \u001b[0;36m_ensure_numeric\u001b[0;34m(x)\u001b[0m\n\u001b[1;32m   1634\u001b[0m             x \u001b[38;5;241m=\u001b[39m \u001b[38;5;28mcomplex\u001b[39m(x)\n\u001b[1;32m   1635\u001b[0m         \u001b[38;5;28;01mexcept\u001b[39;00m \u001b[38;5;167;01mValueError\u001b[39;00m \u001b[38;5;28;01mas\u001b[39;00m err:\n\u001b[1;32m   1636\u001b[0m             \u001b[38;5;66;03m# e.g. \"foo\"\u001b[39;00m\n\u001b[0;32m-> 1637\u001b[0m             \u001b[38;5;28;01mraise\u001b[39;00m \u001b[38;5;167;01mTypeError\u001b[39;00m(\u001b[38;5;124mf\u001b[39m\u001b[38;5;124m\"\u001b[39m\u001b[38;5;124mCould not convert \u001b[39m\u001b[38;5;132;01m{\u001b[39;00mx\u001b[38;5;132;01m}\u001b[39;00m\u001b[38;5;124m to numeric\u001b[39m\u001b[38;5;124m\"\u001b[39m) \u001b[38;5;28;01mfrom\u001b[39;00m \u001b[38;5;21;01merr\u001b[39;00m\n\u001b[1;32m   1638\u001b[0m \u001b[38;5;28;01mreturn\u001b[39;00m x\n",
      "\u001b[0;31mTypeError\u001b[0m: Could not convert abcdef to numeric"
     ]
    }
   ],
   "source": [
    "df1['column_2'].mean()"
   ]
  },
  {
   "cell_type": "code",
   "execution_count": null,
   "id": "181bf698-d93b-49a2-8185-3f362baa3a8d",
   "metadata": {},
   "outputs": [],
   "source": [
    "# Error is because of the string datatype used here\n",
    "# Firstly mean = sum / number of objects\n",
    "# Here we will be able to get sum as abcdef in pandas\n",
    "# now problem will occur when dividing by number\n",
    "# it is not possible to divide string by a number it will give TypeError\n",
    "# Note that mean functionality will work only for integer and float datatypes\n",
    "# In case if data is provided for number in strings typecast it into int or float using .astype(float) function\n",
    "# Consider below example where i have considered numbers as string in below case"
   ]
  },
  {
   "cell_type": "code",
   "execution_count": 23,
   "id": "fd03959c-466a-484c-b64f-507ba94a9e3a",
   "metadata": {},
   "outputs": [
    {
     "data": {
      "text/html": [
       "<div>\n",
       "<style scoped>\n",
       "    .dataframe tbody tr th:only-of-type {\n",
       "        vertical-align: middle;\n",
       "    }\n",
       "\n",
       "    .dataframe tbody tr th {\n",
       "        vertical-align: top;\n",
       "    }\n",
       "\n",
       "    .dataframe thead th {\n",
       "        text-align: right;\n",
       "    }\n",
       "</style>\n",
       "<table border=\"1\" class=\"dataframe\">\n",
       "  <thead>\n",
       "    <tr style=\"text-align: right;\">\n",
       "      <th></th>\n",
       "      <th>column_1</th>\n",
       "      <th>column_2</th>\n",
       "      <th>column_3</th>\n",
       "      <th>column_4</th>\n",
       "      <th>column_5</th>\n",
       "      <th>column_6</th>\n",
       "    </tr>\n",
       "  </thead>\n",
       "  <tbody>\n",
       "    <tr>\n",
       "      <th>1</th>\n",
       "      <td>0.834736</td>\n",
       "      <td>1</td>\n",
       "      <td>0.454786</td>\n",
       "      <td>0.813455</td>\n",
       "      <td>0.749927</td>\n",
       "      <td>0.143571</td>\n",
       "    </tr>\n",
       "    <tr>\n",
       "      <th>2</th>\n",
       "      <td>0.425562</td>\n",
       "      <td>2</td>\n",
       "      <td>0.832543</td>\n",
       "      <td>0.733370</td>\n",
       "      <td>0.020797</td>\n",
       "      <td>0.755005</td>\n",
       "    </tr>\n",
       "    <tr>\n",
       "      <th>3</th>\n",
       "      <td>0.349327</td>\n",
       "      <td>3</td>\n",
       "      <td>0.093333</td>\n",
       "      <td>0.911787</td>\n",
       "      <td>0.704513</td>\n",
       "      <td>0.949944</td>\n",
       "    </tr>\n",
       "    <tr>\n",
       "      <th>4</th>\n",
       "      <td>0.071923</td>\n",
       "      <td>4</td>\n",
       "      <td>0.695376</td>\n",
       "      <td>0.702883</td>\n",
       "      <td>0.461014</td>\n",
       "      <td>0.881376</td>\n",
       "    </tr>\n",
       "    <tr>\n",
       "      <th>5</th>\n",
       "      <td>0.739171</td>\n",
       "      <td>5</td>\n",
       "      <td>0.610938</td>\n",
       "      <td>0.868781</td>\n",
       "      <td>0.233625</td>\n",
       "      <td>0.580240</td>\n",
       "    </tr>\n",
       "    <tr>\n",
       "      <th>6</th>\n",
       "      <td>0.679099</td>\n",
       "      <td>6</td>\n",
       "      <td>0.305701</td>\n",
       "      <td>0.386906</td>\n",
       "      <td>0.583613</td>\n",
       "      <td>0.879665</td>\n",
       "    </tr>\n",
       "  </tbody>\n",
       "</table>\n",
       "</div>"
      ],
      "text/plain": [
       "   column_1 column_2  column_3  column_4  column_5  column_6\n",
       "1  0.834736        1  0.454786  0.813455  0.749927  0.143571\n",
       "2  0.425562        2  0.832543  0.733370  0.020797  0.755005\n",
       "3  0.349327        3  0.093333  0.911787  0.704513  0.949944\n",
       "4  0.071923        4  0.695376  0.702883  0.461014  0.881376\n",
       "5  0.739171        5  0.610938  0.868781  0.233625  0.580240\n",
       "6  0.679099        6  0.305701  0.386906  0.583613  0.879665"
      ]
     },
     "execution_count": 23,
     "metadata": {},
     "output_type": "execute_result"
    }
   ],
   "source": [
    "df1['column_2']=['1','2','3','4','5','6']\n",
    "df1"
   ]
  },
  {
   "cell_type": "code",
   "execution_count": 24,
   "id": "8204f473-a861-45a9-8a58-30e4f2955c55",
   "metadata": {},
   "outputs": [
    {
     "data": {
      "text/plain": [
       "20576.0"
      ]
     },
     "execution_count": 24,
     "metadata": {},
     "output_type": "execute_result"
    }
   ],
   "source": [
    "df1['column_2'].mean()"
   ]
  },
  {
   "cell_type": "code",
   "execution_count": 25,
   "id": "b2d87e33-9dff-48d3-9c9c-8f65e723966b",
   "metadata": {},
   "outputs": [],
   "source": [
    "# Why I'm getting 20576.0 for above case?\n",
    "# 1. Function will do sum operation for strings i.e. sum = '123456' in this case for column 2\n",
    "# 2. Function will convert string object to float now sum = 123456.0 in float\n",
    "# 3. mean = sum / number of records , in this case mean = 123456/6 = 20576.0\n",
    "# 4. This result is misleading and this is why we need to check datatypes and convert them using astypes function"
   ]
  },
  {
   "cell_type": "code",
   "execution_count": 26,
   "id": "081fea83-3132-463f-b0ab-3b5b4122899c",
   "metadata": {},
   "outputs": [],
   "source": [
    "df1['column_2'] = df1['column_2'].astype(int)"
   ]
  },
  {
   "cell_type": "code",
   "execution_count": 27,
   "id": "dbfefe10-0d68-44bc-9b03-bf507490ecac",
   "metadata": {},
   "outputs": [
    {
     "data": {
      "text/plain": [
       "column_1    float64\n",
       "column_2      int64\n",
       "column_3    float64\n",
       "column_4    float64\n",
       "column_5    float64\n",
       "column_6    float64\n",
       "dtype: object"
      ]
     },
     "execution_count": 27,
     "metadata": {},
     "output_type": "execute_result"
    }
   ],
   "source": [
    "df1.dtypes"
   ]
  },
  {
   "cell_type": "code",
   "execution_count": 28,
   "id": "5ade3efc-040b-4a1b-94bf-dca7b2294264",
   "metadata": {},
   "outputs": [
    {
     "data": {
      "text/plain": [
       "3.5"
      ]
     },
     "execution_count": 28,
     "metadata": {},
     "output_type": "execute_result"
    }
   ],
   "source": [
    "df1['column_2'].mean()"
   ]
  },
  {
   "cell_type": "code",
   "execution_count": 29,
   "id": "5154210c-3758-49cb-a790-805e6eb78d14",
   "metadata": {},
   "outputs": [],
   "source": [
    "# Q6. What do you understand about the windows function in pandas and list the types of windows\n",
    "# functions?"
   ]
  },
  {
   "cell_type": "code",
   "execution_count": 30,
   "id": "34cd377c-a144-489f-9fa3-3858335dbd30",
   "metadata": {},
   "outputs": [],
   "source": [
    "# Answer:\n",
    "    \n",
    "# In pandas, the rolling() function is used to provide rolling window calculations.\n",
    "# It enables users to perform calculations over a specified window of time or observations.\n",
    "# The rolling window is a flexible way to perform operations like mean, sum, standard deviation, etc., on data points within a fixed window size.\n",
    "# The rolling() function is often used in conjunction with aggregation functions like mean(), sum(), std(), min(), max(), etc.\n",
    "# This allows users to calculate statistics over rolling windows of data.\n",
    "# Types of window functions in pandas include:\n",
    "\n",
    "# rolling(): This is the primary function for creating rolling windows.\n",
    "\n",
    "# expanding(): This function provides expanding window calculations. It includes all the data points from the start until the current point.\n",
    "\n",
    "# ewm(): This stands for exponentially weighted moving window. It provides exponentially weighted moving statistics.\n",
    "\n",
    "# These functions enable users to perform various calculations efficiently over rolling windows, expanding windows, or exponentially weighted moving windows in pandas DataFrame or Series."
   ]
  },
  {
   "cell_type": "code",
   "execution_count": 31,
   "id": "b4d05147-2b40-416f-abf3-a5ab81d6bc2f",
   "metadata": {},
   "outputs": [],
   "source": [
    "#Q7. Write a code to print only the current month and year at the time of answering this question.\n",
    "#[Hint: Use pandas.datetime function]"
   ]
  },
  {
   "cell_type": "code",
   "execution_count": 32,
   "id": "080f7e0f-ef32-4bee-84ab-7f4ec1585cdc",
   "metadata": {},
   "outputs": [
    {
     "data": {
      "text/plain": [
       "Timestamp('2024-02-24 06:36:24.553406')"
      ]
     },
     "execution_count": 32,
     "metadata": {},
     "output_type": "execute_result"
    }
   ],
   "source": [
    "import pandas as pd\n",
    "\n",
    "timestamp_now = pd.Timestamp.now()\n",
    "timestamp_now\n"
   ]
  },
  {
   "cell_type": "code",
   "execution_count": 33,
   "id": "bc950bb2-727b-4b76-a650-a4340aac6d06",
   "metadata": {},
   "outputs": [],
   "source": [
    "month = timestamp_now.month_name()\n",
    "year = timestamp_now.year"
   ]
  },
  {
   "cell_type": "code",
   "execution_count": 34,
   "id": "440434e0-4af8-426c-8fa6-2be7f1b294cd",
   "metadata": {},
   "outputs": [
    {
     "name": "stdout",
     "output_type": "stream",
     "text": [
      "Month while writing this code is : February\n",
      "Year while writing this code is  : 2024\n"
     ]
    }
   ],
   "source": [
    "print(f'Month while writing this code is : {month}')\n",
    "print(f'Year while writing this code is  : {year}')"
   ]
  },
  {
   "cell_type": "code",
   "execution_count": 35,
   "id": "0c69aed7-7442-493d-9e59-50b74b355bb7",
   "metadata": {},
   "outputs": [],
   "source": [
    "# Q8. Write a Python program that takes in two dates as input (in the format YYYY-MM-DD) and\n",
    "# calculates the difference between them in days, hours, and minutes using Pandas time delta. The\n",
    "# program should prompt the user to enter the dates and display the result."
   ]
  },
  {
   "cell_type": "code",
   "execution_count": 36,
   "id": "30dd836a-9ff6-486d-87fb-dd1cc573e54e",
   "metadata": {},
   "outputs": [],
   "source": [
    "# Answer :\n",
    "\n",
    "# Pandas Time Delta is not a suitable function for this purpose. Timedeltas has different purpose"
   ]
  },
  {
   "cell_type": "code",
   "execution_count": 37,
   "id": "0d846a8e-c95b-40dc-b3ba-7dbf8ea10ec1",
   "metadata": {},
   "outputs": [
    {
     "name": "stdin",
     "output_type": "stream",
     "text": [
      "Enter the first date (YYYY-MM-DD):  2001-06-26\n",
      "Enter the second date (YYYY-MM-DD):  2001-09-14\n"
     ]
    },
    {
     "name": "stdout",
     "output_type": "stream",
     "text": [
      "The difference between 2001-06-26 and 2001-09-14 is 80 days\n"
     ]
    }
   ],
   "source": [
    "import pandas as pd\n",
    "\n",
    "try:\n",
    "    # Prompt the user to enter the first date\n",
    "    date1 = input(\"Enter the first date (YYYY-MM-DD): \")\n",
    "\n",
    "    # Prompt the user to enter the second date\n",
    "    date2 = input(\"Enter the second date (YYYY-MM-DD): \")\n",
    "\n",
    "    # Convert the dates to datetime objects\n",
    "    date1 = pd.to_datetime(date1)\n",
    "    date2 = pd.to_datetime(date2)\n",
    "\n",
    "    # Calculate the time difference between the dates\n",
    "    time_diff = date2 - date1\n",
    "    days =time_diff.days\n",
    "\n",
    "    # Display the result\n",
    "    print(f\"The difference between {date1.date()} and {date2.date()} is {days} days\")\n",
    "\n",
    "except Exception as e:\n",
    "    print('Input provided for date1 :',date1)\n",
    "    print('Input provided for date2 :',date2)\n",
    "    print('Exception Occured and Handled :',e)"
   ]
  },
  {
   "cell_type": "code",
   "execution_count": 38,
   "id": "9a0d2247-82bc-4747-8403-ef6b03556dd8",
   "metadata": {},
   "outputs": [],
   "source": [
    "# Q9. Write a Python program that reads a CSV file containing categorical data and converts a specified\n",
    "# column to a categorical data type. The program should prompt the user to enter the file path, column\n",
    "# name, and category order, and then display the sorted data."
   ]
  },
  {
   "cell_type": "code",
   "execution_count": 46,
   "id": "9f406375-6038-411f-a44f-cdacd9acb91a",
   "metadata": {},
   "outputs": [
    {
     "name": "stdin",
     "output_type": "stream",
     "text": [
      "File Path Entered ram.csv\n",
      "Enter the name of the column to convert to categorical data type:  Grades\n",
      "Enter the category order (comma-separated):  ['C', 'B', 'A'] \n"
     ]
    },
    {
     "name": "stdout",
     "output_type": "stream",
     "text": [
      "      Name  Gender Grades\n",
      "0    Krish    Male    NaN\n",
      "1   Dhiraj    Male    NaN\n",
      "2    Yusuf    Male    NaN\n",
      "3    Aditi  Female    NaN\n",
      "4   Sunita  Female    NaN\n",
      "5    Kiara  Female    NaN\n",
      "6  Utkarsh    Male    NaN\n"
     ]
    }
   ],
   "source": [
    "import pandas as pd\n",
    "\n",
    "# Function to read CSV file and convert specified column to categorical data type\n",
    "def convert_to_categorical(file_path, column_name, category_order):\n",
    "    # Read CSV file\n",
    "    df = pd.read_csv(\"ram.csv\")\n",
    "    \n",
    "    # Convert specified column to categorical data type\n",
    "    df[column_name] = pd.Categorical(df[column_name], categories=category_order, ordered=True)\n",
    "    \n",
    "    # Display sorted data\n",
    "    sorted_df = df.sort_values(by=column_name)\n",
    "    print(sorted_df)\n",
    "\n",
    "# Prompt user for file path, column name, and category order\n",
    "file_path = input(\"File Path Entered\")\n",
    "column_name = input(\"Enter the name of the column to convert to categorical data type: \")\n",
    "category_order = input(\"Enter the category order (comma-separated): \").split(\",\")\n",
    "\n",
    "# Call the function to convert and display data\n",
    "convert_to_categorical(file_path, column_name, category_order)\n"
   ]
  },
  {
   "cell_type": "code",
   "execution_count": 47,
   "id": "9f2ace5c-6a69-46db-831b-3f3ebe053d0f",
   "metadata": {},
   "outputs": [],
   "source": [
    "# Q10. Write a Python program that reads a CSV file containing sales data for different products and\n",
    "# visualizes the data using a stacked bar chart to show the sales of each product category over time. The\n",
    "# program should prompt the user to enter the file path and display the chart."
   ]
  },
  {
   "cell_type": "code",
   "execution_count": 50,
   "id": "8324fa31-cddc-4111-a1b9-2c1edcf10c2e",
   "metadata": {},
   "outputs": [
    {
     "name": "stdin",
     "output_type": "stream",
     "text": [
      "Enter the file path:  rcreddySales.csv\n"
     ]
    },
    {
     "name": "stdout",
     "output_type": "stream",
     "text": [
      "File path Entered :  rcreddySales.csv \n",
      "\n",
      "=====================================\n",
      "\n",
      "Input CSV provided\n",
      "\n",
      "        Date  Product  Sales\n",
      "0 2022-01-01   iPhone    100\n",
      "1 2022-01-01  OnePlus    150\n",
      "2 2022-01-02  Samsung    120\n",
      "3 2022-01-02   iPhone    130\n",
      "4 2022-01-03  OnePlus     80\n",
      "5 2022-01-03  Samsung    180\n",
      "6 2022-01-04   iPhone     90\n",
      "7 2022-01-04  Samsung    200\n",
      "8 2022-01-05  OnePlus    110\n",
      "9 2022-01-05   iPhone    170\n",
      "\n",
      "=====================================\n",
      "\n"
     ]
    },
    {
     "data": {
      "image/png": "[encoded data removed]",
      "text/plain": [
       "<Figure size 1000x1000 with 1 Axes>"
      ]
     },
     "metadata": {},
     "output_type": "display_data"
    }
   ],
   "source": [
    "import pandas as pd\n",
    "\n",
    "try:\n",
    "    # Prompt the user to enter the file path\n",
    "    file_path = input(\"Enter the file path: \")\n",
    "    \n",
    "    # Read the CSV file into a DataFrame\n",
    "    df = pd.read_csv(\"rcreddySales.csv\")\n",
    "\n",
    "    # Convert the date column to datetime datatype\n",
    "    df['Date'] = pd.to_datetime(df['Date'])\n",
    "\n",
    "    # Group the data by product and date, and sum the sales\n",
    "    df_grouped = df.groupby(['Product', 'Date']).sum().reset_index()\n",
    "\n",
    "    # Pivot the data to create a matrix of sales by product and date\n",
    "    df_pivot = df_grouped.pivot(index='Date', columns='Product', values='Sales')\n",
    "\n",
    "    # Print the filepath provided\n",
    "    print('File path Entered : ', file_path,'\\n')\n",
    "    print('=====================================\\n')\n",
    "\n",
    "    print('Input CSV provided\\n')\n",
    "    print(df)\n",
    "\n",
    "    print('\\n=====================================\\n')\n",
    "    # Plot stacked barchart overtime\n",
    "    df_pivot.plot(kind='bar',\n",
    "                  stacked=True,\n",
    "                  title='Product Sales Over time', \n",
    "                  xlabel='Date',\n",
    "                  ylabel='Sales',\n",
    "                  figsize=(10,10))\n",
    "\n",
    "except Exception as e:     \n",
    "    print('File path Entered : ', file_path,'\\n')\n",
    "    print('Exception occured and Handled : ',e)"
   ]
  },
  {
   "cell_type": "code",
   "execution_count": 51,
   "id": "ee850df6-dc77-4f0f-945b-ff0d44670fee",
   "metadata": {},
   "outputs": [],
   "source": [
    "# Q11. You are given a CSV file containing student data that includes the student ID and their test score. Write\n",
    "# a Python program that reads the CSV file, calculates the mean, median, and mode of the test scores, and\n",
    "# displays the results in a table."
   ]
  },
  {
   "cell_type": "code",
   "execution_count": null,
   "id": "145ec736-6de2-4729-8e1f-fc66da36a7ed",
   "metadata": {},
   "outputs": [],
   "source": [
    "import pandas as pd\n",
    "\n",
    "try:\n",
    "    # Prompt the user to enter the file path\n",
    "    file_path = input(\"Enter the file path: \")\n",
    "    \n",
    "    # Read the CSV file into a DataFrame\n",
    "    df = pd.read_csv(file_path)\n",
    "\n",
    "    # Calculate Mean, Median, Mode of Test Score\n",
    "    test_mean = df['Test Score'].mean()\n",
    "    test_median = df['Test Score'].median()\n",
    "    test_mode = df['Test Score'].mode()[0]\n",
    "\n",
    "    # Create A DataFrame to Show above results\n",
    "    df_stats = pd.DataFrame({'Statistic':['Mean','Median','Mode'],\n",
    "                             'Value':[test_mean,test_median,test_mode]})    \n",
    "\n",
    "    # Print File Path Entered:\n",
    "    print('File Path Entered :',file_path)\n",
    "    print('\\n==============================\\n') \n",
    "    print('DataFrame Provided\\n')\n",
    "    print(df)\n",
    "    print('\\n==============================\\n')\n",
    "    print('Statistics Table\\n')\n",
    "    print(df_stats)    \n",
    "\n",
    "except Exception as e:\n",
    "    print('File Path Entered :',file_path)\n",
    "    print('Exception Occured :',e)"
   ]
  }
 ],
 "metadata": {
  "kernelspec": {
   "display_name": "Python 3 (ipykernel)",
   "language": "python",
   "name": "python3"
  },
  "language_info": {
   "codemirror_mode": {
    "name": "ipython",
    "version": 3
   },
   "file_extension": ".py",
   "mimetype": "text/x-python",
   "name": "python",
   "nbconvert_exporter": "python",
   "pygments_lexer": "ipython3",
   "version": "3.10.8"
  }
 },
 "nbformat": 4,
 "nbformat_minor": 5
}
