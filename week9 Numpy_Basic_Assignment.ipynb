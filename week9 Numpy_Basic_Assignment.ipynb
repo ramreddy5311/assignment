{
 "cells": [
  {
   "cell_type": "code",
   "execution_count": 2,
   "id": "6afdfe50-001c-4591-9d29-eba7fc71036e",
   "metadata": {},
   "outputs": [],
   "source": [
    "#Consider the below code to answer further questions:\n",
    "\n",
    "import numpy as np\n",
    "list_ = [1,2,3,4,5]\n",
    "array_list = np.array(object = list_)"
   ]
  },
  {
   "cell_type": "code",
   "execution_count": 3,
   "id": "c5384b0c-9bcf-4b05-8ade-4e61e941a580",
   "metadata": {},
   "outputs": [
    {
     "data": {
      "text/plain": [
       "array([1, 2, 3, 4, 5])"
      ]
     },
     "execution_count": 3,
     "metadata": {},
     "output_type": "execute_result"
    }
   ],
   "source": [
    "array_list"
   ]
  },
  {
   "cell_type": "code",
   "execution_count": 4,
   "id": "daf8aae0-75da-495d-a5a8-43da7018b4b9",
   "metadata": {},
   "outputs": [],
   "source": [
    "# Q1. Is there any difference in the data type of variables list_ and array_list? If there is then write a code\n",
    "# to print the data types of both the variables."
   ]
  },
  {
   "cell_type": "code",
   "execution_count": 5,
   "id": "0efc1416-fb5f-4452-9b3c-cae28a9123e2",
   "metadata": {},
   "outputs": [
    {
     "name": "stdout",
     "output_type": "stream",
     "text": [
      "Data type of list_: <class 'list'>\n",
      "Data type of array_list: <class 'numpy.ndarray'>\n"
     ]
    }
   ],
   "source": [
    "import numpy as np\n",
    "\n",
    "# Assuming list_ is a Python list\n",
    "list_ = [1, 2, 3, 4, 5]\n",
    "\n",
    "# Convert list_ to a NumPy array\n",
    "array_list = np.array(list_)\n",
    "\n",
    "# Print data types\n",
    "print(\"Data type of list_:\", type(list_))\n",
    "print(\"Data type of array_list:\", type(array_list))\n"
   ]
  },
  {
   "cell_type": "code",
   "execution_count": 6,
   "id": "e8d18876-ba70-422a-8492-ec78e0d889d1",
   "metadata": {},
   "outputs": [],
   "source": [
    "# Q2. Write a code to print the data type of each and every element of both the variables list_ and\n",
    "# arra_list."
   ]
  },
  {
   "cell_type": "code",
   "execution_count": 7,
   "id": "50c10c34-7bb9-46b2-9e59-5319b43b99df",
   "metadata": {},
   "outputs": [
    {
     "name": "stdout",
     "output_type": "stream",
     "text": [
      "Data types of elements in list_:\n",
      "<class 'int'>\n",
      "<class 'int'>\n",
      "<class 'int'>\n",
      "<class 'int'>\n",
      "<class 'int'>\n",
      "\n",
      "Data types of elements in array_list:\n",
      "<class 'int'>\n",
      "<class 'int'>\n",
      "<class 'int'>\n",
      "<class 'int'>\n",
      "<class 'int'>\n"
     ]
    }
   ],
   "source": [
    "import numpy as np\n",
    "\n",
    "# Assuming list_ is a Python list\n",
    "list_ = [1, 2, 3, 4, 5]\n",
    "\n",
    "# Convert list_ to a NumPy array\n",
    "array_list = np.array(list_)\n",
    "\n",
    "# Print data types of each element in list_\n",
    "print(\"Data types of elements in list_:\")\n",
    "for item in list_:\n",
    "    print(type(item))\n",
    "\n",
    "# Print data types of each element in array_list\n",
    "print(\"\\nData types of elements in array_list:\")\n",
    "for item in np.nditer(array_list):\n",
    "    print(type(item.item()))\n"
   ]
  },
  {
   "cell_type": "code",
   "execution_count": 8,
   "id": "60e2fa8e-cbad-4c61-8c27-726e555414ad",
   "metadata": {},
   "outputs": [],
   "source": [
    "# Q3. Considering the following changes in the variable, array_list:\n",
    "# array_list = np.array(object = list_, dtype = int)\n",
    "# Will there be any difference in the data type of the elements present in both the variables, list_ and\n",
    "# arra_list? If so then print the data types of each and every element present in both the variables, list_\n",
    "# and arra_list."
   ]
  },
  {
   "cell_type": "code",
   "execution_count": 9,
   "id": "8807eb51-ae72-4193-a129-edb0bdbb4bed",
   "metadata": {},
   "outputs": [],
   "source": [
    "#Answer:\n",
    "\n",
    "#yes, there would be a difference in the data types of the elements present in list_ and array_list after this change. By specifying the dtype=int parameter when creating the NumPy array array_list, you're explicitly setting the data type of the elements to be integers."
   ]
  },
  {
   "cell_type": "code",
   "execution_count": 10,
   "id": "714db34a-a6f8-44ea-9f8c-cb87140a2ffb",
   "metadata": {},
   "outputs": [
    {
     "name": "stdout",
     "output_type": "stream",
     "text": [
      "Data types of elements in list_:\n",
      "<class 'int'>\n",
      "<class 'int'>\n",
      "<class 'int'>\n",
      "<class 'int'>\n",
      "<class 'int'>\n",
      "\n",
      "Data types of elements in array_list:\n",
      "<class 'int'>\n",
      "<class 'int'>\n",
      "<class 'int'>\n",
      "<class 'int'>\n",
      "<class 'int'>\n"
     ]
    }
   ],
   "source": [
    "import numpy as np\n",
    "\n",
    "# Assuming list_ is a Python list\n",
    "list_ = [1, 2, 3, 4, 5]\n",
    "\n",
    "# Convert list_ to a NumPy array with dtype=int\n",
    "array_list = np.array(object=list_, dtype=int)\n",
    "\n",
    "# Print data types of each element in list_\n",
    "print(\"Data types of elements in list_:\")\n",
    "for item in list_:\n",
    "    print(type(item))\n",
    "\n",
    "# Print data types of each element in array_list\n",
    "print(\"\\nData types of elements in array_list:\")\n",
    "for item in np.nditer(array_list):\n",
    "    print(type(item.item()))\n"
   ]
  },
  {
   "cell_type": "code",
   "execution_count": 11,
   "id": "cbb109c1-567f-483d-883e-4a38e4ea87ce",
   "metadata": {},
   "outputs": [],
   "source": [
    "#Consider the below code to answer further questions:\n",
    "\n",
    "import numpy as np\n",
    "num_list = [ [ 1 , 2 , 3 ] , [ 4 , 5 , 6 ] ]\n",
    "num_array = np.array(object = num_list)"
   ]
  },
  {
   "cell_type": "code",
   "execution_count": 12,
   "id": "1cf9613e-9fdd-4b8d-84fe-7a48a77fc294",
   "metadata": {},
   "outputs": [
    {
     "data": {
      "text/plain": [
       "array([[1, 2, 3],\n",
       "       [4, 5, 6]])"
      ]
     },
     "execution_count": 14,
     "metadata": {},
     "output_type": "execute_result"
    }
   ],
   "source": [
    "num_array"
   ]
  },
  {
   "cell_type": "code",
   "execution_count": 15,
   "id": "12e5bb9c-c212-499b-9d50-33df8ff43b2f",
   "metadata": {},
   "outputs": [],
   "source": [
    "# Q4. Write a code to find the following characteristics of variable, num_array:\n",
    "# (i) shape\n",
    "# (ii) size"
   ]
  },
  {
   "cell_type": "code",
   "execution_count": 16,
   "id": "1c2c8ad8-c3ba-407b-8993-b169573ab286",
   "metadata": {},
   "outputs": [
    {
     "name": "stdout",
     "output_type": "stream",
     "text": [
      "Shape of num_array: (3, 3)\n",
      "Size of num_array: 9\n"
     ]
    }
   ],
   "source": [
    "import numpy as np\n",
    "\n",
    "# Assuming num_array is your NumPy array\n",
    "num_array = np.array([[1, 2, 3], [4, 5, 6], [7, 8, 9]])\n",
    "\n",
    "# Find the shape of num_array\n",
    "shape = num_array.shape\n",
    "\n",
    "# Find the size of num_array\n",
    "size = num_array.size\n",
    "\n",
    "print(\"Shape of num_array:\", shape)\n",
    "print(\"Size of num_array:\", size)\n"
   ]
  },
  {
   "cell_type": "code",
   "execution_count": 19,
   "id": "52999224-c2c5-4125-ad69-3c91826846b2",
   "metadata": {},
   "outputs": [
    {
     "data": {
      "text/plain": [
       "(3, 3)"
      ]
     },
     "execution_count": 19,
     "metadata": {},
     "output_type": "execute_result"
    }
   ],
   "source": [
    "#Another way of performing Shape and Size of an array\n",
    "num_array.shape"
   ]
  },
  {
   "cell_type": "code",
   "execution_count": 20,
   "id": "9c39d028-4ae4-41b3-83ad-ad55f51102dd",
   "metadata": {},
   "outputs": [
    {
     "data": {
      "text/plain": [
       "9"
      ]
     },
     "execution_count": 20,
     "metadata": {},
     "output_type": "execute_result"
    }
   ],
   "source": [
    "num_array.size"
   ]
  },
  {
   "cell_type": "code",
   "execution_count": 21,
   "id": "4dc43162-fd4f-4041-ada9-7b9b38ad5f42",
   "metadata": {},
   "outputs": [],
   "source": [
    "# Q5. Write a code to create numpy array of 3*3 matrix containing zeros only, using a numpy array\n",
    "# creation function.\n",
    "# [Hint: The size of the array will be 9 and the shape will be (3,3).]"
   ]
  },
  {
   "cell_type": "code",
   "execution_count": 22,
   "id": "fbb13c41-88d4-47fb-b1ad-1d5fd7d18fc1",
   "metadata": {},
   "outputs": [
    {
     "name": "stdout",
     "output_type": "stream",
     "text": [
      "[[0. 0. 0.]\n",
      " [0. 0. 0.]\n",
      " [0. 0. 0.]]\n"
     ]
    }
   ],
   "source": [
    "import numpy as np\n",
    "\n",
    "# Create a 3x3 matrix containing zeros\n",
    "zeros_array = np.zeros((3, 3))\n",
    "\n",
    "print(zeros_array)\n"
   ]
  },
  {
   "cell_type": "code",
   "execution_count": 23,
   "id": "599510af-5ccf-49f4-99d6-b84074022a17",
   "metadata": {},
   "outputs": [],
   "source": [
    "# Q6. Create an identity matrix of shape (5,5) using numpy functions?\n",
    "# [Hint: An identity matrix is a matrix containing 1 diagonally and other elements will be 0.]"
   ]
  },
  {
   "cell_type": "code",
   "execution_count": 25,
   "id": "ce5a8de0-1c4c-45db-a890-9b2eed620064",
   "metadata": {},
   "outputs": [
    {
     "name": "stdout",
     "output_type": "stream",
     "text": [
      "[[1. 0. 0. 0. 0.]\n",
      " [0. 1. 0. 0. 0.]\n",
      " [0. 0. 1. 0. 0.]\n",
      " [0. 0. 0. 1. 0.]\n",
      " [0. 0. 0. 0. 1.]]\n"
     ]
    }
   ],
   "source": [
    "import numpy as np\n",
    "\n",
    "# Create a 5x5 identity matrix\n",
    "identity_matrix = np.eye(5)\n",
    "\n",
    "print(identity_matrix)\n"
   ]
  },
  {
   "cell_type": "code",
   "execution_count": 26,
   "id": "e0dff695-c4ed-4398-95f7-d88786b8f4ad",
   "metadata": {},
   "outputs": [
    {
     "data": {
      "text/plain": [
       "array([[1., 0., 0., 0., 0.],\n",
       "       [0., 1., 0., 0., 0.],\n",
       "       [0., 0., 1., 0., 0.],\n",
       "       [0., 0., 0., 1., 0.],\n",
       "       [0., 0., 0., 0., 1.]])"
      ]
     },
     "execution_count": 26,
     "metadata": {},
     "output_type": "execute_result"
    }
   ],
   "source": [
    "#Another way of performing  \n",
    "np.eye(5)"
   ]
  },
  {
   "cell_type": "code",
   "execution_count": null,
   "id": "5dbcf3a0-dd1c-4a44-b795-706b09dfd76e",
   "metadata": {},
   "outputs": [],
   "source": []
  }
 ],
 "metadata": {
  "kernelspec": {
   "display_name": "Python 3 (ipykernel)",
   "language": "python",
   "name": "python3"
  },
  "language_info": {
   "codemirror_mode": {
    "name": "ipython",
    "version": 3
   },
   "file_extension": ".py",
   "mimetype": "text/x-python",
   "name": "python",
   "nbconvert_exporter": "python",
   "pygments_lexer": "ipython3",
   "version": "3.10.8"
  }
 },
 "nbformat": 4,
 "nbformat_minor": 5
}
