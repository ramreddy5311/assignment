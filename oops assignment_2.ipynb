{
 "cells": [
  {
   "cell_type": "code",
   "execution_count": 1,
   "id": "24b00d35",
   "metadata": {},
   "outputs": [],
   "source": [
    "#Q1. What is Abstraction in OOps? Explain with an example.\n",
    "\n",
    "#Abstraction\n",
    "#Abstraction is used to hide the internal functionality of the function from the users. The users only interact with the basic implementation of the function, but inner working is hidden. User is familiar with that \"what function does\" but they don't know \"how it does.\"\n",
    "\n",
    "#In simple words, we all use the smartphone and very much familiar with its functions such as camera, voice-recorder, call-dialing, etc., but we don't know how these operations are happening in the background. Let's take another example - When we use the TV remote to increase the volume. We don't know how pressing a key increases the volume of the TV. We only know to press the \"+\" button to increase the volume.\n",
    "\n",
    "import abc\n",
    "class mru():\n",
    "    \n",
    "    @abc.abstractmethod\n",
    "    def students_deatils(self):\n",
    "        pass\n",
    "    \n",
    "    @abc.abstractmethod\n",
    "    def student_assignments(self):\n",
    "        pass\n",
    "    \n",
    "    @abc.abstractmethod\n",
    "    def student_marks(self):\n",
    "        pass\n",
    "\n"
   ]
  },
  {
   "cell_type": "code",
   "execution_count": 2,
   "id": "a64a55e4",
   "metadata": {},
   "outputs": [],
   "source": [
    "class student_deatils(mru):\n",
    "    \n",
    "    def student_deatils(self):\n",
    "        return \"this for student deatils\"\n",
    "    \n",
    "    def student_assignments(self):\n",
    "        return \"this for student assignments\"\n",
    "    "
   ]
  },
  {
   "cell_type": "code",
   "execution_count": 3,
   "id": "d2047278",
   "metadata": {},
   "outputs": [],
   "source": [
    "class data_science(mru):\n",
    "    \n",
    "    def student_deatils(self):\n",
    "        return \"this for data science students\"\n",
    "    \n",
    "    def student_assignments(self):\n",
    "        return \"this will gave you marks\""
   ]
  },
  {
   "cell_type": "code",
   "execution_count": 6,
   "id": "e3c73a2b",
   "metadata": {},
   "outputs": [],
   "source": [
    "ds = data_science()"
   ]
  },
  {
   "cell_type": "code",
   "execution_count": 7,
   "id": "994f4aa7",
   "metadata": {},
   "outputs": [
    {
     "data": {
      "text/plain": [
       "'this for data science students'"
      ]
     },
     "execution_count": 7,
     "metadata": {},
     "output_type": "execute_result"
    }
   ],
   "source": [
    "ds.student_deatils()"
   ]
  },
  {
   "cell_type": "code",
   "execution_count": 8,
   "id": "90439f18",
   "metadata": {},
   "outputs": [
    {
     "data": {
      "text/plain": [
       "'this will gave you marks'"
      ]
     },
     "execution_count": 8,
     "metadata": {},
     "output_type": "execute_result"
    }
   ],
   "source": [
    "ds.student_assignments()"
   ]
  },
  {
   "cell_type": "code",
   "execution_count": 9,
   "id": "98001464",
   "metadata": {},
   "outputs": [],
   "source": [
    "#Q2. Differentiate between Abstraction and Encapsulation. Explain with an example.\n",
    "\n",
    "#Abstraction:\n",
    "#Data Abstraction is the property by virtue of which only the essential details are displayed to the user. The trivial or the non-essential units are not displayed to the user. Ex: A car is viewed as a car rather than its individual components. Data Abstraction may also be defined as the process of identifying only the required characteristics of an object ignoring the irrelevant details. The properties and behaviors of an object differentiate it from other objects of similar type and also help in classifying/grouping the objects.\n",
    "\n",
    "#example\n",
    "\n",
    "import abc\n",
    "class mru():\n",
    "    \n",
    "    @abc.abstractmethod\n",
    "    def students_deatils(self):\n",
    "        pass\n",
    "    \n",
    "class student_deatils(mru):\n",
    "    \n",
    "    def student_deatils(self):\n",
    "        return \"this for student deatils\"\n",
    "    \n",
    "class data_science(mru):\n",
    "    \n",
    "    def student_deatils(self):\n",
    "        return \"this for data science students\"\n"
   ]
  },
  {
   "cell_type": "code",
   "execution_count": 10,
   "id": "8c36eb37",
   "metadata": {},
   "outputs": [],
   "source": [
    "data = data_science()"
   ]
  },
  {
   "cell_type": "code",
   "execution_count": 11,
   "id": "46e8deb7",
   "metadata": {},
   "outputs": [
    {
     "data": {
      "text/plain": [
       "'this for data science students'"
      ]
     },
     "execution_count": 11,
     "metadata": {},
     "output_type": "execute_result"
    }
   ],
   "source": [
    "data.student_deatils()"
   ]
  },
  {
   "cell_type": "code",
   "execution_count": 15,
   "id": "deaa19c4",
   "metadata": {},
   "outputs": [],
   "source": [
    "#Encapsulation:\n",
    "#Encapsulation is defined as the wrapping up of data under a single unit. It is the mechanism that binds together code and the data it manipulates. Another way to think about encapsulation is, that it is a protective shield that prevents the data from being accessed by the code outside this shield. Technically in encapsulation, the variables or data of a class is hidden from any other class and can be accessed only through any member function of its own class in which they are declared. As in encapsulation, the data in a class is hidden from other classes, so it is also known as data-hiding. Encapsulation can be achieved by Declaring all the variables in the class as private and writing public methods in the class to set and get the values of variables.\n",
    "\n",
    "class test():\n",
    "    \n",
    "    def __init__(self,a,b):\n",
    "        self.a = a\n",
    "        self.b = b"
   ]
  },
  {
   "cell_type": "code",
   "execution_count": 16,
   "id": "ced66269",
   "metadata": {},
   "outputs": [],
   "source": [
    "t = test(4,5)\n"
   ]
  },
  {
   "cell_type": "code",
   "execution_count": 17,
   "id": "3ad8c70b",
   "metadata": {},
   "outputs": [],
   "source": [
    "t.a = 5477"
   ]
  },
  {
   "cell_type": "code",
   "execution_count": 18,
   "id": "7e9c46d0",
   "metadata": {},
   "outputs": [
    {
     "data": {
      "text/plain": [
       "5477"
      ]
     },
     "execution_count": 18,
     "metadata": {},
     "output_type": "execute_result"
    }
   ],
   "source": [
    "t.a"
   ]
  },
  {
   "cell_type": "code",
   "execution_count": 26,
   "id": "0c6e1373",
   "metadata": {},
   "outputs": [
    {
     "name": "stdout",
     "output_type": "stream",
     "text": [
      "Circle area: 234.0\n",
      "Rectangle area: 1200\n"
     ]
    }
   ],
   "source": [
    "#Q3. What is abc module in python? Why is it used?\n",
    "\n",
    "#abc module in python:\n",
    "#It is necessary to verify whether an object implements a given method or property, especially while creating a library where other developers make use of it. A developer can use hasattr or isinstance methods to check whether the input conforms to a particular identity. But sometimes it is inconvenient to use those methods to check a myriad of different properties and methods.    \n",
    "\n",
    "#Why is it used?\n",
    "#To understand the need to declare a virtual subclass, we need to consider the example of a list-like object where you don’t want to put a restriction of only considering list or tuple. Before that let’s see how to use isinstance to check against a list or tuple of class. \n",
    "\n",
    "from abc import ABC, abstractmethod\n",
    "\n",
    "class Shape(ABC):\n",
    "    @abstractmethod\n",
    "    def area(self):\n",
    "        pass\n",
    "\n",
    "class Circle(Shape):\n",
    "    def __init__(self, radius):\n",
    "        self.radius = radius\n",
    "\n",
    "    def area(self):\n",
    "        return 2.34 * (self.radius ** 2)\n",
    "\n",
    "class Rectangle(Shape):\n",
    "    def __init__(self, length, width):\n",
    "        self.length = length\n",
    "        self.width = width\n",
    "\n",
    "    def area(self):\n",
    "        return self.length * self.width\n",
    "\n",
    "circle = Circle(10)\n",
    "rectangle = Rectangle(40, 30)\n",
    "\n",
    "print(\"Circle area:\", circle.area())\n",
    "print(\"Rectangle area:\", rectangle.area())\n"
   ]
  },
  {
   "cell_type": "code",
   "execution_count": 20,
   "id": "d1e832b6",
   "metadata": {},
   "outputs": [],
   "source": [
    "#Q4. How can we achieve data abstraction?\n",
    "#There are two main ways to achieve abstraction in Python:\n",
    "\n",
    "#Abstract Base Classes (ABCs): This is a mechanism provided by the abc module in Python, which allows you to define an abstract base class that cannot be instantiated. Subclasses of the abstract base class must provide implementations for the abstract methods defined in the base class. This helps to enforce an interface and to ensure that the subclasses are properly implemented.\n",
    "\n",
    "#Encapsulation: This is a technique of wrapping data and functions that operate on the data within a single unit or object. Encapsulation provides a way to hide the internal details of an object and to expose only the methods and properties that are necessary for the user to interact with the object.\n",
    "\n",
    "#Both abstract base classes and encapsulation can be used together to achieve abstraction in Python. For example, you can define an abstract base class to define an interface, and then you can use encapsulation to hide the implementation details of the concrete subclasses that implement the interface."
   ]
  },
  {
   "cell_type": "code",
   "execution_count": 23,
   "id": "753dce65",
   "metadata": {},
   "outputs": [
    {
     "ename": "TypeError",
     "evalue": "Can't instantiate abstract class Shape with abstract method place",
     "output_type": "error",
     "traceback": [
      "\u001b[1;31m---------------------------------------------------------------------------\u001b[0m",
      "\u001b[1;31mTypeError\u001b[0m                                 Traceback (most recent call last)",
      "\u001b[1;32mC:\\Users\\RAMCHA~1\\AppData\\Local\\Temp/ipykernel_17064/997901368.py\u001b[0m in \u001b[0;36m<module>\u001b[1;34m\u001b[0m\n\u001b[0;32m     17\u001b[0m \u001b[1;31m# Attempting to create an instance of the abstract class\u001b[0m\u001b[1;33m\u001b[0m\u001b[1;33m\u001b[0m\u001b[0m\n\u001b[0;32m     18\u001b[0m \u001b[1;31m# will result in a TypeError\u001b[0m\u001b[1;33m\u001b[0m\u001b[1;33m\u001b[0m\u001b[0m\n\u001b[1;32m---> 19\u001b[1;33m \u001b[0mshape\u001b[0m \u001b[1;33m=\u001b[0m \u001b[0mShape\u001b[0m\u001b[1;33m(\u001b[0m\u001b[1;33m)\u001b[0m  \u001b[1;31m# TypeError: Can't instantiate abstract class Shape with abstract methods area\u001b[0m\u001b[1;33m\u001b[0m\u001b[1;33m\u001b[0m\u001b[0m\n\u001b[0m",
      "\u001b[1;31mTypeError\u001b[0m: Can't instantiate abstract class Shape with abstract method place"
     ]
    }
   ],
   "source": [
    "#Q5. Can we create an instance of an abstract class? Explain your answer.\n",
    "\n",
    "#No, you cannot create an instance of an abstract class in Python. An abstract class is intended to be a base class that cannot be instantiated on its own. Instead, you should define concrete subclasses that inherit from the abstract class and provide implementations for the abstract methods defined in the abstract class.\n",
    "\n",
    "#In Python, you can define an abstract class using the abc module and marking the abstract methods with the @abstractmethod decorator. When you attempt to create an instance of an abstract class, you will receive a TypeError indicating that the abstract class cannot be instantiated directly.\n",
    "\n",
    "\n",
    "\n",
    "# Here's an example:\n",
    "from abc import ABC, abstractmethod\n",
    "\n",
    "class location(ABC):\n",
    "    @abstractmethod\n",
    "    def place(self):\n",
    "        pass\n",
    "\n",
    "# Attempting to create an instance of the abstract class\n",
    "# will result in a TypeError\n",
    "shape = Shape()  # TypeError: Can't instantiate abstract class Shape with abstract methods area\n"
   ]
  },
  {
   "cell_type": "code",
   "execution_count": null,
   "id": "64b2d4d5",
   "metadata": {},
   "outputs": [],
   "source": []
  }
 ],
 "metadata": {
  "kernelspec": {
   "display_name": "Python 3 (ipykernel)",
   "language": "python",
   "name": "python3"
  },
  "language_info": {
   "codemirror_mode": {
    "name": "ipython",
    "version": 3
   },
   "file_extension": ".py",
   "mimetype": "text/x-python",
   "name": "python",
   "nbconvert_exporter": "python",
   "pygments_lexer": "ipython3",
   "version": "3.9.7"
  }
 },
 "nbformat": 4,
 "nbformat_minor": 5
}
