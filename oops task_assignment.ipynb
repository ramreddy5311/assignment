{
 "cells": [
  {
   "cell_type": "code",
   "execution_count": 12,
   "id": "695cf822",
   "metadata": {},
   "outputs": [],
   "source": [
    "#Q1, Create a vehicle class with an init method having instance variables as name_of_vehicle, max_speed\n",
    "#and average_of_vehicle.\n",
    "\n",
    "class vehicle():\n",
    "    \n",
    "    \n",
    "    def __init__(self,name_of_vehicle,max_speed,average_of_vehicle):\n",
    "        self.name_of_vehicle = name_of_vehicle\n",
    "        self.max_speed = max_speed\n",
    "        self.average_of_vehicle = average_of_vehicle\n",
    "        \n",
    "    def details(self,name_of_vehicle,max_speed,average_of_vehicle):\n",
    "        print(self.name_of_vehicle,self.max_speed,self.average_of_vehicle)\n",
    "        \n",
    "        \n",
    "\n"
   ]
  },
  {
   "cell_type": "code",
   "execution_count": 13,
   "id": "f3739814",
   "metadata": {},
   "outputs": [],
   "source": [
    "car = vehicle(\"fortuner\",100,2)"
   ]
  },
  {
   "cell_type": "code",
   "execution_count": 14,
   "id": "fa901f6e",
   "metadata": {},
   "outputs": [
    {
     "name": "stdout",
     "output_type": "stream",
     "text": [
      "fortuner 100 2\n"
     ]
    }
   ],
   "source": [
    "car.details(\"fortuner\",100,2)"
   ]
  },
  {
   "cell_type": "code",
   "execution_count": 15,
   "id": "e8243eaa",
   "metadata": {},
   "outputs": [],
   "source": [
    "#Q2. Create a child class car from the vehicle class created in Que 1, which will inherit the vehicle class.\n",
    "#Create a method named seating_capacity which takes capacity as an argument and returns the name of\n",
    "#the vehicle and its seating capacity.\n",
    "\n",
    "\n",
    "class car(vehicle):\n",
    "    \n",
    "    \n",
    "    def seating_capacity(self,seating_capacity):\n",
    "        self.seating_capacity = seating_capacity\n",
    "        return self.name_of_vehicle , seating_capacity\n",
    "        \n"
   ]
  },
  {
   "cell_type": "code",
   "execution_count": 17,
   "id": "8554ac29",
   "metadata": {},
   "outputs": [],
   "source": [
    "c = car(\"innova\",2,4)"
   ]
  },
  {
   "cell_type": "code",
   "execution_count": 20,
   "id": "3bbea593",
   "metadata": {},
   "outputs": [
    {
     "data": {
      "text/plain": [
       "('innova', 7)"
      ]
     },
     "execution_count": 20,
     "metadata": {},
     "output_type": "execute_result"
    }
   ],
   "source": [
    "c.seating_capacity(7)"
   ]
  },
  {
   "cell_type": "code",
   "execution_count": 29,
   "id": "b97556bd",
   "metadata": {},
   "outputs": [
    {
     "name": "stdout",
     "output_type": "stream",
     "text": [
      "this is a sports car\n",
      "it is best for the indian roads\n",
      "it is best for the driving comfort\n"
     ]
    }
   ],
   "source": [
    "#Q3. What is multiple inheritance? Write a python code to demonstrate multiple inheritance.\n",
    "\n",
    "#MULTIPLE INHERITANCE\n",
    "#Multiple inheritance is a feature of some object-oriented computer programming languages in which an object or class can inherit features from more than one parent object or parent class. It is distinct from single inheritance, where an object or class may only inherit from one particular object or class.\n",
    "\n",
    "class car():\n",
    "    car = \"sports car\"\n",
    "    print(\"this is a sports car\")\n",
    "    \n",
    "class car1():\n",
    "    car1 = \"suv\"\n",
    "    print(\"it is best for the indian roads\")\n",
    "    \n",
    "class car2():\n",
    "    car2 = \"sedan\"\n",
    "    print(\"it is best for the driving comfort\")\n",
    "    \n",
    "class car3(car,car1,car2):\n",
    "    \n",
    "    name = \"ram\"\n",
    "pass   \n",
    "    \n",
    "    \n"
   ]
  },
  {
   "cell_type": "code",
   "execution_count": 46,
   "id": "c25e026d",
   "metadata": {},
   "outputs": [],
   "source": [
    "#Q4. What are getter and setter in python? Create a class and create a getter and a setter method in this\n",
    "#class.\n",
    "\n",
    "#In Python, getters and setters are not the same as those in other object-oriented programming languages. Basically, the main purpose of using getters and setters in object-oriented programs is to ensure data encapsulation. Private variables in python are not actually hidden fields like in other object oriented languages. Getters and Setters in python are often used when:\n",
    "\n",
    "#We use getters & setters to add validation logic around getting and setting a value.\n",
    "#To avoid direct access of a class field i.e. private variables cannot be accessed directly or modified by external user.\n",
    "\n",
    "\n",
    "class mru():\n",
    "    \n",
    "    def __init__(self,name,phone_number):\n",
    "        self.name = name\n",
    "        self.phone_number = phone_number\n",
    "    \n",
    "    \n",
    "    def student_details(self,name,phone_number):\n",
    "        self.name = name\n",
    "        self.phone_number = phone_number\n",
    "        \n",
    "    def get_details(self,name,phone_number):\n",
    "        return self.name,self.phone_number\n",
    "    \n",
    "    def set_deatils(self,name,phone_number):\n",
    "        return self.name,self.phone_number\n",
    "\n"
   ]
  },
  {
   "cell_type": "code",
   "execution_count": 47,
   "id": "696528eb",
   "metadata": {},
   "outputs": [],
   "source": [
    "m = mru(\"ram\",65868585)"
   ]
  },
  {
   "cell_type": "code",
   "execution_count": 51,
   "id": "a20cb620",
   "metadata": {},
   "outputs": [
    {
     "data": {
      "text/plain": [
       "('ram', 747686)"
      ]
     },
     "execution_count": 51,
     "metadata": {},
     "output_type": "execute_result"
    }
   ],
   "source": [
    "m.set_deatils(\"ram\",65868585)"
   ]
  },
  {
   "cell_type": "code",
   "execution_count": 53,
   "id": "bf621cbb",
   "metadata": {},
   "outputs": [
    {
     "data": {
      "text/plain": [
       "('ram', 747686)"
      ]
     },
     "execution_count": 53,
     "metadata": {},
     "output_type": "execute_result"
    }
   ],
   "source": [
    "m.get_details(\"ram\",65868585)"
   ]
  },
  {
   "cell_type": "code",
   "execution_count": 14,
   "id": "c832d6b8",
   "metadata": {},
   "outputs": [],
   "source": [
    "#Q5.What is method overriding in python? Write a python code to demonstrate method overriding.\n",
    "\n",
    "#Two or more methods have the same name but different numbers of parameters or different types of parameters, or both. These methods are called overloaded methods and this is called method overloading. \n",
    "\n",
    "class num():\n",
    "    \n",
    "    def __init__(self,num1,num2):\n",
    "        self.num1 = num1\n",
    "        self.num2 = num2\n",
    "        \n",
    "    def result(self,num1,num2):\n",
    "        return self.num1+self.num2"
   ]
  },
  {
   "cell_type": "code",
   "execution_count": 15,
   "id": "6e07fd3e",
   "metadata": {},
   "outputs": [],
   "source": [
    "n = num(4+5,5)"
   ]
  },
  {
   "cell_type": "code",
   "execution_count": 16,
   "id": "870b1d07",
   "metadata": {},
   "outputs": [
    {
     "data": {
      "text/plain": [
       "14"
      ]
     },
     "execution_count": 16,
     "metadata": {},
     "output_type": "execute_result"
    }
   ],
   "source": [
    "n.result(4+5,5)"
   ]
  },
  {
   "cell_type": "code",
   "execution_count": null,
   "id": "25234b5e",
   "metadata": {},
   "outputs": [],
   "source": []
  }
 ],
 "metadata": {
  "kernelspec": {
   "display_name": "Python 3 (ipykernel)",
   "language": "python",
   "name": "python3"
  },
  "language_info": {
   "codemirror_mode": {
    "name": "ipython",
    "version": 3
   },
   "file_extension": ".py",
   "mimetype": "text/x-python",
   "name": "python",
   "nbconvert_exporter": "python",
   "pygments_lexer": "ipython3",
   "version": "3.9.7"
  }
 },
 "nbformat": 4,
 "nbformat_minor": 5
}
